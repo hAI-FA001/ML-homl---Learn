{
 "cells": [
  {
   "cell_type": "markdown",
   "metadata": {},
   "source": [
    "# Perceptron"
   ]
  },
  {
   "cell_type": "markdown",
   "metadata": {},
   "source": [
    "#### Artificial Neuron\n",
    "- has >= 1 binary inputs and 1 binary output\n",
    "- Can perform logical computations\n",
    "- AND, OR, NOT, etc\n",
    "\n",
    "#### Threshold Logic Unit or Linear Threshold Unit\n",
    "- Inputs and outputs are numbers instead of binary\n",
    "- Computes a linear function/weighted sum\n",
    "- Applies a step function\n",
    "  - most common is Heaviside step function\n",
    "  - i.e. h(z) = 0 if z < 0 else 1\n",
    "- Can perform linear binary clf\n",
    "\n",
    "#### Perceptron\n",
    "- Composed of 1 or more TLUs in a single layer\n",
    "- Every TLU is connected to every input\n",
    "- Makes a <b>Fully Connected</b> or <b>Dennse</b> Layer\n",
    "- Can perform multi-label and multi-class clf"
   ]
  },
  {
   "cell_type": "markdown",
   "metadata": {},
   "source": [
    "#### Training Perceptrons\n",
    "- Based on <b>Hebb's rule</b> or <b>Hebbian Learning</b>\n",
    "  - States that if a neuron often triggers another neuron, the connection b/w these 2 grows stronger\n",
    "- Perceptron learning rule takes error into account\n",
    "  - Reinforces connections that reduce error\n",
    "- w<sup>(next step)</sup><sub>i,j</sub> = w<sub>i,j</sub> + eta * (y<sub>j</sub> - yhat<sub>j</sub>) * x<sub>i</sub>\n",
    "\n",
    "#### Perceptron Convergence Theorem\n",
    " - If instances are linearly separable, this algo will converge to a solution"
   ]
  },
  {
   "cell_type": "code",
   "execution_count": 1,
   "metadata": {},
   "outputs": [
    {
     "data": {
      "text/plain": [
       "array([ True, False])"
      ]
     },
     "execution_count": 1,
     "metadata": {},
     "output_type": "execute_result"
    }
   ],
   "source": [
    "import numpy as np\n",
    "from sklearn.datasets import load_iris\n",
    "from sklearn.linear_model import Perceptron\n",
    "\n",
    "iris = load_iris(as_frame=True)\n",
    "X = iris.data[['petal length (cm)', 'petal width (cm)']].values\n",
    "y = (iris.target == 0)  # Iris Setosa\n",
    "\n",
    "p_clf = Perceptron(random_state=42)\n",
    "p_clf.fit(X, y)\n",
    "\n",
    "X_new = [[2, 0.5], [3, 1]]\n",
    "y_pred = p_clf.predict(X_new)\n",
    "y_pred"
   ]
  },
  {
   "cell_type": "code",
   "execution_count": 2,
   "metadata": {},
   "outputs": [
    {
     "data": {
      "text/plain": [
       "array([ True, False])"
      ]
     },
     "execution_count": 2,
     "metadata": {},
     "output_type": "execute_result"
    }
   ],
   "source": [
    "from sklearn.linear_model import SGDClassifier\n",
    "\n",
    "# prev perceptron is equivalent to this\n",
    "sgd_clf = SGDClassifier(loss='perceptron', learning_rate='constant', eta0=1, penalty=None)\n",
    "sgd_clf.fit(X, y)\n",
    "sgd_clf.predict(X_new)"
   ]
  },
  {
   "cell_type": "markdown",
   "metadata": {},
   "source": [
    "Perceptrons don't output a class proba unlike Logistic Regression, so LR is preferred for this reason.\n",
    "<br>Perceptrons also don't use any regularization by default and training stops when there are no errors on training set, so they don't generalize as well as LR or linear SVM clf.\n",
    "<br>But Perceptrons may train faster"
   ]
  },
  {
   "cell_type": "markdown",
   "metadata": {},
   "source": [
    "#### Multi-Layer Perceptron\n",
    "- Stacking multiple perceptrons\n",
    "- Solves XOR problem and limitations of Perceptron\n",
    "- Signal flows in 1 direction (inputs to outputs), so this architecture is a <b>Feed-Forward Network</b>\n",
    "- When ANN has a deep stack of hidden layers, it's a <b>Deep Nerual Network</b>\n",
    "\n",
    "#### Reverse-Mode Automatic Differentiation\n",
    "- reverse-mode autodiff\n",
    "- For training, we can use gradients.\n",
    "- For finding gradients w.r.t all params efficiently, we have this algo.\n",
    "- In 2 passes (forward and backward), it can compute gradients of error w.r.t every model parameter\n",
    "- This algo when used with gradient descent is called <b>backpropagation</b>\n",
    "- This is done efficiently by storing intermediate results/outputs of each neuron and by using <b>chain rule</b>\n",
    "\n",
    "There are different autodiff techniques\n",
    "<br>Reverse-mode autodiff is well-suited when function has many variables and few outputs\n",
    " - connection, weights, biases -> many inputs\n",
    " - one loss -> few outputs\n",
    "\n",
    "Backprop can be applied to all kinds of computational graphs, not just NNs."
   ]
  },
  {
   "cell_type": "markdown",
   "metadata": {},
   "source": [
    "Important to init all HL's connection weights randomly or <b>training will fail</b>\n",
    "<br>E.g., if all w and b are init to 0, then all neurons in a layer will be identical and backprop will affect them in the same way which means model acts as if there's only 1 neuron per layer.\n",
    "<br>Randomly initializing wights is used to <b>break the symmetry</b>"
   ]
  },
  {
   "cell_type": "markdown",
   "metadata": {},
   "source": [
    "#### Activation Functions\n",
    "- We replace step function with logistic/sigmoid function as step function only contains flat segments, so there are no gradients to work with.\n",
    "- Other choices:\n",
    "  - tanh(z) = 2 * sigmoid(2 * z) - 1\n",
    "    - like sigmoid but is b/w -1 to +1\n",
    "    - this range makes each layer's output centered around 0 at beginning, which <b>speeds up convergence</b>\n",
    "  - ReLU(z) = max(0, z)\n",
    "    - Works well, fast to compute\n",
    "    - It's the default choice\n",
    "    - It doesn't have a maximum output value, which solves some issues in gradient descent"
   ]
  },
  {
   "cell_type": "code",
   "execution_count": 3,
   "metadata": {},
   "outputs": [
    {
     "data": {
      "image/png": "[encoded data removed]",
      "text/plain": [
       "<Figure size 640x480 with 1 Axes>"
      ]
     },
     "metadata": {},
     "output_type": "display_data"
    }
   ],
   "source": [
    "import matplotlib.pyplot as plt\n",
    "\n",
    "X = np.arange(-5, 5).reshape(-1, 1)\n",
    "y_sig = 1. / (1. + np.exp(-X))\n",
    "y_tanh = np.tanh(X)\n",
    "y_relu = X.copy()\n",
    "y_relu[X < 0] = 0\n",
    "\n",
    "plt.plot(X, y_sig, label='Sigmoid')\n",
    "plt.plot(X, y_tanh, label='Tanh')\n",
    "plt.plot(X, y_relu, label='ReLU')\n",
    "plt.legend()\n",
    "plt.ylim(-1, 2)\n",
    "plt.show()"
   ]
  },
  {
   "cell_type": "markdown",
   "metadata": {},
   "source": [
    "# Regression MLPs"
   ]
  },
  {
   "cell_type": "code",
   "execution_count": 4,
   "metadata": {},
   "outputs": [
    {
     "data": {
      "text/plain": [
       "0.5053326657968756"
      ]
     },
     "execution_count": 4,
     "metadata": {},
     "output_type": "execute_result"
    }
   ],
   "source": [
    "from sklearn.datasets import fetch_california_housing\n",
    "from sklearn.metrics import root_mean_squared_error\n",
    "from sklearn.model_selection import train_test_split\n",
    "from sklearn.neural_network import MLPRegressor\n",
    "from sklearn.pipeline import make_pipeline\n",
    "from sklearn.preprocessing import StandardScaler\n",
    "\n",
    "housing = fetch_california_housing()\n",
    "X_tr_full, X_ts, y_tr_full, y_ts = train_test_split(housing.data, housing.target, random_state=42)\n",
    "X_tr, X_val, y_tr, y_val = train_test_split(X_tr_full, y_tr_full, random_state=42)\n",
    "\n",
    "mlp_reg = MLPRegressor(hidden_layer_sizes=[50, 50, 50], random_state=42)\n",
    "\n",
    "# important to standardize the features\n",
    "# or Gradient Descent won't converge well when features have different scales\n",
    "pipe = make_pipeline(StandardScaler(), mlp_reg)\n",
    "pipe.fit(X_tr, y_tr)\n",
    "\n",
    "y_pred = pipe.predict(X_val)\n",
    "rmse = root_mean_squared_error(y_val, y_pred)\n",
    "rmse"
   ]
  },
  {
   "cell_type": "markdown",
   "metadata": {},
   "source": [
    "In above, MLP doesn't use any activation function for output layer.\n",
    "<br>To guarantee that the output is +ve, we should use ReLU or <b>softplus</b> activation function\n",
    "<br>Softplus is a smooth variant of ReLU: log(1 + e<sup>z</sup>)"
   ]
  },
  {
   "cell_type": "code",
   "execution_count": 5,
   "metadata": {},
   "outputs": [
    {
     "data": {
      "image/png": "[encoded data removed]",
      "text/plain": [
       "<Figure size 640x480 with 1 Axes>"
      ]
     },
     "metadata": {},
     "output_type": "display_data"
    }
   ],
   "source": [
    "y_softplus = np.log(1. + np.exp(X))\n",
    "\n",
    "plt.plot(X, y_softplus, label='Softplus')\n",
    "plt.legend()\n",
    "plt.show()"
   ]
  },
  {
   "cell_type": "markdown",
   "metadata": {},
   "source": [
    "To guarantee output is within given range of values, use sigmoid or tanh.\n",
    "\n",
    "<br>MLPRegressor doesn't support activation functions in output layer\n",
    "<br>Making MLP using sklearn is convenient, but NN features are limited, so Keras is used."
   ]
  },
  {
   "cell_type": "markdown",
   "metadata": {},
   "source": [
    "### Huber Loss\n",
    "Conbination of MSE and MAE\n",
    "<br>Use when outliers, cuz MSE is sensitive to them\n",
    "\n",
    "<br>It's quadratic when error is smaller than a threshold (typically 1)\n",
    "<br>It's linear when error is larger than threshold\n",
    "\n",
    "Linear part makes it less sensitive to outliers than MSE\n",
    "<br>Quadratic part makes it converge faster + more precise than MAE\n",
    "\n",
    "MLPRegressor only supports MSE"
   ]
  },
  {
   "cell_type": "markdown",
   "metadata": {},
   "source": [
    "# Classification MLPs\n",
    "- Binary clf -> use sigmoid\n",
    "  - output proba is proba of +ve class\n",
    "  - 1 minus output proba is proba of -ve class\n",
    "- multilabel binary clf -> 1 output neuron per label, all using sigmoid\n",
    "  - output proba of all output neurons won't add up to 1\n",
    "    - cuz each output is a separate clf problem\n",
    "    - so we can have combinations like spam/ham + urgent/non-urgent\n",
    "- if each instance only belongs to 1 of >= 3 classes -> use softmax\n",
    "  - multi-class clf\n",
    "  - softmax makes all proba add up to 1\n",
    "  - apply it to whole output layer\n",
    "- loss -> cross-entropy, x-entropy or log-loss is good choice for predicting proba dsts"
   ]
  },
  {
   "cell_type": "code",
   "execution_count": 6,
   "metadata": {},
   "outputs": [
    {
     "data": {
      "text/plain": [
       "1.0"
      ]
     },
     "execution_count": 6,
     "metadata": {},
     "output_type": "execute_result"
    }
   ],
   "source": [
    "from sklearn.neural_network import MLPClassifier\n",
    "from sklearn.metrics import accuracy_score\n",
    "\n",
    "X = iris.data[['petal length (cm)', 'petal width (cm)']].values\n",
    "y = (iris.target == 0)  # Iris Setosa\n",
    "\n",
    "mlp_clf = MLPClassifier([10], max_iter=1000, random_state=42)\n",
    "mlp_clf.fit(X, y)\n",
    "y_pred = mlp_clf.predict(X)\n",
    "\n",
    "accuracy_score(y, y_pred)"
   ]
  },
  {
   "cell_type": "markdown",
   "metadata": {},
   "source": [
    "# MLPs in Keras\n",
    "- Keras used to support multiple backends\n",
    "  - Incl <b>TF</b>, PlaidML, Theano, MS Cognitive Toolkit (CNTK)\n",
    "    - (the last 2 are deprecated)\n",
    "- Since ver 2.4, Keras is TF-only\n",
    "- Similarly, TF used to incl multiple high-level APIs, but Keras was officially chosen in TF 2\n",
    "- Installing TF also installs Keras, and Keras doesn't work w/o TF\n",
    "- Other Popular DL libs: <b>PyTorch</b> from Facebook, <b>JAX</b> by Google"
   ]
  },
  {
   "cell_type": "markdown",
   "metadata": {},
   "source": [
    "### Image Clf using Sequential API"
   ]
  },
  {
   "cell_type": "code",
   "execution_count": 8,
   "metadata": {},
   "outputs": [
    {
     "name": "stdout",
     "output_type": "stream",
     "text": [
      "Downloading data from https://storage.googleapis.com/tensorflow/tf-keras-datasets/train-labels-idx1-ubyte.gz\n",
      "\u001b[1m29515/29515\u001b[0m \u001b[32m━━━━━━━━━━━━━━━━━━━━\u001b[0m\u001b[37m\u001b[0m \u001b[1m0s\u001b[0m 3us/step\n",
      "Downloading data from https://storage.googleapis.com/tensorflow/tf-keras-datasets/train-images-idx3-ubyte.gz\n",
      "\u001b[1m26421880/26421880\u001b[0m \u001b[32m━━━━━━━━━━━━━━━━━━━━\u001b[0m\u001b[37m\u001b[0m \u001b[1m12s\u001b[0m 0us/step\n",
      "Downloading data from https://storage.googleapis.com/tensorflow/tf-keras-datasets/t10k-labels-idx1-ubyte.gz\n",
      "\u001b[1m5148/5148\u001b[0m \u001b[32m━━━━━━━━━━━━━━━━━━━━\u001b[0m\u001b[37m\u001b[0m \u001b[1m0s\u001b[0m 0s/step\n",
      "Downloading data from https://storage.googleapis.com/tensorflow/tf-keras-datasets/t10k-images-idx3-ubyte.gz\n",
      "\u001b[1m4422102/4422102\u001b[0m \u001b[32m━━━━━━━━━━━━━━━━━━━━\u001b[0m\u001b[37m\u001b[0m \u001b[1m2s\u001b[0m 0us/step\n"
     ]
    }
   ],
   "source": [
    "import tensorflow as tf\n",
    "\n",
    "fashion_mnist = tf.keras.datasets.fashion_mnist.load_data()\n",
    "(X_tr_full, y_tr_full), (X_ts, y_ts) = fashion_mnist\n",
    "X_tr, y_tr = X_tr_full[:-5000], y_tr_full[:-5000]\n",
    "X_val, y_val = X_tr_full[-5000:], y_tr_full[-5000:]"
   ]
  },
  {
   "cell_type": "code",
   "execution_count": 9,
   "metadata": {},
   "outputs": [
    {
     "data": {
      "text/plain": [
       "((55000, 28, 28), dtype('uint8'))"
      ]
     },
     "execution_count": 9,
     "metadata": {},
     "output_type": "execute_result"
    }
   ],
   "source": [
    "# difference from sklearn: Shape is 2D and dtype is int rather than float\n",
    "X_tr.shape, X_tr.dtype"
   ]
  },
  {
   "cell_type": "code",
   "execution_count": 10,
   "metadata": {},
   "outputs": [],
   "source": [
    "# scale b/w 0-1 and convert to float\n",
    "X_tr, X_val, X_ts = X_tr / 255., X_val / 255., X_ts / 255."
   ]
  },
  {
   "cell_type": "code",
   "execution_count": 11,
   "metadata": {},
   "outputs": [
    {
     "data": {
      "text/plain": [
       "'Ankle Boot'"
      ]
     },
     "execution_count": 11,
     "metadata": {},
     "output_type": "execute_result"
    }
   ],
   "source": [
    "cls_names = [\"T-shirt/top\", \"Trouser\", \"Pullover\", \"Dress\", \"Coat\",\n",
    "             \"Sandal\", \"Shirt\", \"Sneaker\", \"Bag\", \"Ankle Boot\"]\n",
    "cls_names[y_tr[0]]"
   ]
  },
  {
   "cell_type": "code",
   "execution_count": 24,
   "metadata": {},
   "outputs": [
    {
     "data": {
      "image/png": "[encoded data removed]",
      "text/plain": [
       "<Figure size 2000x1000 with 40 Axes>"
      ]
     },
     "metadata": {},
     "output_type": "display_data"
    }
   ],
   "source": [
    "f = plt.figure(figsize=(20,10))\n",
    "\n",
    "plt.gray()\n",
    "for i in range(40):\n",
    "    a = f.add_subplot(4, 10, i+1)\n",
    "    a.matshow(X_tr[i])\n",
    "    a.set_title(cls_names[y_tr[i]])\n",
    "\n",
    "plt.show()"
   ]
  },
  {
   "cell_type": "code",
   "execution_count": 25,
   "metadata": {},
   "outputs": [],
   "source": [
    "# tf.random.set_seed(42)\n",
    "# sets seeds for TF, Python, Numpy\n",
    "tf.keras.utils.set_random_seed(42)\n",
    "\n",
    "model = tf.keras.Sequential()\n",
    "model.add(tf.keras.layers.Input(shape=[28, 28]))  # input size doesn't incluce batch size\n",
    "model.add(tf.keras.layers.Flatten())\n",
    "model.add(tf.keras.layers.Dense(300, activation='relu'))\n",
    "model.add(tf.keras.layers.Dense(100, activation=tf.keras.activations.relu))\n",
    "model.add(tf.keras.layers.Dense(10, activation='softmax'))"
   ]
  },
  {
   "cell_type": "code",
   "execution_count": 26,
   "metadata": {},
   "outputs": [
    {
     "name": "stderr",
     "output_type": "stream",
     "text": [
      "c:\\dev\\miniconda\\envs\\homl-learn\\Lib\\site-packages\\keras\\src\\layers\\reshaping\\flatten.py:37: UserWarning: Do not pass an `input_shape`/`input_dim` argument to a layer. When using Sequential models, prefer using an `Input(shape)` object as the first layer in the model instead.\n",
      "  super().__init__(**kwargs)\n"
     ]
    }
   ],
   "source": [
    "# can do it this way too\n",
    "model = tf.keras.Sequential([\n",
    "    # can drop Input and specify input_shape in first layer\n",
    "    tf.keras.layers.Flatten(input_shape=[28,28]),\n",
    "    tf.keras.layers.Dense(300, activation='relu'),\n",
    "    tf.keras.layers.Dense(100, activation=tf.keras.activations.relu),\n",
    "    tf.keras.layers.Dense(10, activation='softmax')\n",
    "])"
   ]
  },
  {
   "cell_type": "code",
   "execution_count": 27,
   "metadata": {},
   "outputs": [
    {
     "data": {
      "text/html": [
       "<pre style=\"white-space:pre;overflow-x:auto;line-height:normal;font-family:Menlo,'DejaVu Sans Mono',consolas,'Courier New',monospace\"><span style=\"font-weight: bold\">Model: \"sequential_1\"</span>\n",
       "</pre>\n"
      ],
      "text/plain": [
       "\u001b[1mModel: \"sequential_1\"\u001b[0m\n"
      ]
     },
     "metadata": {},
     "output_type": "display_data"
    },
    {
     "data": {
      "text/html": [
       "<pre style=\"white-space:pre;overflow-x:auto;line-height:normal;font-family:Menlo,'DejaVu Sans Mono',consolas,'Courier New',monospace\">┏━━━━━━━━━━━━━━━━━━━━━━━━━━━━━━━━━┳━━━━━━━━━━━━━━━━━━━━━━━━┳━━━━━━━━━━━━━━━┓\n",
       "┃<span style=\"font-weight: bold\"> Layer (type)                    </span>┃<span style=\"font-weight: bold\"> Output Shape           </span>┃<span style=\"font-weight: bold\">       Param # </span>┃\n",
       "┡━━━━━━━━━━━━━━━━━━━━━━━━━━━━━━━━━╇━━━━━━━━━━━━━━━━━━━━━━━━╇━━━━━━━━━━━━━━━┩\n",
       "│ flatten_1 (<span style=\"color: #0087ff; text-decoration-color: #0087ff\">Flatten</span>)             │ (<span style=\"color: #00d7ff; text-decoration-color: #00d7ff\">None</span>, <span style=\"color: #00af00; text-decoration-color: #00af00\">784</span>)            │             <span style=\"color: #00af00; text-decoration-color: #00af00\">0</span> │\n",
       "├─────────────────────────────────┼────────────────────────┼───────────────┤\n",
       "│ dense_3 (<span style=\"color: #0087ff; text-decoration-color: #0087ff\">Dense</span>)                 │ (<span style=\"color: #00d7ff; text-decoration-color: #00d7ff\">None</span>, <span style=\"color: #00af00; text-decoration-color: #00af00\">300</span>)            │       <span style=\"color: #00af00; text-decoration-color: #00af00\">235,500</span> │\n",
       "├─────────────────────────────────┼────────────────────────┼───────────────┤\n",
       "│ dense_4 (<span style=\"color: #0087ff; text-decoration-color: #0087ff\">Dense</span>)                 │ (<span style=\"color: #00d7ff; text-decoration-color: #00d7ff\">None</span>, <span style=\"color: #00af00; text-decoration-color: #00af00\">100</span>)            │        <span style=\"color: #00af00; text-decoration-color: #00af00\">30,100</span> │\n",
       "├─────────────────────────────────┼────────────────────────┼───────────────┤\n",
       "│ dense_5 (<span style=\"color: #0087ff; text-decoration-color: #0087ff\">Dense</span>)                 │ (<span style=\"color: #00d7ff; text-decoration-color: #00d7ff\">None</span>, <span style=\"color: #00af00; text-decoration-color: #00af00\">10</span>)             │         <span style=\"color: #00af00; text-decoration-color: #00af00\">1,010</span> │\n",
       "└─────────────────────────────────┴────────────────────────┴───────────────┘\n",
       "</pre>\n"
      ],
      "text/plain": [
       "┏━━━━━━━━━━━━━━━━━━━━━━━━━━━━━━━━━┳━━━━━━━━━━━━━━━━━━━━━━━━┳━━━━━━━━━━━━━━━┓\n",
       "┃\u001b[1m \u001b[0m\u001b[1mLayer (type)                   \u001b[0m\u001b[1m \u001b[0m┃\u001b[1m \u001b[0m\u001b[1mOutput Shape          \u001b[0m\u001b[1m \u001b[0m┃\u001b[1m \u001b[0m\u001b[1m      Param #\u001b[0m\u001b[1m \u001b[0m┃\n",
       "┡━━━━━━━━━━━━━━━━━━━━━━━━━━━━━━━━━╇━━━━━━━━━━━━━━━━━━━━━━━━╇━━━━━━━━━━━━━━━┩\n",
       "│ flatten_1 (\u001b[38;5;33mFlatten\u001b[0m)             │ (\u001b[38;5;45mNone\u001b[0m, \u001b[38;5;34m784\u001b[0m)            │             \u001b[38;5;34m0\u001b[0m │\n",
       "├─────────────────────────────────┼────────────────────────┼───────────────┤\n",
       "│ dense_3 (\u001b[38;5;33mDense\u001b[0m)                 │ (\u001b[38;5;45mNone\u001b[0m, \u001b[38;5;34m300\u001b[0m)            │       \u001b[38;5;34m235,500\u001b[0m │\n",
       "├─────────────────────────────────┼────────────────────────┼───────────────┤\n",
       "│ dense_4 (\u001b[38;5;33mDense\u001b[0m)                 │ (\u001b[38;5;45mNone\u001b[0m, \u001b[38;5;34m100\u001b[0m)            │        \u001b[38;5;34m30,100\u001b[0m │\n",
       "├─────────────────────────────────┼────────────────────────┼───────────────┤\n",
       "│ dense_5 (\u001b[38;5;33mDense\u001b[0m)                 │ (\u001b[38;5;45mNone\u001b[0m, \u001b[38;5;34m10\u001b[0m)             │         \u001b[38;5;34m1,010\u001b[0m │\n",
       "└─────────────────────────────────┴────────────────────────┴───────────────┘\n"
      ]
     },
     "metadata": {},
     "output_type": "display_data"
    },
    {
     "data": {
      "text/html": [
       "<pre style=\"white-space:pre;overflow-x:auto;line-height:normal;font-family:Menlo,'DejaVu Sans Mono',consolas,'Courier New',monospace\"><span style=\"font-weight: bold\"> Total params: </span><span style=\"color: #00af00; text-decoration-color: #00af00\">266,610</span> (1.02 MB)\n",
       "</pre>\n"
      ],
      "text/plain": [
       "\u001b[1m Total params: \u001b[0m\u001b[38;5;34m266,610\u001b[0m (1.02 MB)\n"
      ]
     },
     "metadata": {},
     "output_type": "display_data"
    },
    {
     "data": {
      "text/html": [
       "<pre style=\"white-space:pre;overflow-x:auto;line-height:normal;font-family:Menlo,'DejaVu Sans Mono',consolas,'Courier New',monospace\"><span style=\"font-weight: bold\"> Trainable params: </span><span style=\"color: #00af00; text-decoration-color: #00af00\">266,610</span> (1.02 MB)\n",
       "</pre>\n"
      ],
      "text/plain": [
       "\u001b[1m Trainable params: \u001b[0m\u001b[38;5;34m266,610\u001b[0m (1.02 MB)\n"
      ]
     },
     "metadata": {},
     "output_type": "display_data"
    },
    {
     "data": {
      "text/html": [
       "<pre style=\"white-space:pre;overflow-x:auto;line-height:normal;font-family:Menlo,'DejaVu Sans Mono',consolas,'Courier New',monospace\"><span style=\"font-weight: bold\"> Non-trainable params: </span><span style=\"color: #00af00; text-decoration-color: #00af00\">0</span> (0.00 B)\n",
       "</pre>\n"
      ],
      "text/plain": [
       "\u001b[1m Non-trainable params: \u001b[0m\u001b[38;5;34m0\u001b[0m (0.00 B)\n"
      ]
     },
     "metadata": {},
     "output_type": "display_data"
    }
   ],
   "source": [
    "model.summary()"
   ]
  },
  {
   "cell_type": "markdown",
   "metadata": {},
   "source": [
    "Dense layers have a ton of params.\n",
    "<br>Model has a lot of flexibility, and risk of overfitting when we don't have a lot of data"
   ]
  },
  {
   "cell_type": "markdown",
   "metadata": {},
   "source": [
    "Each layer must have a unique name.\n",
    "<br>We can set `name` in ctor, or let keras decide the name\n",
    "<br>Keras converts class name to snake case and ensures it's globally unique (even across models) by appending an index\n",
    "<br>Uniqueness helps in merging models w/o getting name conflicts\n",
    "\n",
    "Global state is stored in `Keras.session`\n",
    "<br>`tf.keras.backend.clear_session()` clears it, and resets the name counters"
   ]
  },
  {
   "cell_type": "code",
   "execution_count": 28,
   "metadata": {},
   "outputs": [
    {
     "data": {
      "text/plain": [
       "[<Flatten name=flatten_1, built=True>,\n",
       " <Dense name=dense_3, built=True>,\n",
       " <Dense name=dense_4, built=True>,\n",
       " <Dense name=dense_5, built=True>]"
      ]
     },
     "execution_count": 28,
     "metadata": {},
     "output_type": "execute_result"
    }
   ],
   "source": [
    "model.layers"
   ]
  },
  {
   "cell_type": "code",
   "execution_count": 29,
   "metadata": {},
   "outputs": [
    {
     "data": {
      "text/plain": [
       "'dense_3'"
      ]
     },
     "execution_count": 29,
     "metadata": {},
     "output_type": "execute_result"
    }
   ],
   "source": [
    "model.layers[1].name"
   ]
  },
  {
   "cell_type": "code",
   "execution_count": 30,
   "metadata": {},
   "outputs": [
    {
     "data": {
      "text/plain": [
       "True"
      ]
     },
     "execution_count": 30,
     "metadata": {},
     "output_type": "execute_result"
    }
   ],
   "source": [
    "model.get_layer('dense_3') is model.layers[1]"
   ]
  },
  {
   "cell_type": "code",
   "execution_count": 32,
   "metadata": {},
   "outputs": [
    {
     "data": {
      "text/plain": [
       "((784, 300), (300,))"
      ]
     },
     "execution_count": 32,
     "metadata": {},
     "output_type": "execute_result"
    }
   ],
   "source": [
    "# we can also set_weights\n",
    "w, b = model.layers[1].get_weights()\n",
    "w.shape, b.shape"
   ]
  },
  {
   "cell_type": "code",
   "execution_count": 34,
   "metadata": {},
   "outputs": [
    {
     "data": {
      "text/plain": [
       "(array([[ 0.04701172,  0.02030142,  0.00017369, ..., -0.05407985,\n",
       "         -0.05218757, -0.03243225],\n",
       "        [ 0.05967203,  0.00751173, -0.00814871, ...,  0.0057645 ,\n",
       "         -0.01201727, -0.03320028],\n",
       "        [ 0.06289387, -0.01109221, -0.00166835, ..., -0.06984416,\n",
       "          0.01197089,  0.01446974],\n",
       "        [ 0.06597224, -0.03898626,  0.05996667, ..., -0.04355659,\n",
       "          0.06092368,  0.05048899],\n",
       "        [ 0.06227322,  0.03095135,  0.0714377 , ...,  0.06860551,\n",
       "          0.06918132, -0.0228993 ]], dtype=float32),\n",
       " array([0., 0., 0., 0., 0.], dtype=float32))"
      ]
     },
     "execution_count": 34,
     "metadata": {},
     "output_type": "execute_result"
    }
   ],
   "source": [
    "# it initialized w randomly and b to 0\n",
    "w[:5], b[:5]"
   ]
  },
  {
   "cell_type": "markdown",
   "metadata": {},
   "source": [
    "We can set `kernel_initializer` or `bias_initializer` to change initialization\n",
    "  - kernel is another name for matrix of connection weights"
   ]
  },
  {
   "cell_type": "markdown",
   "metadata": {},
   "source": [
    "Specifying `input_shape` is good if we know it.\n",
    "<br>Otherwise, Keras waits until it's known (either when we feed data or when we call `build()`)\n",
    "<br>Until model params are built, we can't do certain things like `model.summary()` or saving the model"
   ]
  },
  {
   "cell_type": "code",
   "execution_count": 40,
   "metadata": {},
   "outputs": [],
   "source": [
    "model.compile(loss='sparse_categorical_crossentropy',\n",
    "              optimizer='sgd',\n",
    "              metrics=['accuracy'])\n",
    "# same as this\n",
    "model.compile(loss=tf.keras.losses.sparse_categorical_crossentropy,\n",
    "              optimizer=tf.keras.optimizers.SGD(),  # we call this\n",
    "              metrics=[tf.keras.metrics.sparse_categorical_accuracy])"
   ]
  },
  {
   "cell_type": "markdown",
   "metadata": {},
   "source": [
    "`sparse_categorical_crossentropy`\n",
    "  - cuz we have sparse labels\n",
    "    - for each instance, there is just a target class idx and classes are exclusive\n",
    "    - if we had 1 target proba per class (like one-hot vecs), we would need to use `categorical_crossentropy` instead\n",
    "  - Basically, we can either specify y=3 or y = [0 0 1 0 0 0 ...]\n",
    "    - y=3 is sparse \"way\" to specify target\n",
    "    - y=[0 0 1 0 0 0 ...] is dense \"way\", cuz we're storing all probas\n",
    "  - if we did binary clf or multilabel binary clf, we would use `sigmoid` and `binary_crossentropy` loss\n",
    "\n",
    "  We can convert b/w sparse labels to one-hot vec labels using `tf.keras.utils.to_categorical()`\n",
    "  <br>Vice versa conversion is done using `np.argmax()` with `axis=1`"
   ]
  },
  {
   "cell_type": "code",
   "execution_count": 41,
   "metadata": {},
   "outputs": [
    {
     "name": "stdout",
     "output_type": "stream",
     "text": [
      "Epoch 1/30\n",
      "\u001b[1m1719/1719\u001b[0m \u001b[32m━━━━━━━━━━━━━━━━━━━━\u001b[0m\u001b[37m\u001b[0m \u001b[1m4s\u001b[0m 2ms/step - loss: 0.2200 - sparse_categorical_accuracy: 0.9225 - val_loss: 0.3435 - val_sparse_categorical_accuracy: 0.8786\n",
      "Epoch 2/30\n",
      "\u001b[1m1719/1719\u001b[0m \u001b[32m━━━━━━━━━━━━━━━━━━━━\u001b[0m\u001b[37m\u001b[0m \u001b[1m3s\u001b[0m 2ms/step - loss: 0.2162 - sparse_categorical_accuracy: 0.9243 - val_loss: 0.3425 - val_sparse_categorical_accuracy: 0.8798\n",
      "Epoch 3/30\n",
      "\u001b[1m1719/1719\u001b[0m \u001b[32m━━━━━━━━━━━━━━━━━━━━\u001b[0m\u001b[37m\u001b[0m \u001b[1m3s\u001b[0m 2ms/step - loss: 0.2124 - sparse_categorical_accuracy: 0.9258 - val_loss: 0.3433 - val_sparse_categorical_accuracy: 0.8794\n",
      "Epoch 4/30\n",
      "\u001b[1m1719/1719\u001b[0m \u001b[32m━━━━━━━━━━━━━━━━━━━━\u001b[0m\u001b[37m\u001b[0m \u001b[1m5s\u001b[0m 3ms/step - loss: 0.2085 - sparse_categorical_accuracy: 0.9274 - val_loss: 0.3425 - val_sparse_categorical_accuracy: 0.8822\n",
      "Epoch 5/30\n",
      "\u001b[1m1719/1719\u001b[0m \u001b[32m━━━━━━━━━━━━━━━━━━━━\u001b[0m\u001b[37m\u001b[0m \u001b[1m3s\u001b[0m 2ms/step - loss: 0.2051 - sparse_categorical_accuracy: 0.9288 - val_loss: 0.3417 - val_sparse_categorical_accuracy: 0.8816\n",
      "Epoch 6/30\n",
      "\u001b[1m1719/1719\u001b[0m \u001b[32m━━━━━━━━━━━━━━━━━━━━\u001b[0m\u001b[37m\u001b[0m \u001b[1m3s\u001b[0m 2ms/step - loss: 0.2014 - sparse_categorical_accuracy: 0.9293 - val_loss: 0.3420 - val_sparse_categorical_accuracy: 0.8818\n",
      "Epoch 7/30\n",
      "\u001b[1m1719/1719\u001b[0m \u001b[32m━━━━━━━━━━━━━━━━━━━━\u001b[0m\u001b[37m\u001b[0m \u001b[1m3s\u001b[0m 2ms/step - loss: 0.1980 - sparse_categorical_accuracy: 0.9310 - val_loss: 0.3413 - val_sparse_categorical_accuracy: 0.8832\n",
      "Epoch 8/30\n",
      "\u001b[1m1719/1719\u001b[0m \u001b[32m━━━━━━━━━━━━━━━━━━━━\u001b[0m\u001b[37m\u001b[0m \u001b[1m3s\u001b[0m 2ms/step - loss: 0.1945 - sparse_categorical_accuracy: 0.9327 - val_loss: 0.3413 - val_sparse_categorical_accuracy: 0.8824\n",
      "Epoch 9/30\n",
      "\u001b[1m1719/1719\u001b[0m \u001b[32m━━━━━━━━━━━━━━━━━━━━\u001b[0m\u001b[37m\u001b[0m \u001b[1m3s\u001b[0m 2ms/step - loss: 0.1913 - sparse_categorical_accuracy: 0.9333 - val_loss: 0.3405 - val_sparse_categorical_accuracy: 0.8832\n",
      "Epoch 10/30\n",
      "\u001b[1m1719/1719\u001b[0m \u001b[32m━━━━━━━━━━━━━━━━━━━━\u001b[0m\u001b[37m\u001b[0m \u001b[1m3s\u001b[0m 2ms/step - loss: 0.1878 - sparse_categorical_accuracy: 0.9352 - val_loss: 0.3419 - val_sparse_categorical_accuracy: 0.8834\n",
      "Epoch 11/30\n",
      "\u001b[1m1719/1719\u001b[0m \u001b[32m━━━━━━━━━━━━━━━━━━━━\u001b[0m\u001b[37m\u001b[0m \u001b[1m3s\u001b[0m 2ms/step - loss: 0.1848 - sparse_categorical_accuracy: 0.9369 - val_loss: 0.3382 - val_sparse_categorical_accuracy: 0.8840\n",
      "Epoch 12/30\n",
      "\u001b[1m1719/1719\u001b[0m \u001b[32m━━━━━━━━━━━━━━━━━━━━\u001b[0m\u001b[37m\u001b[0m \u001b[1m3s\u001b[0m 2ms/step - loss: 0.1813 - sparse_categorical_accuracy: 0.9380 - val_loss: 0.3424 - val_sparse_categorical_accuracy: 0.8844\n",
      "Epoch 13/30\n",
      "\u001b[1m1719/1719\u001b[0m \u001b[32m━━━━━━━━━━━━━━━━━━━━\u001b[0m\u001b[37m\u001b[0m \u001b[1m3s\u001b[0m 2ms/step - loss: 0.1782 - sparse_categorical_accuracy: 0.9394 - val_loss: 0.3441 - val_sparse_categorical_accuracy: 0.8840\n",
      "Epoch 14/30\n",
      "\u001b[1m1719/1719\u001b[0m \u001b[32m━━━━━━━━━━━━━━━━━━━━\u001b[0m\u001b[37m\u001b[0m \u001b[1m3s\u001b[0m 2ms/step - loss: 0.1750 - sparse_categorical_accuracy: 0.9413 - val_loss: 0.3398 - val_sparse_categorical_accuracy: 0.8856\n",
      "Epoch 15/30\n",
      "\u001b[1m1719/1719\u001b[0m \u001b[32m━━━━━━━━━━━━━━━━━━━━\u001b[0m\u001b[37m\u001b[0m \u001b[1m4s\u001b[0m 3ms/step - loss: 0.1720 - sparse_categorical_accuracy: 0.9422 - val_loss: 0.3418 - val_sparse_categorical_accuracy: 0.8854\n",
      "Epoch 16/30\n",
      "\u001b[1m1719/1719\u001b[0m \u001b[32m━━━━━━━━━━━━━━━━━━━━\u001b[0m\u001b[37m\u001b[0m \u001b[1m3s\u001b[0m 2ms/step - loss: 0.1688 - sparse_categorical_accuracy: 0.9441 - val_loss: 0.3420 - val_sparse_categorical_accuracy: 0.8872\n",
      "Epoch 17/30\n",
      "\u001b[1m1719/1719\u001b[0m \u001b[32m━━━━━━━━━━━━━━━━━━━━\u001b[0m\u001b[37m\u001b[0m \u001b[1m3s\u001b[0m 2ms/step - loss: 0.1660 - sparse_categorical_accuracy: 0.9450 - val_loss: 0.3450 - val_sparse_categorical_accuracy: 0.8864\n",
      "Epoch 18/30\n",
      "\u001b[1m1719/1719\u001b[0m \u001b[32m━━━━━━━━━━━━━━━━━━━━\u001b[0m\u001b[37m\u001b[0m \u001b[1m3s\u001b[0m 2ms/step - loss: 0.1631 - sparse_categorical_accuracy: 0.9454 - val_loss: 0.3443 - val_sparse_categorical_accuracy: 0.8862\n",
      "Epoch 19/30\n",
      "\u001b[1m1719/1719\u001b[0m \u001b[32m━━━━━━━━━━━━━━━━━━━━\u001b[0m\u001b[37m\u001b[0m \u001b[1m3s\u001b[0m 2ms/step - loss: 0.1601 - sparse_categorical_accuracy: 0.9468 - val_loss: 0.3439 - val_sparse_categorical_accuracy: 0.8874\n",
      "Epoch 20/30\n",
      "\u001b[1m1719/1719\u001b[0m \u001b[32m━━━━━━━━━━━━━━━━━━━━\u001b[0m\u001b[37m\u001b[0m \u001b[1m3s\u001b[0m 2ms/step - loss: 0.1571 - sparse_categorical_accuracy: 0.9479 - val_loss: 0.3472 - val_sparse_categorical_accuracy: 0.8872\n",
      "Epoch 21/30\n",
      "\u001b[1m1719/1719\u001b[0m \u001b[32m━━━━━━━━━━━━━━━━━━━━\u001b[0m\u001b[37m\u001b[0m \u001b[1m5s\u001b[0m 3ms/step - loss: 0.1542 - sparse_categorical_accuracy: 0.9487 - val_loss: 0.3515 - val_sparse_categorical_accuracy: 0.8874\n",
      "Epoch 22/30\n",
      "\u001b[1m1719/1719\u001b[0m \u001b[32m━━━━━━━━━━━━━━━━━━━━\u001b[0m\u001b[37m\u001b[0m \u001b[1m3s\u001b[0m 2ms/step - loss: 0.1518 - sparse_categorical_accuracy: 0.9498 - val_loss: 0.3508 - val_sparse_categorical_accuracy: 0.8878\n",
      "Epoch 23/30\n",
      "\u001b[1m1719/1719\u001b[0m \u001b[32m━━━━━━━━━━━━━━━━━━━━\u001b[0m\u001b[37m\u001b[0m \u001b[1m3s\u001b[0m 2ms/step - loss: 0.1491 - sparse_categorical_accuracy: 0.9508 - val_loss: 0.3565 - val_sparse_categorical_accuracy: 0.8860\n",
      "Epoch 24/30\n",
      "\u001b[1m1719/1719\u001b[0m \u001b[32m━━━━━━━━━━━━━━━━━━━━\u001b[0m\u001b[37m\u001b[0m \u001b[1m3s\u001b[0m 2ms/step - loss: 0.1463 - sparse_categorical_accuracy: 0.9518 - val_loss: 0.3537 - val_sparse_categorical_accuracy: 0.8880\n",
      "Epoch 25/30\n",
      "\u001b[1m1719/1719\u001b[0m \u001b[32m━━━━━━━━━━━━━━━━━━━━\u001b[0m\u001b[37m\u001b[0m \u001b[1m3s\u001b[0m 2ms/step - loss: 0.1435 - sparse_categorical_accuracy: 0.9525 - val_loss: 0.3577 - val_sparse_categorical_accuracy: 0.8866\n",
      "Epoch 26/30\n",
      "\u001b[1m1719/1719\u001b[0m \u001b[32m━━━━━━━━━━━━━━━━━━━━\u001b[0m\u001b[37m\u001b[0m \u001b[1m3s\u001b[0m 2ms/step - loss: 0.1408 - sparse_categorical_accuracy: 0.9533 - val_loss: 0.3616 - val_sparse_categorical_accuracy: 0.8854\n",
      "Epoch 27/30\n",
      "\u001b[1m1719/1719\u001b[0m \u001b[32m━━━━━━━━━━━━━━━━━━━━\u001b[0m\u001b[37m\u001b[0m \u001b[1m3s\u001b[0m 2ms/step - loss: 0.1385 - sparse_categorical_accuracy: 0.9546 - val_loss: 0.3633 - val_sparse_categorical_accuracy: 0.8870\n",
      "Epoch 28/30\n",
      "\u001b[1m1719/1719\u001b[0m \u001b[32m━━━━━━━━━━━━━━━━━━━━\u001b[0m\u001b[37m\u001b[0m \u001b[1m3s\u001b[0m 2ms/step - loss: 0.1360 - sparse_categorical_accuracy: 0.9554 - val_loss: 0.3674 - val_sparse_categorical_accuracy: 0.8856\n",
      "Epoch 29/30\n",
      "\u001b[1m1719/1719\u001b[0m \u001b[32m━━━━━━━━━━━━━━━━━━━━\u001b[0m\u001b[37m\u001b[0m \u001b[1m4s\u001b[0m 2ms/step - loss: 0.1336 - sparse_categorical_accuracy: 0.9563 - val_loss: 0.3673 - val_sparse_categorical_accuracy: 0.8868\n",
      "Epoch 30/30\n",
      "\u001b[1m1719/1719\u001b[0m \u001b[32m━━━━━━━━━━━━━━━━━━━━\u001b[0m\u001b[37m\u001b[0m \u001b[1m4s\u001b[0m 2ms/step - loss: 0.1311 - sparse_categorical_accuracy: 0.9570 - val_loss: 0.3680 - val_sparse_categorical_accuracy: 0.8858\n"
     ]
    }
   ],
   "source": [
    "hist = model.fit(X_tr, y_tr, epochs=30,\n",
    "                 validation_data=(X_val, y_val))"
   ]
  },
  {
   "cell_type": "markdown",
   "metadata": {},
   "source": [
    "It's useful to get used to shape-related error messages.\n",
    "<br> Can try:\n",
    "  - Fit model with inputs and/or labels of wrong shape\n",
    "  - Compile model with incorrect loss\n",
    "  - Remove Flatten layer"
   ]
  },
  {
   "cell_type": "markdown",
   "metadata": {},
   "source": [
    "#### Some Parameters (val split instead of val data, sample and class weights)"
   ]
  },
  {
   "cell_type": "markdown",
   "metadata": {},
   "source": [
    "We can specify `validation_split` as ratio of training set to use for validation, instead of `validation_data`"
   ]
  },
  {
   "cell_type": "markdown",
   "metadata": {},
   "source": [
    "For skewed datasets, we can set `class_weight` when calling `fit()`\n",
    "<br>For per-instance weights, set `sample_weight`\n",
    "  - useful if some instances were labeled by experts, others using a crowdsourced platform\n",
    "<br>If both are used, Keras multiplies them\n",
    "<br>We can provide sample weights in `validation_data` as the 3rd item in the tuple "
   ]
  },
  {
   "cell_type": "markdown",
   "metadata": {},
   "source": [
    "#### History object"
   ]
  },
  {
   "cell_type": "code",
   "execution_count": 42,
   "metadata": {},
   "outputs": [
    {
     "data": {
      "text/plain": [
       "{'verbose': 'auto', 'epochs': 30, 'steps': 1719}"
      ]
     },
     "execution_count": 42,
     "metadata": {},
     "output_type": "execute_result"
    }
   ],
   "source": [
    "hist.params"
   ]
  },
  {
   "cell_type": "code",
   "execution_count": 43,
   "metadata": {},
   "outputs": [
    {
     "data": {
      "text/plain": [
       "[0,\n",
       " 1,\n",
       " 2,\n",
       " 3,\n",
       " 4,\n",
       " 5,\n",
       " 6,\n",
       " 7,\n",
       " 8,\n",
       " 9,\n",
       " 10,\n",
       " 11,\n",
       " 12,\n",
       " 13,\n",
       " 14,\n",
       " 15,\n",
       " 16,\n",
       " 17,\n",
       " 18,\n",
       " 19,\n",
       " 20,\n",
       " 21,\n",
       " 22,\n",
       " 23,\n",
       " 24,\n",
       " 25,\n",
       " 26,\n",
       " 27,\n",
       " 28,\n",
       " 29]"
      ]
     },
     "execution_count": 43,
     "metadata": {},
     "output_type": "execute_result"
    }
   ],
   "source": [
    "hist.epoch"
   ]
  },
  {
   "cell_type": "code",
   "execution_count": 44,
   "metadata": {},
   "outputs": [
    {
     "data": {
      "text/plain": [
       "{'loss': [0.22021722793579102,\n",
       "  0.2164956033229828,\n",
       "  0.2128371149301529,\n",
       "  0.20912125706672668,\n",
       "  0.20557181537151337,\n",
       "  0.20197542011737823,\n",
       "  0.19862423837184906,\n",
       "  0.195176362991333,\n",
       "  0.19191758334636688,\n",
       "  0.18854746222496033,\n",
       "  0.18546023964881897,\n",
       "  0.18223778903484344,\n",
       "  0.17900358140468597,\n",
       "  0.17588655650615692,\n",
       "  0.1728293001651764,\n",
       "  0.16991114616394043,\n",
       "  0.16686438024044037,\n",
       "  0.16395303606987,\n",
       "  0.16102637350559235,\n",
       "  0.15822181105613708,\n",
       "  0.15523800253868103,\n",
       "  0.15275293588638306,\n",
       "  0.1501244455575943,\n",
       "  0.14749360084533691,\n",
       "  0.14467252790927887,\n",
       "  0.1418769657611847,\n",
       "  0.13951990008354187,\n",
       "  0.13704504072666168,\n",
       "  0.13463681936264038,\n",
       "  0.13218450546264648],\n",
       " 'sparse_categorical_accuracy': [0.9217272996902466,\n",
       "  0.923690915107727,\n",
       "  0.9251090884208679,\n",
       "  0.9262909293174744,\n",
       "  0.9282545447349548,\n",
       "  0.9290363788604736,\n",
       "  0.9303454756736755,\n",
       "  0.9317272901535034,\n",
       "  0.9327454566955566,\n",
       "  0.9342727065086365,\n",
       "  0.9357636570930481,\n",
       "  0.9369090795516968,\n",
       "  0.9382363557815552,\n",
       "  0.9399091005325317,\n",
       "  0.9405454397201538,\n",
       "  0.9419636130332947,\n",
       "  0.9432181715965271,\n",
       "  0.9443091154098511,\n",
       "  0.9457454681396484,\n",
       "  0.9468181729316711,\n",
       "  0.9477272629737854,\n",
       "  0.9490545392036438,\n",
       "  0.9499090909957886,\n",
       "  0.9507454633712769,\n",
       "  0.951836347579956,\n",
       "  0.9526727199554443,\n",
       "  0.9537636637687683,\n",
       "  0.9546181559562683,\n",
       "  0.9558908939361572,\n",
       "  0.9564363360404968],\n",
       " 'val_loss': [0.3435225784778595,\n",
       "  0.3425435423851013,\n",
       "  0.34332987666130066,\n",
       "  0.3424995243549347,\n",
       "  0.3417430520057678,\n",
       "  0.3419545888900757,\n",
       "  0.3413139879703522,\n",
       "  0.34132492542266846,\n",
       "  0.34054815769195557,\n",
       "  0.3418685495853424,\n",
       "  0.33824533224105835,\n",
       "  0.3424183130264282,\n",
       "  0.3441023528575897,\n",
       "  0.33978158235549927,\n",
       "  0.34176331758499146,\n",
       "  0.3419664800167084,\n",
       "  0.3449934124946594,\n",
       "  0.34430840611457825,\n",
       "  0.3439229130744934,\n",
       "  0.34724706411361694,\n",
       "  0.35148710012435913,\n",
       "  0.3507944643497467,\n",
       "  0.3564707636833191,\n",
       "  0.3537306487560272,\n",
       "  0.35765597224235535,\n",
       "  0.36162373423576355,\n",
       "  0.36333534121513367,\n",
       "  0.3673980236053467,\n",
       "  0.3673349916934967,\n",
       "  0.3680334687232971],\n",
       " 'val_sparse_categorical_accuracy': [0.878600001335144,\n",
       "  0.879800021648407,\n",
       "  0.8794000148773193,\n",
       "  0.8822000026702881,\n",
       "  0.881600022315979,\n",
       "  0.8817999958992004,\n",
       "  0.8831999897956848,\n",
       "  0.8823999762535095,\n",
       "  0.8831999897956848,\n",
       "  0.883400022983551,\n",
       "  0.8840000033378601,\n",
       "  0.8844000101089478,\n",
       "  0.8840000033378601,\n",
       "  0.8855999708175659,\n",
       "  0.8853999972343445,\n",
       "  0.8871999979019165,\n",
       "  0.8863999843597412,\n",
       "  0.8862000107765198,\n",
       "  0.8873999714851379,\n",
       "  0.8871999979019165,\n",
       "  0.8873999714851379,\n",
       "  0.8877999782562256,\n",
       "  0.8859999775886536,\n",
       "  0.8880000114440918,\n",
       "  0.8866000175476074,\n",
       "  0.8853999972343445,\n",
       "  0.8870000243186951,\n",
       "  0.8855999708175659,\n",
       "  0.8867999911308289,\n",
       "  0.8858000040054321]}"
      ]
     },
     "execution_count": 44,
     "metadata": {},
     "output_type": "execute_result"
    }
   ],
   "source": [
    "hist.history"
   ]
  },
  {
   "cell_type": "code",
   "execution_count": 45,
   "metadata": {},
   "outputs": [
    {
     "data": {
      "text/plain": [
       "dict_keys(['loss', 'sparse_categorical_accuracy', 'val_loss', 'val_sparse_categorical_accuracy'])"
      ]
     },
     "execution_count": 45,
     "metadata": {},
     "output_type": "execute_result"
    }
   ],
   "source": [
    "hist.history.keys()"
   ]
  },
  {
   "cell_type": "markdown",
   "metadata": {},
   "source": [
    "#### Learning Curves"
   ]
  },
  {
   "cell_type": "code",
   "execution_count": 47,
   "metadata": {},
   "outputs": [
    {
     "data": {
      "image/png": "[encoded data removed]",
      "text/plain": [
       "<Figure size 800x500 with 1 Axes>"
      ]
     },
     "metadata": {},
     "output_type": "display_data"
    }
   ],
   "source": [
    "import pandas as pd\n",
    "\n",
    "pd.DataFrame(hist.history).plot(\n",
    "    figsize=(8,5), xlim=[0, 29], ylim=[0, 1],\n",
    "    grid=True, xlabel='Epoch', style=['r--', 'r--', 'b-', 'b-*']\n",
    ")\n",
    "plt.show()"
   ]
  },
  {
   "cell_type": "markdown",
   "metadata": {},
   "source": [
    "It may look like, in some cases, that model performed better on val set than training set in the beginning\n",
    "<br>But this is because val error is computed at the *end* of each epoch, while training error is computing using a running mean *during* each epoch\n",
    "<br>So training curve should be shifted by half an epoch to the left"
   ]
  },
  {
   "cell_type": "markdown",
   "metadata": {},
   "source": [
    "Calling `fit()` again will continue the training, instead of restarting."
   ]
  },
  {
   "cell_type": "markdown",
   "metadata": {},
   "source": [
    "#### Evaluate\n",
    "After hyperparam tuning, we can evaluate the model on test set"
   ]
  },
  {
   "cell_type": "code",
   "execution_count": 48,
   "metadata": {},
   "outputs": [
    {
     "name": "stdout",
     "output_type": "stream",
     "text": [
      "\u001b[1m313/313\u001b[0m \u001b[32m━━━━━━━━━━━━━━━━━━━━\u001b[0m\u001b[37m\u001b[0m \u001b[1m1s\u001b[0m 2ms/step - loss: 0.3826 - sparse_categorical_accuracy: 0.8790\n"
     ]
    },
    {
     "data": {
      "text/plain": [
       "[0.37429386377334595, 0.8810999989509583]"
      ]
     },
     "execution_count": 48,
     "metadata": {},
     "output_type": "execute_result"
    }
   ],
   "source": [
    "model.evaluate(X_ts, y_ts)"
   ]
  },
  {
   "cell_type": "markdown",
   "metadata": {},
   "source": [
    "#### Prediction"
   ]
  },
  {
   "cell_type": "code",
   "execution_count": 49,
   "metadata": {},
   "outputs": [
    {
     "name": "stdout",
     "output_type": "stream",
     "text": [
      "\u001b[1m1/1\u001b[0m \u001b[32m━━━━━━━━━━━━━━━━━━━━\u001b[0m\u001b[37m\u001b[0m \u001b[1m0s\u001b[0m 76ms/step\n"
     ]
    },
    {
     "data": {
      "text/plain": [
       "array([[0.  , 0.  , 0.  , 0.  , 0.  , 0.01, 0.  , 0.01, 0.  , 0.99],\n",
       "       [0.  , 0.  , 1.  , 0.  , 0.  , 0.  , 0.  , 0.  , 0.  , 0.  ],\n",
       "       [0.  , 1.  , 0.  , 0.  , 0.  , 0.  , 0.  , 0.  , 0.  , 0.  ]],\n",
       "      dtype=float32)"
      ]
     },
     "execution_count": 49,
     "metadata": {},
     "output_type": "execute_result"
    }
   ],
   "source": [
    "X_new = X_ts[:3]\n",
    "y_proba = model.predict(X_new)\n",
    "y_proba.round(2)"
   ]
  },
  {
   "cell_type": "code",
   "execution_count": 50,
   "metadata": {},
   "outputs": [
    {
     "data": {
      "text/plain": [
       "array([9, 2, 1], dtype=int64)"
      ]
     },
     "execution_count": 50,
     "metadata": {},
     "output_type": "execute_result"
    }
   ],
   "source": [
    "y_pred = y_proba.argmax(axis=-1)\n",
    "y_pred"
   ]
  },
  {
   "cell_type": "code",
   "execution_count": 51,
   "metadata": {},
   "outputs": [
    {
     "data": {
      "text/plain": [
       "array(['Ankle Boot', 'Pullover', 'Trouser'], dtype='<U11')"
      ]
     },
     "execution_count": 51,
     "metadata": {},
     "output_type": "execute_result"
    }
   ],
   "source": [
    "np.array(cls_names)[y_pred]"
   ]
  },
  {
   "cell_type": "markdown",
   "metadata": {},
   "source": [
    "### Regression MLP using Sequential API"
   ]
  },
  {
   "cell_type": "code",
   "execution_count": 53,
   "metadata": {},
   "outputs": [
    {
     "name": "stdout",
     "output_type": "stream",
     "text": [
      "Epoch 1/20\n",
      "\u001b[1m363/363\u001b[0m \u001b[32m━━━━━━━━━━━━━━━━━━━━\u001b[0m\u001b[37m\u001b[0m \u001b[1m1s\u001b[0m 2ms/step - RootMeanSquaredError: 1.2485 - loss: 1.6776 - val_RootMeanSquaredError: 0.6229 - val_loss: 0.3880\n",
      "Epoch 2/20\n",
      "\u001b[1m363/363\u001b[0m \u001b[32m━━━━━━━━━━━━━━━━━━━━\u001b[0m\u001b[37m\u001b[0m \u001b[1m0s\u001b[0m 1ms/step - RootMeanSquaredError: 0.6398 - loss: 0.4100 - val_RootMeanSquaredError: 0.5887 - val_loss: 0.3466\n",
      "Epoch 3/20\n",
      "\u001b[1m363/363\u001b[0m \u001b[32m━━━━━━━━━━━━━━━━━━━━\u001b[0m\u001b[37m\u001b[0m \u001b[1m0s\u001b[0m 1ms/step - RootMeanSquaredError: 0.6111 - loss: 0.3738 - val_RootMeanSquaredError: 0.7260 - val_loss: 0.5270\n",
      "Epoch 4/20\n",
      "\u001b[1m363/363\u001b[0m \u001b[32m━━━━━━━━━━━━━━━━━━━━\u001b[0m\u001b[37m\u001b[0m \u001b[1m0s\u001b[0m 1ms/step - RootMeanSquaredError: 0.5962 - loss: 0.3558 - val_RootMeanSquaredError: 0.8840 - val_loss: 0.7814\n",
      "Epoch 5/20\n",
      "\u001b[1m363/363\u001b[0m \u001b[32m━━━━━━━━━━━━━━━━━━━━\u001b[0m\u001b[37m\u001b[0m \u001b[1m0s\u001b[0m 1ms/step - RootMeanSquaredError: 0.5868 - loss: 0.3445 - val_RootMeanSquaredError: 0.8382 - val_loss: 0.7025\n",
      "Epoch 6/20\n",
      "\u001b[1m363/363\u001b[0m \u001b[32m━━━━━━━━━━━━━━━━━━━━\u001b[0m\u001b[37m\u001b[0m \u001b[1m0s\u001b[0m 1ms/step - RootMeanSquaredError: 0.5774 - loss: 0.3336 - val_RootMeanSquaredError: 0.9463 - val_loss: 0.8954\n",
      "Epoch 7/20\n",
      "\u001b[1m363/363\u001b[0m \u001b[32m━━━━━━━━━━━━━━━━━━━━\u001b[0m\u001b[37m\u001b[0m \u001b[1m0s\u001b[0m 1ms/step - RootMeanSquaredError: 0.5712 - loss: 0.3263 - val_RootMeanSquaredError: 0.8020 - val_loss: 0.6432\n",
      "Epoch 8/20\n",
      "\u001b[1m363/363\u001b[0m \u001b[32m━━━━━━━━━━━━━━━━━━━━\u001b[0m\u001b[37m\u001b[0m \u001b[1m0s\u001b[0m 1ms/step - RootMeanSquaredError: 0.5634 - loss: 0.3175 - val_RootMeanSquaredError: 1.1633 - val_loss: 1.3532\n",
      "Epoch 9/20\n",
      "\u001b[1m363/363\u001b[0m \u001b[32m━━━━━━━━━━━━━━━━━━━━\u001b[0m\u001b[37m\u001b[0m \u001b[1m0s\u001b[0m 1ms/step - RootMeanSquaredError: 0.5581 - loss: 0.3116 - val_RootMeanSquaredError: 0.6475 - val_loss: 0.4193\n",
      "Epoch 10/20\n",
      "\u001b[1m363/363\u001b[0m \u001b[32m━━━━━━━━━━━━━━━━━━━━\u001b[0m\u001b[37m\u001b[0m \u001b[1m0s\u001b[0m 925us/step - RootMeanSquaredError: 0.5527 - loss: 0.3056 - val_RootMeanSquaredError: 0.6698 - val_loss: 0.4486\n",
      "Epoch 11/20\n",
      "\u001b[1m363/363\u001b[0m \u001b[32m━━━━━━━━━━━━━━━━━━━━\u001b[0m\u001b[37m\u001b[0m \u001b[1m0s\u001b[0m 954us/step - RootMeanSquaredError: 0.5465 - loss: 0.2988 - val_RootMeanSquaredError: 0.7470 - val_loss: 0.5579\n",
      "Epoch 12/20\n",
      "\u001b[1m363/363\u001b[0m \u001b[32m━━━━━━━━━━━━━━━━━━━━\u001b[0m\u001b[37m\u001b[0m \u001b[1m0s\u001b[0m 1ms/step - RootMeanSquaredError: 0.5434 - loss: 0.2954 - val_RootMeanSquaredError: 0.8795 - val_loss: 0.7735\n",
      "Epoch 13/20\n",
      "\u001b[1m363/363\u001b[0m \u001b[32m━━━━━━━━━━━━━━━━━━━━\u001b[0m\u001b[37m\u001b[0m \u001b[1m0s\u001b[0m 953us/step - RootMeanSquaredError: 0.5401 - loss: 0.2917 - val_RootMeanSquaredError: 0.5277 - val_loss: 0.2785\n",
      "Epoch 14/20\n",
      "\u001b[1m363/363\u001b[0m \u001b[32m━━━━━━━━━━━━━━━━━━━━\u001b[0m\u001b[37m\u001b[0m \u001b[1m0s\u001b[0m 957us/step - RootMeanSquaredError: 0.5350 - loss: 0.2863 - val_RootMeanSquaredError: 0.5256 - val_loss: 0.2763\n",
      "Epoch 15/20\n",
      "\u001b[1m363/363\u001b[0m \u001b[32m━━━━━━━━━━━━━━━━━━━━\u001b[0m\u001b[37m\u001b[0m \u001b[1m0s\u001b[0m 1ms/step - RootMeanSquaredError: 0.5297 - loss: 0.2806 - val_RootMeanSquaredError: 0.5441 - val_loss: 0.2961\n",
      "Epoch 16/20\n",
      "\u001b[1m363/363\u001b[0m \u001b[32m━━━━━━━━━━━━━━━━━━━━\u001b[0m\u001b[37m\u001b[0m \u001b[1m0s\u001b[0m 1ms/step - RootMeanSquaredError: 0.5268 - loss: 0.2776 - val_RootMeanSquaredError: 0.6435 - val_loss: 0.4141\n",
      "Epoch 17/20\n",
      "\u001b[1m363/363\u001b[0m \u001b[32m━━━━━━━━━━━━━━━━━━━━\u001b[0m\u001b[37m\u001b[0m \u001b[1m0s\u001b[0m 1ms/step - RootMeanSquaredError: 0.5253 - loss: 0.2760 - val_RootMeanSquaredError: 0.5781 - val_loss: 0.3342\n",
      "Epoch 18/20\n",
      "\u001b[1m363/363\u001b[0m \u001b[32m━━━━━━━━━━━━━━━━━━━━\u001b[0m\u001b[37m\u001b[0m \u001b[1m0s\u001b[0m 961us/step - RootMeanSquaredError: 0.5236 - loss: 0.2742 - val_RootMeanSquaredError: 0.6110 - val_loss: 0.3733\n",
      "Epoch 19/20\n",
      "\u001b[1m363/363\u001b[0m \u001b[32m━━━━━━━━━━━━━━━━━━━━\u001b[0m\u001b[37m\u001b[0m \u001b[1m0s\u001b[0m 1ms/step - RootMeanSquaredError: 0.5236 - loss: 0.2742 - val_RootMeanSquaredError: 0.6175 - val_loss: 0.3813\n",
      "Epoch 20/20\n",
      "\u001b[1m363/363\u001b[0m \u001b[32m━━━━━━━━━━━━━━━━━━━━\u001b[0m\u001b[37m\u001b[0m \u001b[1m0s\u001b[0m 991us/step - RootMeanSquaredError: 0.5206 - loss: 0.2711 - val_RootMeanSquaredError: 0.5617 - val_loss: 0.3155\n",
      "\u001b[1m162/162\u001b[0m \u001b[32m━━━━━━━━━━━━━━━━━━━━\u001b[0m\u001b[37m\u001b[0m \u001b[1m0s\u001b[0m 710us/step - RootMeanSquaredError: 0.5246 - loss: 0.2754\n",
      "\u001b[1m1/1\u001b[0m \u001b[32m━━━━━━━━━━━━━━━━━━━━\u001b[0m\u001b[37m\u001b[0m \u001b[1m0s\u001b[0m 64ms/step\n"
     ]
    }
   ],
   "source": [
    "tf.random.set_seed(42)\n",
    "\n",
    "X_tr_full, X_ts, y_tr_full, y_ts = train_test_split(housing.data, housing.target, random_state=42)\n",
    "X_tr, X_val, y_tr, y_val = train_test_split(X_tr_full, y_tr_full, random_state=42)\n",
    "\n",
    "\n",
    "norm_layer = tf.keras.layers.Normalization(input_shape=X_tr.shape[1:])\n",
    "model = tf.keras.Sequential([\n",
    "    norm_layer,  # Standardize the features\n",
    "    tf.keras.layers.Dense(50, activation='relu'),\n",
    "    tf.keras.layers.Dense(50, activation='relu'),\n",
    "    tf.keras.layers.Dense(50, activation='relu'),\n",
    "    # no activation function cuz it's a regression task\n",
    "    tf.keras.layers.Dense(1),\n",
    "])\n",
    "\n",
    "model.compile(loss='mse', optimizer=tf.keras.optimizers.Adam(learning_rate=1e-3),\n",
    "              metrics=['RootMeanSquaredError'])\n",
    "\n",
    "# must call this before fit()\n",
    "norm_layer.adapt(X_tr)\n",
    "\n",
    "hist = model.fit(X_tr, y_tr, epochs=20,\n",
    "                 validation_data=(X_val, y_val))\n",
    "\n",
    "mse_ts, rmse_ts = model.evaluate(X_ts, y_ts)\n",
    "\n",
    "X_new = X_ts[:3]\n",
    "y_pred = model.predict(X_new)"
   ]
  },
  {
   "cell_type": "code",
   "execution_count": 56,
   "metadata": {},
   "outputs": [
    {
     "data": {
      "image/png": "[encoded data removed]",
      "text/plain": [
       "<Figure size 800x400 with 1 Axes>"
      ]
     },
     "metadata": {},
     "output_type": "display_data"
    }
   ],
   "source": [
    "pd.DataFrame(hist.history).plot(figsize=(8, 4), grid=True)\n",
    "plt.show()"
   ]
  },
  {
   "cell_type": "code",
   "execution_count": 57,
   "metadata": {},
   "outputs": [
    {
     "data": {
      "text/plain": [
       "(0.281068354845047, 0.5301588177680969)"
      ]
     },
     "execution_count": 57,
     "metadata": {},
     "output_type": "execute_result"
    }
   ],
   "source": [
    "mse_ts, rmse_ts"
   ]
  },
  {
   "cell_type": "markdown",
   "metadata": {},
   "source": [
    "# Functional API"
   ]
  },
  {
   "cell_type": "markdown",
   "metadata": {},
   "source": [
    "### Wide & Deep Neural Network\n",
    "- Connects all or part of inputs directly to output layer\n",
    "- NN can learn both deep patterns (using deep path) and simple rules (using short path)\n",
    "- Regular MLP forces all data to flow through all layers\n",
    "  - this can distory simple patterns in the data"
   ]
  },
  {
   "cell_type": "code",
   "execution_count": 58,
   "metadata": {},
   "outputs": [],
   "source": [
    "norm_l = tf.keras.layers.Normalization()\n",
    "hl_1 = tf.keras.layers.Dense(30, activation='relu')\n",
    "hl_2 = tf.keras.layers.Dense(30, activation='relu')\n",
    "concat_l = tf.keras.layers.Concatenate()\n",
    "out_l = tf.keras.layers.Dense(1)\n",
    "\n",
    "# functional api\n",
    "# all of these are symbolic: we're just telling keras how to connect the layers\n",
    "# nothing is processed yet\n",
    "inp = tf.keras.layers.Input(shape=X_tr.shape[1:])  # dtype is float32 by default\n",
    "normalized = norm_l(inp)\n",
    "h1 = hl_1(normalized)\n",
    "h2 = hl_2(h1)\n",
    "concat = concat_l([normalized, h2])\n",
    "out = out_l(concat)\n",
    "\n",
    "model = tf.keras.Model(inputs=[inp], outputs=[out])"
   ]
  },
  {
   "cell_type": "markdown",
   "metadata": {},
   "source": [
    "#### Sending Subsets of Features through Different Paths"
   ]
  },
  {
   "cell_type": "code",
   "execution_count": 60,
   "metadata": {},
   "outputs": [],
   "source": [
    "inp_wide = tf.keras.layers.Input(shape=[5])  # features 0 to 4 = total 5\n",
    "inp_deep = tf.keras.layers.Input(shape=[6])  # features 2 to 7 = total 6\n",
    "norm_l_w = tf.keras.layers.Normalization()\n",
    "norm_l_d = tf.keras.layers.Normalization()\n",
    "\n",
    "norm_w = norm_l_w(inp_wide)\n",
    "norm_d = norm_l_d(inp_deep)\n",
    "\n",
    "# can construct and call the layer right here in 1 step\n",
    "# we don't do this with norm layer cuz we need to call its adapt()\n",
    "h1 = tf.keras.layers.Dense(30, activation='relu')(norm_d)\n",
    "h2 = tf.keras.layers.Dense(30, activation='relu')(h1)\n",
    "# note: this concatenate is with small letter\n",
    "# this isn't a layer, so we don't need to construct it\n",
    "concat = tf.keras.layers.concatenate([norm_w, h2])\n",
    "out = tf.keras.layers.Dense(1)(concat)\n",
    "\n",
    "# this model receives multiple inputs\n",
    "model = tf.keras.Model(inputs=[inp_wide, inp_deep], outputs=out)"
   ]
  },
  {
   "cell_type": "code",
   "execution_count": 61,
   "metadata": {},
   "outputs": [
    {
     "name": "stdout",
     "output_type": "stream",
     "text": [
      "Epoch 1/20\n",
      "\u001b[1m363/363\u001b[0m \u001b[32m━━━━━━━━━━━━━━━━━━━━\u001b[0m\u001b[37m\u001b[0m \u001b[1m1s\u001b[0m 1ms/step - RootMeanSquaredError: 1.5960 - loss: 2.6247 - val_RootMeanSquaredError: 1.4176 - val_loss: 2.0096\n",
      "Epoch 2/20\n",
      "\u001b[1m363/363\u001b[0m \u001b[32m━━━━━━━━━━━━━━━━━━━━\u001b[0m\u001b[37m\u001b[0m \u001b[1m0s\u001b[0m 1ms/step - RootMeanSquaredError: 0.7677 - loss: 0.5898 - val_RootMeanSquaredError: 0.8735 - val_loss: 0.7631\n",
      "Epoch 3/20\n",
      "\u001b[1m363/363\u001b[0m \u001b[32m━━━━━━━━━━━━━━━━━━━━\u001b[0m\u001b[37m\u001b[0m \u001b[1m0s\u001b[0m 1ms/step - RootMeanSquaredError: 0.6902 - loss: 0.4765 - val_RootMeanSquaredError: 0.6387 - val_loss: 0.4080\n",
      "Epoch 4/20\n",
      "\u001b[1m363/363\u001b[0m \u001b[32m━━━━━━━━━━━━━━━━━━━━\u001b[0m\u001b[37m\u001b[0m \u001b[1m0s\u001b[0m 1ms/step - RootMeanSquaredError: 0.6578 - loss: 0.4329 - val_RootMeanSquaredError: 0.6444 - val_loss: 0.4152\n",
      "Epoch 5/20\n",
      "\u001b[1m363/363\u001b[0m \u001b[32m━━━━━━━━━━━━━━━━━━━━\u001b[0m\u001b[37m\u001b[0m \u001b[1m0s\u001b[0m 1ms/step - RootMeanSquaredError: 0.6385 - loss: 0.4079 - val_RootMeanSquaredError: 0.6006 - val_loss: 0.3607\n",
      "Epoch 6/20\n",
      "\u001b[1m363/363\u001b[0m \u001b[32m━━━━━━━━━━━━━━━━━━━━\u001b[0m\u001b[37m\u001b[0m \u001b[1m0s\u001b[0m 1ms/step - RootMeanSquaredError: 0.6262 - loss: 0.3923 - val_RootMeanSquaredError: 0.5983 - val_loss: 0.3580\n",
      "Epoch 7/20\n",
      "\u001b[1m363/363\u001b[0m \u001b[32m━━━━━━━━━━━━━━━━━━━━\u001b[0m\u001b[37m\u001b[0m \u001b[1m0s\u001b[0m 952us/step - RootMeanSquaredError: 0.6176 - loss: 0.3816 - val_RootMeanSquaredError: 0.6202 - val_loss: 0.3846\n",
      "Epoch 8/20\n",
      "\u001b[1m363/363\u001b[0m \u001b[32m━━━━━━━━━━━━━━━━━━━━\u001b[0m\u001b[37m\u001b[0m \u001b[1m0s\u001b[0m 1ms/step - RootMeanSquaredError: 0.6118 - loss: 0.3744 - val_RootMeanSquaredError: 0.6296 - val_loss: 0.3964\n",
      "Epoch 9/20\n",
      "\u001b[1m363/363\u001b[0m \u001b[32m━━━━━━━━━━━━━━━━━━━━\u001b[0m\u001b[37m\u001b[0m \u001b[1m0s\u001b[0m 1ms/step - RootMeanSquaredError: 0.6073 - loss: 0.3689 - val_RootMeanSquaredError: 0.8328 - val_loss: 0.6936\n",
      "Epoch 10/20\n",
      "\u001b[1m363/363\u001b[0m \u001b[32m━━━━━━━━━━━━━━━━━━━━\u001b[0m\u001b[37m\u001b[0m \u001b[1m0s\u001b[0m 985us/step - RootMeanSquaredError: 0.6045 - loss: 0.3656 - val_RootMeanSquaredError: 1.0516 - val_loss: 1.1059\n",
      "Epoch 11/20\n",
      "\u001b[1m363/363\u001b[0m \u001b[32m━━━━━━━━━━━━━━━━━━━━\u001b[0m\u001b[37m\u001b[0m \u001b[1m0s\u001b[0m 1ms/step - RootMeanSquaredError: 0.6015 - loss: 0.3619 - val_RootMeanSquaredError: 1.1708 - val_loss: 1.3707\n",
      "Epoch 12/20\n",
      "\u001b[1m363/363\u001b[0m \u001b[32m━━━━━━━━━━━━━━━━━━━━\u001b[0m\u001b[37m\u001b[0m \u001b[1m0s\u001b[0m 1ms/step - RootMeanSquaredError: 0.6000 - loss: 0.3602 - val_RootMeanSquaredError: 1.4081 - val_loss: 1.9828\n",
      "Epoch 13/20\n",
      "\u001b[1m363/363\u001b[0m \u001b[32m━━━━━━━━━━━━━━━━━━━━\u001b[0m\u001b[37m\u001b[0m \u001b[1m0s\u001b[0m 1ms/step - RootMeanSquaredError: 0.5982 - loss: 0.3580 - val_RootMeanSquaredError: 1.1702 - val_loss: 1.3694\n",
      "Epoch 14/20\n",
      "\u001b[1m363/363\u001b[0m \u001b[32m━━━━━━━━━━━━━━━━━━━━\u001b[0m\u001b[37m\u001b[0m \u001b[1m0s\u001b[0m 1ms/step - RootMeanSquaredError: 0.5958 - loss: 0.3551 - val_RootMeanSquaredError: 0.9937 - val_loss: 0.9874\n",
      "Epoch 15/20\n",
      "\u001b[1m363/363\u001b[0m \u001b[32m━━━━━━━━━━━━━━━━━━━━\u001b[0m\u001b[37m\u001b[0m \u001b[1m0s\u001b[0m 972us/step - RootMeanSquaredError: 0.5908 - loss: 0.3491 - val_RootMeanSquaredError: 0.7481 - val_loss: 0.5597\n",
      "Epoch 16/20\n",
      "\u001b[1m363/363\u001b[0m \u001b[32m━━━━━━━━━━━━━━━━━━━━\u001b[0m\u001b[37m\u001b[0m \u001b[1m0s\u001b[0m 1ms/step - RootMeanSquaredError: 0.5878 - loss: 0.3456 - val_RootMeanSquaredError: 0.7587 - val_loss: 0.5756\n",
      "Epoch 17/20\n",
      "\u001b[1m363/363\u001b[0m \u001b[32m━━━━━━━━━━━━━━━━━━━━\u001b[0m\u001b[37m\u001b[0m \u001b[1m0s\u001b[0m 995us/step - RootMeanSquaredError: 0.5854 - loss: 0.3428 - val_RootMeanSquaredError: 0.6944 - val_loss: 0.4822\n",
      "Epoch 18/20\n",
      "\u001b[1m363/363\u001b[0m \u001b[32m━━━━━━━━━━━━━━━━━━━━\u001b[0m\u001b[37m\u001b[0m \u001b[1m1s\u001b[0m 2ms/step - RootMeanSquaredError: 0.5836 - loss: 0.3407 - val_RootMeanSquaredError: 0.7331 - val_loss: 0.5375\n",
      "Epoch 19/20\n",
      "\u001b[1m363/363\u001b[0m \u001b[32m━━━━━━━━━━━━━━━━━━━━\u001b[0m\u001b[37m\u001b[0m \u001b[1m1s\u001b[0m 1ms/step - RootMeanSquaredError: 0.5821 - loss: 0.3390 - val_RootMeanSquaredError: 0.7830 - val_loss: 0.6131\n",
      "Epoch 20/20\n",
      "\u001b[1m363/363\u001b[0m \u001b[32m━━━━━━━━━━━━━━━━━━━━\u001b[0m\u001b[37m\u001b[0m \u001b[1m1s\u001b[0m 2ms/step - RootMeanSquaredError: 0.5807 - loss: 0.3373 - val_RootMeanSquaredError: 0.9924 - val_loss: 0.9849\n",
      "\u001b[1m162/162\u001b[0m \u001b[32m━━━━━━━━━━━━━━━━━━━━\u001b[0m\u001b[37m\u001b[0m \u001b[1m0s\u001b[0m 769us/step - RootMeanSquaredError: 0.5819 - loss: 0.3387\n",
      "\u001b[1m1/1\u001b[0m \u001b[32m━━━━━━━━━━━━━━━━━━━━\u001b[0m\u001b[37m\u001b[0m \u001b[1m0s\u001b[0m 59ms/step\n"
     ]
    }
   ],
   "source": [
    "model.compile(loss='mse', optimizer=tf.keras.optimizers.Adam(learning_rate=1e-3),\n",
    "              metrics=['RootMeanSquaredError'])\n",
    "\n",
    "# we can have sets w/ overlapping features\n",
    "X_tr_w, X_tr_d = X_tr[:, :5], X_tr[:, 2:]\n",
    "X_val_w, X_val_d = X_val[:, :5], X_val[:, 2:]\n",
    "X_ts_w, X_ts_d = X_ts[:, :5], X_ts[:, 2:]\n",
    "\n",
    "X_new_w, X_new_d = X_ts_w[:3], X_ts_d[:3]\n",
    "\n",
    "norm_l_w.adapt(X_tr_w)\n",
    "norm_l_d.adapt(X_tr_d)\n",
    "\n",
    "# need to give pair of inputs now\n",
    "hist = model.fit((X_tr_w, X_tr_d), y_tr, epochs=20,\n",
    "                #  pair of inputs\n",
    "                 validation_data=((X_val_w, X_val_d), y_val))\n",
    "# pair of inputs\n",
    "mse_ts = model.evaluate((X_ts_w, X_ts_d), y_ts)\n",
    "# pair of inputs\n",
    "y_pred = model.predict((X_new_w, X_new_d))"
   ]
  },
  {
   "cell_type": "markdown",
   "metadata": {},
   "source": [
    "We can also pass a dict like `{\"input_wide\": X_tr_w, \"input_deep\": X_tr_d}` instead of tuples.\n",
    "<br>This is preferred\n",
    "<br>We clarify the code and avoid getting the order wrong when we have many inputs\n",
    "<br>For this, we need to give names to the layers too"
   ]
  },
  {
   "cell_type": "markdown",
   "metadata": {},
   "source": [
    "### Examples with Multiple Outputs\n",
    "- Task demands it\n",
    "  - want to locate and classify an object\n",
    "  - is both a regression and clf task\n",
    "- Multiple independent tasks on same data\n",
    "  - Can train multiple NNs\n",
    "  - But training 1 NN means it can learn features useful across tasks\n",
    "- For regularization\n",
    "  - training a constraint whose objective is to reduce overfitting\n",
    "  - Can add auxiliary output to ensure underlying NN learns something useful on its own w/o relying on rest of network"
   ]
  },
  {
   "cell_type": "markdown",
   "metadata": {},
   "source": [
    "#### Adding extra output"
   ]
  },
  {
   "cell_type": "code",
   "execution_count": 69,
   "metadata": {},
   "outputs": [],
   "source": [
    "aux_out = tf.keras.layers.Dense(1)(h2)\n",
    "model = tf.keras.Model(inputs=[inp_wide, inp_deep],\n",
    "                       outputs=[out, aux_out])\n",
    "\n",
    "# also need to pass multiple losses, 1 for each output\n",
    "# if pass 1 loss, that loss is used for all\n",
    "model.compile(loss=('mse', 'mse'),\n",
    "            #   by default, keras will add up all the losses with equal weight\n",
    "            #   but we may want our main loss to get more weight\n",
    "              loss_weights=(0.9, 0.1),\n",
    "              optimizer=tf.keras.optimizers.Adam(learning_rate=1e-3),\n",
    "              metrics=['RootMeanSquaredError', 'RootMeanSquaredError'])"
   ]
  },
  {
   "cell_type": "code",
   "execution_count": 70,
   "metadata": {},
   "outputs": [
    {
     "name": "stdout",
     "output_type": "stream",
     "text": [
      "Epoch 1/20\n",
      "\u001b[1m363/363\u001b[0m \u001b[32m━━━━━━━━━━━━━━━━━━━━\u001b[0m\u001b[37m\u001b[0m \u001b[1m1s\u001b[0m 2ms/step - dense_22_RootMeanSquaredError: 0.5832 - dense_22_loss: 0.3062 - dense_28_RootMeanSquaredError: 1.3978 - dense_28_loss: 0.2053 - loss: 0.5114 - val_dense_22_RootMeanSquaredError: 0.7128 - val_dense_22_loss: 0.4572 - val_dense_28_RootMeanSquaredError: 1.1413 - val_dense_28_loss: 0.1302 - val_loss: 0.5876\n",
      "Epoch 2/20\n",
      "\u001b[1m363/363\u001b[0m \u001b[32m━━━━━━━━━━━━━━━━━━━━\u001b[0m\u001b[37m\u001b[0m \u001b[1m1s\u001b[0m 1ms/step - dense_22_RootMeanSquaredError: 0.5836 - dense_22_loss: 0.3066 - dense_28_RootMeanSquaredError: 0.7895 - dense_28_loss: 0.0624 - loss: 0.3690 - val_dense_22_RootMeanSquaredError: 0.7216 - val_dense_22_loss: 0.4686 - val_dense_28_RootMeanSquaredError: 0.9092 - val_dense_28_loss: 0.0826 - val_loss: 0.5514\n",
      "Epoch 3/20\n",
      "\u001b[1m363/363\u001b[0m \u001b[32m━━━━━━━━━━━━━━━━━━━━\u001b[0m\u001b[37m\u001b[0m \u001b[1m1s\u001b[0m 1ms/step - dense_22_RootMeanSquaredError: 0.5791 - dense_22_loss: 0.3019 - dense_28_RootMeanSquaredError: 0.7160 - dense_28_loss: 0.0513 - loss: 0.3532 - val_dense_22_RootMeanSquaredError: 0.7103 - val_dense_22_loss: 0.4540 - val_dense_28_RootMeanSquaredError: 0.7052 - val_dense_28_loss: 0.0497 - val_loss: 0.5038\n",
      "Epoch 4/20\n",
      "\u001b[1m363/363\u001b[0m \u001b[32m━━━━━━━━━━━━━━━━━━━━\u001b[0m\u001b[37m\u001b[0m \u001b[1m1s\u001b[0m 1ms/step - dense_22_RootMeanSquaredError: 0.5778 - dense_22_loss: 0.3006 - dense_28_RootMeanSquaredError: 0.6859 - dense_28_loss: 0.0471 - loss: 0.3476 - val_dense_22_RootMeanSquaredError: 0.8357 - val_dense_22_loss: 0.6284 - val_dense_28_RootMeanSquaredError: 0.7512 - val_dense_28_loss: 0.0564 - val_loss: 0.6850\n",
      "Epoch 5/20\n",
      "\u001b[1m363/363\u001b[0m \u001b[32m━━━━━━━━━━━━━━━━━━━━\u001b[0m\u001b[37m\u001b[0m \u001b[1m0s\u001b[0m 1ms/step - dense_22_RootMeanSquaredError: 0.5764 - dense_22_loss: 0.2991 - dense_28_RootMeanSquaredError: 0.6640 - dense_28_loss: 0.0441 - loss: 0.3432 - val_dense_22_RootMeanSquaredError: 0.7323 - val_dense_22_loss: 0.4825 - val_dense_28_RootMeanSquaredError: 0.6459 - val_dense_28_loss: 0.0417 - val_loss: 0.5244\n",
      "Epoch 6/20\n",
      "\u001b[1m363/363\u001b[0m \u001b[32m━━━━━━━━━━━━━━━━━━━━\u001b[0m\u001b[37m\u001b[0m \u001b[1m0s\u001b[0m 1ms/step - dense_22_RootMeanSquaredError: 0.5753 - dense_22_loss: 0.2979 - dense_28_RootMeanSquaredError: 0.6527 - dense_28_loss: 0.0426 - loss: 0.3405 - val_dense_22_RootMeanSquaredError: 0.9177 - val_dense_22_loss: 0.7576 - val_dense_28_RootMeanSquaredError: 1.0271 - val_dense_28_loss: 0.1055 - val_loss: 0.8634\n",
      "Epoch 7/20\n",
      "\u001b[1m363/363\u001b[0m \u001b[32m━━━━━━━━━━━━━━━━━━━━\u001b[0m\u001b[37m\u001b[0m \u001b[1m1s\u001b[0m 2ms/step - dense_22_RootMeanSquaredError: 0.5727 - dense_22_loss: 0.2953 - dense_28_RootMeanSquaredError: 0.6446 - dense_28_loss: 0.0416 - loss: 0.3369 - val_dense_22_RootMeanSquaredError: 0.6955 - val_dense_22_loss: 0.4352 - val_dense_28_RootMeanSquaredError: 0.6471 - val_dense_28_loss: 0.0419 - val_loss: 0.4772\n",
      "Epoch 8/20\n",
      "\u001b[1m363/363\u001b[0m \u001b[32m━━━━━━━━━━━━━━━━━━━━\u001b[0m\u001b[37m\u001b[0m \u001b[1m1s\u001b[0m 1ms/step - dense_22_RootMeanSquaredError: 0.5719 - dense_22_loss: 0.2944 - dense_28_RootMeanSquaredError: 0.6379 - dense_28_loss: 0.0407 - loss: 0.3351 - val_dense_22_RootMeanSquaredError: 0.9830 - val_dense_22_loss: 0.8693 - val_dense_28_RootMeanSquaredError: 0.8229 - val_dense_28_loss: 0.0677 - val_loss: 0.9374\n",
      "Epoch 9/20\n",
      "\u001b[1m363/363\u001b[0m \u001b[32m━━━━━━━━━━━━━━━━━━━━\u001b[0m\u001b[37m\u001b[0m \u001b[1m0s\u001b[0m 1ms/step - dense_22_RootMeanSquaredError: 0.5725 - dense_22_loss: 0.2951 - dense_28_RootMeanSquaredError: 0.6329 - dense_28_loss: 0.0401 - loss: 0.3351 - val_dense_22_RootMeanSquaredError: 0.8175 - val_dense_22_loss: 0.6013 - val_dense_28_RootMeanSquaredError: 0.6326 - val_dense_28_loss: 0.0400 - val_loss: 0.6415\n",
      "Epoch 10/20\n",
      "\u001b[1m363/363\u001b[0m \u001b[32m━━━━━━━━━━━━━━━━━━━━\u001b[0m\u001b[37m\u001b[0m \u001b[1m0s\u001b[0m 1ms/step - dense_22_RootMeanSquaredError: 0.5717 - dense_22_loss: 0.2942 - dense_28_RootMeanSquaredError: 0.6311 - dense_28_loss: 0.0398 - loss: 0.3340 - val_dense_22_RootMeanSquaredError: 1.1457 - val_dense_22_loss: 1.1809 - val_dense_28_RootMeanSquaredError: 1.0129 - val_dense_28_loss: 0.1026 - val_loss: 1.2840\n",
      "Epoch 11/20\n",
      "\u001b[1m363/363\u001b[0m \u001b[32m━━━━━━━━━━━━━━━━━━━━\u001b[0m\u001b[37m\u001b[0m \u001b[1m0s\u001b[0m 1ms/step - dense_22_RootMeanSquaredError: 0.5704 - dense_22_loss: 0.2929 - dense_28_RootMeanSquaredError: 0.6268 - dense_28_loss: 0.0393 - loss: 0.3322 - val_dense_22_RootMeanSquaredError: 0.7637 - val_dense_22_loss: 0.5247 - val_dense_28_RootMeanSquaredError: 0.6714 - val_dense_28_loss: 0.0451 - val_loss: 0.5700\n",
      "Epoch 12/20\n",
      "\u001b[1m363/363\u001b[0m \u001b[32m━━━━━━━━━━━━━━━━━━━━\u001b[0m\u001b[37m\u001b[0m \u001b[1m1s\u001b[0m 1ms/step - dense_22_RootMeanSquaredError: 0.5690 - dense_22_loss: 0.2914 - dense_28_RootMeanSquaredError: 0.6259 - dense_28_loss: 0.0392 - loss: 0.3306 - val_dense_22_RootMeanSquaredError: 0.7757 - val_dense_22_loss: 0.5413 - val_dense_28_RootMeanSquaredError: 0.7208 - val_dense_28_loss: 0.0519 - val_loss: 0.5935\n",
      "Epoch 13/20\n",
      "\u001b[1m363/363\u001b[0m \u001b[32m━━━━━━━━━━━━━━━━━━━━\u001b[0m\u001b[37m\u001b[0m \u001b[1m1s\u001b[0m 2ms/step - dense_22_RootMeanSquaredError: 0.5675 - dense_22_loss: 0.2900 - dense_28_RootMeanSquaredError: 0.6222 - dense_28_loss: 0.0387 - loss: 0.3287 - val_dense_22_RootMeanSquaredError: 0.5555 - val_dense_22_loss: 0.2777 - val_dense_28_RootMeanSquaredError: 0.6186 - val_dense_28_loss: 0.0383 - val_loss: 0.3160\n",
      "Epoch 14/20\n",
      "\u001b[1m363/363\u001b[0m \u001b[32m━━━━━━━━━━━━━━━━━━━━\u001b[0m\u001b[37m\u001b[0m \u001b[1m0s\u001b[0m 1ms/step - dense_22_RootMeanSquaredError: 0.5656 - dense_22_loss: 0.2880 - dense_28_RootMeanSquaredError: 0.6209 - dense_28_loss: 0.0386 - loss: 0.3265 - val_dense_22_RootMeanSquaredError: 0.6570 - val_dense_22_loss: 0.3884 - val_dense_28_RootMeanSquaredError: 0.7243 - val_dense_28_loss: 0.0524 - val_loss: 0.4410\n",
      "Epoch 15/20\n",
      "\u001b[1m363/363\u001b[0m \u001b[32m━━━━━━━━━━━━━━━━━━━━\u001b[0m\u001b[37m\u001b[0m \u001b[1m1s\u001b[0m 2ms/step - dense_22_RootMeanSquaredError: 0.5642 - dense_22_loss: 0.2866 - dense_28_RootMeanSquaredError: 0.6184 - dense_28_loss: 0.0383 - loss: 0.3249 - val_dense_22_RootMeanSquaredError: 0.5683 - val_dense_22_loss: 0.2906 - val_dense_28_RootMeanSquaredError: 0.6103 - val_dense_28_loss: 0.0372 - val_loss: 0.3279\n",
      "Epoch 16/20\n",
      "\u001b[1m363/363\u001b[0m \u001b[32m━━━━━━━━━━━━━━━━━━━━\u001b[0m\u001b[37m\u001b[0m \u001b[1m0s\u001b[0m 1ms/step - dense_22_RootMeanSquaredError: 0.5638 - dense_22_loss: 0.2862 - dense_28_RootMeanSquaredError: 0.6176 - dense_28_loss: 0.0381 - loss: 0.3243 - val_dense_22_RootMeanSquaredError: 0.7012 - val_dense_22_loss: 0.4424 - val_dense_28_RootMeanSquaredError: 0.7706 - val_dense_28_loss: 0.0594 - val_loss: 0.5019\n",
      "Epoch 17/20\n",
      "\u001b[1m363/363\u001b[0m \u001b[32m━━━━━━━━━━━━━━━━━━━━\u001b[0m\u001b[37m\u001b[0m \u001b[1m0s\u001b[0m 1ms/step - dense_22_RootMeanSquaredError: 0.5633 - dense_22_loss: 0.2857 - dense_28_RootMeanSquaredError: 0.6146 - dense_28_loss: 0.0378 - loss: 0.3235 - val_dense_22_RootMeanSquaredError: 0.5921 - val_dense_22_loss: 0.3155 - val_dense_28_RootMeanSquaredError: 0.6067 - val_dense_28_loss: 0.0368 - val_loss: 0.3524\n",
      "Epoch 18/20\n",
      "\u001b[1m363/363\u001b[0m \u001b[32m━━━━━━━━━━━━━━━━━━━━\u001b[0m\u001b[37m\u001b[0m \u001b[1m0s\u001b[0m 1ms/step - dense_22_RootMeanSquaredError: 0.5627 - dense_22_loss: 0.2850 - dense_28_RootMeanSquaredError: 0.6140 - dense_28_loss: 0.0377 - loss: 0.3227 - val_dense_22_RootMeanSquaredError: 0.9662 - val_dense_22_loss: 0.8399 - val_dense_28_RootMeanSquaredError: 1.0117 - val_dense_28_loss: 0.1023 - val_loss: 0.9426\n",
      "Epoch 19/20\n",
      "\u001b[1m363/363\u001b[0m \u001b[32m━━━━━━━━━━━━━━━━━━━━\u001b[0m\u001b[37m\u001b[0m \u001b[1m0s\u001b[0m 1ms/step - dense_22_RootMeanSquaredError: 0.5623 - dense_22_loss: 0.2846 - dense_28_RootMeanSquaredError: 0.6122 - dense_28_loss: 0.0375 - loss: 0.3221 - val_dense_22_RootMeanSquaredError: 0.8356 - val_dense_22_loss: 0.6282 - val_dense_28_RootMeanSquaredError: 0.7309 - val_dense_28_loss: 0.0534 - val_loss: 0.6818\n",
      "Epoch 20/20\n",
      "\u001b[1m363/363\u001b[0m \u001b[32m━━━━━━━━━━━━━━━━━━━━\u001b[0m\u001b[37m\u001b[0m \u001b[1m0s\u001b[0m 1ms/step - dense_22_RootMeanSquaredError: 0.5621 - dense_22_loss: 0.2844 - dense_28_RootMeanSquaredError: 0.6121 - dense_28_loss: 0.0375 - loss: 0.3219 - val_dense_22_RootMeanSquaredError: 0.8366 - val_dense_22_loss: 0.6296 - val_dense_28_RootMeanSquaredError: 0.7980 - val_dense_28_loss: 0.0637 - val_loss: 0.6935\n"
     ]
    }
   ],
   "source": [
    "# also need to pass tuple of target y\n",
    "hist = model.fit((X_tr_w, X_tr_d),\n",
    "                 (y_tr, y_tr),\n",
    "                 epochs=20,\n",
    "                 validation_data=((X_val_w, X_val_d), (y_val, y_val)))"
   ]
  },
  {
   "cell_type": "code",
   "execution_count": 72,
   "metadata": {},
   "outputs": [
    {
     "name": "stdout",
     "output_type": "stream",
     "text": [
      "\u001b[1m162/162\u001b[0m \u001b[32m━━━━━━━━━━━━━━━━━━━━\u001b[0m\u001b[37m\u001b[0m \u001b[1m0s\u001b[0m 781us/step - dense_22_RootMeanSquaredError: 0.5685 - dense_22_loss: 0.2910 - dense_28_RootMeanSquaredError: 0.6197 - dense_28_loss: 0.0384 - loss: 0.3294\n",
      "\u001b[1m162/162\u001b[0m \u001b[32m━━━━━━━━━━━━━━━━━━━━\u001b[0m\u001b[37m\u001b[0m \u001b[1m0s\u001b[0m 658us/step - dense_22_RootMeanSquaredError: 0.5685 - dense_22_loss: 0.2910 - dense_28_RootMeanSquaredError: 0.6197 - dense_28_loss: 0.0384 - loss: 0.3294\n"
     ]
    },
    {
     "data": {
      "text/plain": [
       "{'dense_22_RootMeanSquaredError': 0.5662636160850525,\n",
       " 'dense_22_loss': 0.2880718410015106,\n",
       " 'dense_28_RootMeanSquaredError': 0.6172499060630798,\n",
       " 'dense_28_loss': 0.03806304559111595,\n",
       " 'loss': 0.32668864727020264}"
      ]
     },
     "execution_count": 72,
     "metadata": {},
     "output_type": "execute_result"
    }
   ],
   "source": [
    "# returns weighted sum of losses + individual losses and metrics\n",
    "eval_results = model.evaluate((X_ts_w, X_ts_d), (y_ts, y_ts))\n",
    "weighted_sum_of_losses, main_loss, aux_loss, main_rmse, aux_rmse = eval_results\n",
    "# or we can get dict\n",
    "model.evaluate((X_ts_w, X_ts_d), (y_ts, y_ts), return_dict=True)"
   ]
  },
  {
   "cell_type": "code",
   "execution_count": 73,
   "metadata": {},
   "outputs": [
    {
     "name": "stdout",
     "output_type": "stream",
     "text": [
      "\u001b[1m1/1\u001b[0m \u001b[32m━━━━━━━━━━━━━━━━━━━━\u001b[0m\u001b[37m\u001b[0m \u001b[1m0s\u001b[0m 58ms/step\n"
     ]
    },
    {
     "data": {
      "text/plain": [
       "{'dense_22': array([[0.49256963],\n",
       "        [1.023248  ],\n",
       "        [3.547918  ]], dtype=float32),\n",
       " 'dense_28': array([[0.63514245],\n",
       "        [0.91528475],\n",
       "        [3.2223022 ]], dtype=float32)}"
      ]
     },
     "execution_count": 73,
     "metadata": {},
     "output_type": "execute_result"
    }
   ],
   "source": [
    "y_pred_main, y_pred_aux = model.predict((X_new_w, X_new_d))\n",
    "# doesn't have a return_dict\n",
    "# but we can make one\n",
    "y_preds = dict(zip(model.output_names, (y_pred_main, y_pred_aux)))\n",
    "y_preds"
   ]
  },
  {
   "cell_type": "markdown",
   "metadata": {},
   "source": [
    "# Subclassing API"
   ]
  },
  {
   "cell_type": "markdown",
   "metadata": {},
   "source": [
    "Sequential and Functional APIs are declarative\n",
    "  - we declare which layers to use and how they connect\n",
    "  - Advantages:\n",
    "    - Easily save model, clone, share\n",
    "    - Structure can be displayed and analyzed\n",
    "    - Framework can infer shapes and check types\n",
    "    - Errors are caught early, before any data goes through the model\n",
    "    - Straightforward to debug, since whole model is a static graph of layers\n",
    "  - Disadvantages:\n",
    "    - It's static\n",
    "    - Can't make models which:\n",
    "      - Involve loops\n",
    "      - Varying shapes\n",
    "      - Conditional branching\n",
    "      - Other dynamic behaviors\n",
    "\n",
    "For dynamic models or imperative programming style, we use subclassing API"
   ]
  },
  {
   "cell_type": "markdown",
   "metadata": {},
   "source": [
    "Can include anything in `call()`\n",
    "<br>loops, if-statements, low-level TF operations, etc\n",
    "\n",
    "But now model arch is hidden in `call()`\n",
    "<br>Keras can't easily inspect it\n",
    "  - can't clone it using `tf.keras.models.clone_model()`\n",
    "  - `model.summary()` only gives list of layers w/o info on how they're connected\n",
    "  - keras can't check types\n",
    "\n",
    "Keras models can be used like layers, so we can combine multiple models for complex architectures."
   ]
  },
  {
   "cell_type": "code",
   "execution_count": 92,
   "metadata": {},
   "outputs": [],
   "source": [
    "# need to decorate this so we can save/load model\n",
    "import keras\n",
    "@keras.saving.register_keras_serializable()\n",
    "class WideAndDeepModel(tf.keras.Model):\n",
    "    def __init__(self, units=30, activation='relu', **kwargs):\n",
    "        super().__init__(**kwargs)  # needed to support naming\n",
    "\n",
    "        self.norm_l_w = tf.keras.layers.Normalization()\n",
    "        self.norm_l_d = tf.keras.layers.Normalization()\n",
    "        self.h1 = tf.keras.layers.Dense(units, activation=activation)\n",
    "        self.h2 = tf.keras.layers.Dense(units, activation=activation)\n",
    "        self.main_out = tf.keras.layers.Dense(1)\n",
    "        self.aux_out = tf.keras.layers.Dense(1)\n",
    "\n",
    "    def call(self, inputs):\n",
    "        inp_w, inp_d = inputs\n",
    "        \n",
    "        norm_w = self.norm_l_w(inp_w)\n",
    "        norm_d = self.norm_l_d(inp_d)\n",
    "\n",
    "        h1 = self.h1(norm_d)\n",
    "        h2 = self.h2(h1)\n",
    "\n",
    "        concat = tf.keras.layers.concatenate([norm_w, h2])\n",
    "\n",
    "        out = self.main_out(concat)\n",
    "        aux_out = self.aux_out(h2)\n",
    "\n",
    "        return out, aux_out"
   ]
  },
  {
   "cell_type": "code",
   "execution_count": 93,
   "metadata": {},
   "outputs": [
    {
     "data": {
      "text/html": [
       "<pre style=\"white-space:pre;overflow-x:auto;line-height:normal;font-family:Menlo,'DejaVu Sans Mono',consolas,'Courier New',monospace\"><span style=\"font-weight: bold\">Model: \"MyWideAndDeepModel\"</span>\n",
       "</pre>\n"
      ],
      "text/plain": [
       "\u001b[1mModel: \"MyWideAndDeepModel\"\u001b[0m\n"
      ]
     },
     "metadata": {},
     "output_type": "display_data"
    },
    {
     "data": {
      "text/html": [
       "<pre style=\"white-space:pre;overflow-x:auto;line-height:normal;font-family:Menlo,'DejaVu Sans Mono',consolas,'Courier New',monospace\">┏━━━━━━━━━━━━━━━━━━━━━━━━━━━━━━━━━┳━━━━━━━━━━━━━━━━━━━━━━━━┳━━━━━━━━━━━━━━━┓\n",
       "┃<span style=\"font-weight: bold\"> Layer (type)                    </span>┃<span style=\"font-weight: bold\"> Output Shape           </span>┃<span style=\"font-weight: bold\">       Param # </span>┃\n",
       "┡━━━━━━━━━━━━━━━━━━━━━━━━━━━━━━━━━╇━━━━━━━━━━━━━━━━━━━━━━━━╇━━━━━━━━━━━━━━━┩\n",
       "│ normalization_13                │ ?                      │   <span style=\"color: #00af00; text-decoration-color: #00af00\">0</span> (unbuilt) │\n",
       "│ (<span style=\"color: #0087ff; text-decoration-color: #0087ff\">Normalization</span>)                 │                        │               │\n",
       "├─────────────────────────────────┼────────────────────────┼───────────────┤\n",
       "│ normalization_14                │ ?                      │   <span style=\"color: #00af00; text-decoration-color: #00af00\">0</span> (unbuilt) │\n",
       "│ (<span style=\"color: #0087ff; text-decoration-color: #0087ff\">Normalization</span>)                 │                        │               │\n",
       "├─────────────────────────────────┼────────────────────────┼───────────────┤\n",
       "│ dense_41 (<span style=\"color: #0087ff; text-decoration-color: #0087ff\">Dense</span>)                │ ?                      │   <span style=\"color: #00af00; text-decoration-color: #00af00\">0</span> (unbuilt) │\n",
       "├─────────────────────────────────┼────────────────────────┼───────────────┤\n",
       "│ dense_42 (<span style=\"color: #0087ff; text-decoration-color: #0087ff\">Dense</span>)                │ ?                      │   <span style=\"color: #00af00; text-decoration-color: #00af00\">0</span> (unbuilt) │\n",
       "├─────────────────────────────────┼────────────────────────┼───────────────┤\n",
       "│ dense_43 (<span style=\"color: #0087ff; text-decoration-color: #0087ff\">Dense</span>)                │ ?                      │   <span style=\"color: #00af00; text-decoration-color: #00af00\">0</span> (unbuilt) │\n",
       "├─────────────────────────────────┼────────────────────────┼───────────────┤\n",
       "│ dense_44 (<span style=\"color: #0087ff; text-decoration-color: #0087ff\">Dense</span>)                │ ?                      │   <span style=\"color: #00af00; text-decoration-color: #00af00\">0</span> (unbuilt) │\n",
       "└─────────────────────────────────┴────────────────────────┴───────────────┘\n",
       "</pre>\n"
      ],
      "text/plain": [
       "┏━━━━━━━━━━━━━━━━━━━━━━━━━━━━━━━━━┳━━━━━━━━━━━━━━━━━━━━━━━━┳━━━━━━━━━━━━━━━┓\n",
       "┃\u001b[1m \u001b[0m\u001b[1mLayer (type)                   \u001b[0m\u001b[1m \u001b[0m┃\u001b[1m \u001b[0m\u001b[1mOutput Shape          \u001b[0m\u001b[1m \u001b[0m┃\u001b[1m \u001b[0m\u001b[1m      Param #\u001b[0m\u001b[1m \u001b[0m┃\n",
       "┡━━━━━━━━━━━━━━━━━━━━━━━━━━━━━━━━━╇━━━━━━━━━━━━━━━━━━━━━━━━╇━━━━━━━━━━━━━━━┩\n",
       "│ normalization_13                │ ?                      │   \u001b[38;5;34m0\u001b[0m (unbuilt) │\n",
       "│ (\u001b[38;5;33mNormalization\u001b[0m)                 │                        │               │\n",
       "├─────────────────────────────────┼────────────────────────┼───────────────┤\n",
       "│ normalization_14                │ ?                      │   \u001b[38;5;34m0\u001b[0m (unbuilt) │\n",
       "│ (\u001b[38;5;33mNormalization\u001b[0m)                 │                        │               │\n",
       "├─────────────────────────────────┼────────────────────────┼───────────────┤\n",
       "│ dense_41 (\u001b[38;5;33mDense\u001b[0m)                │ ?                      │   \u001b[38;5;34m0\u001b[0m (unbuilt) │\n",
       "├─────────────────────────────────┼────────────────────────┼───────────────┤\n",
       "│ dense_42 (\u001b[38;5;33mDense\u001b[0m)                │ ?                      │   \u001b[38;5;34m0\u001b[0m (unbuilt) │\n",
       "├─────────────────────────────────┼────────────────────────┼───────────────┤\n",
       "│ dense_43 (\u001b[38;5;33mDense\u001b[0m)                │ ?                      │   \u001b[38;5;34m0\u001b[0m (unbuilt) │\n",
       "├─────────────────────────────────┼────────────────────────┼───────────────┤\n",
       "│ dense_44 (\u001b[38;5;33mDense\u001b[0m)                │ ?                      │   \u001b[38;5;34m0\u001b[0m (unbuilt) │\n",
       "└─────────────────────────────────┴────────────────────────┴───────────────┘\n"
      ]
     },
     "metadata": {},
     "output_type": "display_data"
    },
    {
     "data": {
      "text/html": [
       "<pre style=\"white-space:pre;overflow-x:auto;line-height:normal;font-family:Menlo,'DejaVu Sans Mono',consolas,'Courier New',monospace\"><span style=\"font-weight: bold\"> Total params: </span><span style=\"color: #00af00; text-decoration-color: #00af00\">0</span> (0.00 B)\n",
       "</pre>\n"
      ],
      "text/plain": [
       "\u001b[1m Total params: \u001b[0m\u001b[38;5;34m0\u001b[0m (0.00 B)\n"
      ]
     },
     "metadata": {},
     "output_type": "display_data"
    },
    {
     "data": {
      "text/html": [
       "<pre style=\"white-space:pre;overflow-x:auto;line-height:normal;font-family:Menlo,'DejaVu Sans Mono',consolas,'Courier New',monospace\"><span style=\"font-weight: bold\"> Trainable params: </span><span style=\"color: #00af00; text-decoration-color: #00af00\">0</span> (0.00 B)\n",
       "</pre>\n"
      ],
      "text/plain": [
       "\u001b[1m Trainable params: \u001b[0m\u001b[38;5;34m0\u001b[0m (0.00 B)\n"
      ]
     },
     "metadata": {},
     "output_type": "display_data"
    },
    {
     "data": {
      "text/html": [
       "<pre style=\"white-space:pre;overflow-x:auto;line-height:normal;font-family:Menlo,'DejaVu Sans Mono',consolas,'Courier New',monospace\"><span style=\"font-weight: bold\"> Non-trainable params: </span><span style=\"color: #00af00; text-decoration-color: #00af00\">0</span> (0.00 B)\n",
       "</pre>\n"
      ],
      "text/plain": [
       "\u001b[1m Non-trainable params: \u001b[0m\u001b[38;5;34m0\u001b[0m (0.00 B)\n"
      ]
     },
     "metadata": {},
     "output_type": "display_data"
    }
   ],
   "source": [
    "model = WideAndDeepModel(30, activation='relu', name='MyWideAndDeepModel')\n",
    "\n",
    "model.summary()"
   ]
  },
  {
   "cell_type": "code",
   "execution_count": 94,
   "metadata": {},
   "outputs": [
    {
     "name": "stdout",
     "output_type": "stream",
     "text": [
      "Epoch 1/20\n",
      "\u001b[1m363/363\u001b[0m \u001b[32m━━━━━━━━━━━━━━━━━━━━\u001b[0m\u001b[37m\u001b[0m \u001b[1m1s\u001b[0m 891us/step - accuracy: 0.0023 - accuracy_1: 0.0023 - loss: 6.2278 - mse_loss: 2.5244\n",
      "Epoch 2/20\n",
      "\u001b[1m363/363\u001b[0m \u001b[32m━━━━━━━━━━━━━━━━━━━━\u001b[0m\u001b[37m\u001b[0m \u001b[1m0s\u001b[0m 883us/step - accuracy: 0.0021 - accuracy_1: 0.0021 - loss: 1.2987 - mse_loss: 0.6590  \n",
      "Epoch 3/20\n",
      "\u001b[1m363/363\u001b[0m \u001b[32m━━━━━━━━━━━━━━━━━━━━\u001b[0m\u001b[37m\u001b[0m \u001b[1m0s\u001b[0m 934us/step - accuracy: 0.0022 - accuracy_1: 0.0023 - loss: 1.0671 - mse_loss: 0.5607\n",
      "Epoch 4/20\n",
      "\u001b[1m363/363\u001b[0m \u001b[32m━━━━━━━━━━━━━━━━━━━━\u001b[0m\u001b[37m\u001b[0m \u001b[1m0s\u001b[0m 875us/step - accuracy: 0.0022 - accuracy_1: 0.0023 - loss: 0.9851 - mse_loss: 0.5282\n",
      "Epoch 5/20\n",
      "\u001b[1m363/363\u001b[0m \u001b[32m━━━━━━━━━━━━━━━━━━━━\u001b[0m\u001b[37m\u001b[0m \u001b[1m0s\u001b[0m 843us/step - accuracy: 0.0022 - accuracy_1: 0.0022 - loss: 0.9271 - mse_loss: 0.5048  \n",
      "Epoch 6/20\n",
      "\u001b[1m363/363\u001b[0m \u001b[32m━━━━━━━━━━━━━━━━━━━━\u001b[0m\u001b[37m\u001b[0m \u001b[1m0s\u001b[0m 827us/step - accuracy: 0.0023 - accuracy_1: 0.0022 - loss: 0.8835 - mse_loss: 0.4847  \n",
      "Epoch 7/20\n",
      "\u001b[1m363/363\u001b[0m \u001b[32m━━━━━━━━━━━━━━━━━━━━\u001b[0m\u001b[37m\u001b[0m \u001b[1m0s\u001b[0m 884us/step - accuracy: 0.0023 - accuracy_1: 0.0022 - loss: 0.8440 - mse_loss: 0.4622  \n",
      "Epoch 8/20\n",
      "\u001b[1m363/363\u001b[0m \u001b[32m━━━━━━━━━━━━━━━━━━━━\u001b[0m\u001b[37m\u001b[0m \u001b[1m0s\u001b[0m 795us/step - accuracy: 0.0022 - accuracy_1: 0.0022 - loss: 0.8107 - mse_loss: 0.4419\n",
      "Epoch 9/20\n",
      "\u001b[1m363/363\u001b[0m \u001b[32m━━━━━━━━━━━━━━━━━━━━\u001b[0m\u001b[37m\u001b[0m \u001b[1m0s\u001b[0m 842us/step - accuracy: 0.0023 - accuracy_1: 0.0022 - loss: 0.7886 - mse_loss: 0.4275\n",
      "Epoch 10/20\n",
      "\u001b[1m363/363\u001b[0m \u001b[32m━━━━━━━━━━━━━━━━━━━━\u001b[0m\u001b[37m\u001b[0m \u001b[1m0s\u001b[0m 744us/step - accuracy: 0.0023 - accuracy_1: 0.0021 - loss: 0.7740 - mse_loss: 0.4180    \n",
      "Epoch 11/20\n",
      "\u001b[1m363/363\u001b[0m \u001b[32m━━━━━━━━━━━━━━━━━━━━\u001b[0m\u001b[37m\u001b[0m \u001b[1m0s\u001b[0m 744us/step - accuracy: 0.0023 - accuracy_1: 0.0021 - loss: 0.7629 - mse_loss: 0.4107  \n",
      "Epoch 12/20\n",
      "\u001b[1m363/363\u001b[0m \u001b[32m━━━━━━━━━━━━━━━━━━━━\u001b[0m\u001b[37m\u001b[0m \u001b[1m0s\u001b[0m 831us/step - accuracy: 0.0022 - accuracy_1: 0.0022 - loss: 0.7543 - mse_loss: 0.4054\n",
      "Epoch 13/20\n",
      "\u001b[1m363/363\u001b[0m \u001b[32m━━━━━━━━━━━━━━━━━━━━\u001b[0m\u001b[37m\u001b[0m \u001b[1m0s\u001b[0m 786us/step - accuracy: 0.0022 - accuracy_1: 0.0022 - loss: 0.7481 - mse_loss: 0.4015\n",
      "Epoch 14/20\n",
      "\u001b[1m363/363\u001b[0m \u001b[32m━━━━━━━━━━━━━━━━━━━━\u001b[0m\u001b[37m\u001b[0m \u001b[1m0s\u001b[0m 769us/step - accuracy: 0.0023 - accuracy_1: 0.0022 - loss: 0.7429 - mse_loss: 0.3990  \n",
      "Epoch 15/20\n",
      "\u001b[1m363/363\u001b[0m \u001b[32m━━━━━━━━━━━━━━━━━━━━\u001b[0m\u001b[37m\u001b[0m \u001b[1m0s\u001b[0m 770us/step - accuracy: 0.0022 - accuracy_1: 0.0022 - loss: 0.7381 - mse_loss: 0.3958\n",
      "Epoch 16/20\n",
      "\u001b[1m363/363\u001b[0m \u001b[32m━━━━━━━━━━━━━━━━━━━━\u001b[0m\u001b[37m\u001b[0m \u001b[1m0s\u001b[0m 788us/step - accuracy: 0.0023 - accuracy_1: 0.0022 - loss: 0.7352 - mse_loss: 0.3945\n",
      "Epoch 17/20\n",
      "\u001b[1m363/363\u001b[0m \u001b[32m━━━━━━━━━━━━━━━━━━━━\u001b[0m\u001b[37m\u001b[0m \u001b[1m0s\u001b[0m 827us/step - accuracy: 0.0023 - accuracy_1: 0.0022 - loss: 0.7270 - mse_loss: 0.3885\n",
      "Epoch 18/20\n",
      "\u001b[1m363/363\u001b[0m \u001b[32m━━━━━━━━━━━━━━━━━━━━\u001b[0m\u001b[37m\u001b[0m \u001b[1m0s\u001b[0m 765us/step - accuracy: 0.0023 - accuracy_1: 0.0022 - loss: 0.7220 - mse_loss: 0.3859  \n",
      "Epoch 19/20\n",
      "\u001b[1m363/363\u001b[0m \u001b[32m━━━━━━━━━━━━━━━━━━━━\u001b[0m\u001b[37m\u001b[0m \u001b[1m0s\u001b[0m 797us/step - accuracy: 0.0023 - accuracy_1: 0.0022 - loss: 0.7201 - mse_loss: 0.3855\n",
      "Epoch 20/20\n",
      "\u001b[1m363/363\u001b[0m \u001b[32m━━━━━━━━━━━━━━━━━━━━\u001b[0m\u001b[37m\u001b[0m \u001b[1m0s\u001b[0m 919us/step - accuracy: 0.0023 - accuracy_1: 0.0022 - loss: 0.7138 - mse_loss: 0.3799\n",
      "\u001b[1m162/162\u001b[0m \u001b[32m━━━━━━━━━━━━━━━━━━━━\u001b[0m\u001b[37m\u001b[0m \u001b[1m0s\u001b[0m 713us/step - accuracy: 0.0015 - accuracy_1: 0.0016 - loss: 0.7255 - mse_loss: 0.3904     \n"
     ]
    },
    {
     "data": {
      "text/plain": [
       "[0.7125760316848755,\n",
       " 0.0019379844889044762,\n",
       " 0.0019379844889044762,\n",
       " 0.3831309974193573,\n",
       " 0.3831309974193573,\n",
       " 0.0021317829377949238]"
      ]
     },
     "execution_count": 94,
     "metadata": {},
     "output_type": "execute_result"
    }
   ],
   "source": [
    "model.compile(loss=('mse', 'mse'), optimizer='adam', metrics=['accuracy', 'accuracy'])\n",
    "\n",
    "model.norm_l_w.adapt(X_tr_w)\n",
    "model.norm_l_d.adapt(X_tr_d)\n",
    "\n",
    "# by default epoch is 1\n",
    "model.fit((X_tr_w, X_tr_d), (y_tr, y_tr), epochs=20)\n",
    "model.evaluate((X_ts_w, X_ts_d), (y_ts, y_ts))"
   ]
  },
  {
   "cell_type": "code",
   "execution_count": 95,
   "metadata": {},
   "outputs": [
    {
     "data": {
      "text/html": [
       "<pre style=\"white-space:pre;overflow-x:auto;line-height:normal;font-family:Menlo,'DejaVu Sans Mono',consolas,'Courier New',monospace\"><span style=\"font-weight: bold\">Model: \"MyWideAndDeepModel\"</span>\n",
       "</pre>\n"
      ],
      "text/plain": [
       "\u001b[1mModel: \"MyWideAndDeepModel\"\u001b[0m\n"
      ]
     },
     "metadata": {},
     "output_type": "display_data"
    },
    {
     "data": {
      "text/html": [
       "<pre style=\"white-space:pre;overflow-x:auto;line-height:normal;font-family:Menlo,'DejaVu Sans Mono',consolas,'Courier New',monospace\">┏━━━━━━━━━━━━━━━━━━━━━━━━━━━━━━━━━┳━━━━━━━━━━━━━━━━━━━━━━━━┳━━━━━━━━━━━━━━━┓\n",
       "┃<span style=\"font-weight: bold\"> Layer (type)                    </span>┃<span style=\"font-weight: bold\"> Output Shape           </span>┃<span style=\"font-weight: bold\">       Param # </span>┃\n",
       "┡━━━━━━━━━━━━━━━━━━━━━━━━━━━━━━━━━╇━━━━━━━━━━━━━━━━━━━━━━━━╇━━━━━━━━━━━━━━━┩\n",
       "│ normalization_13                │ (<span style=\"color: #00af00; text-decoration-color: #00af00\">11610</span>, <span style=\"color: #00af00; text-decoration-color: #00af00\">5</span>)             │            <span style=\"color: #00af00; text-decoration-color: #00af00\">11</span> │\n",
       "│ (<span style=\"color: #0087ff; text-decoration-color: #0087ff\">Normalization</span>)                 │                        │               │\n",
       "├─────────────────────────────────┼────────────────────────┼───────────────┤\n",
       "│ normalization_14                │ (<span style=\"color: #00af00; text-decoration-color: #00af00\">11610</span>, <span style=\"color: #00af00; text-decoration-color: #00af00\">6</span>)             │            <span style=\"color: #00af00; text-decoration-color: #00af00\">13</span> │\n",
       "│ (<span style=\"color: #0087ff; text-decoration-color: #0087ff\">Normalization</span>)                 │                        │               │\n",
       "├─────────────────────────────────┼────────────────────────┼───────────────┤\n",
       "│ dense_41 (<span style=\"color: #0087ff; text-decoration-color: #0087ff\">Dense</span>)                │ (<span style=\"color: #00d7ff; text-decoration-color: #00d7ff\">None</span>, <span style=\"color: #00af00; text-decoration-color: #00af00\">30</span>)             │           <span style=\"color: #00af00; text-decoration-color: #00af00\">210</span> │\n",
       "├─────────────────────────────────┼────────────────────────┼───────────────┤\n",
       "│ dense_42 (<span style=\"color: #0087ff; text-decoration-color: #0087ff\">Dense</span>)                │ (<span style=\"color: #00d7ff; text-decoration-color: #00d7ff\">None</span>, <span style=\"color: #00af00; text-decoration-color: #00af00\">30</span>)             │           <span style=\"color: #00af00; text-decoration-color: #00af00\">930</span> │\n",
       "├─────────────────────────────────┼────────────────────────┼───────────────┤\n",
       "│ dense_43 (<span style=\"color: #0087ff; text-decoration-color: #0087ff\">Dense</span>)                │ (<span style=\"color: #00d7ff; text-decoration-color: #00d7ff\">None</span>, <span style=\"color: #00af00; text-decoration-color: #00af00\">1</span>)              │            <span style=\"color: #00af00; text-decoration-color: #00af00\">36</span> │\n",
       "├─────────────────────────────────┼────────────────────────┼───────────────┤\n",
       "│ dense_44 (<span style=\"color: #0087ff; text-decoration-color: #0087ff\">Dense</span>)                │ (<span style=\"color: #00d7ff; text-decoration-color: #00d7ff\">None</span>, <span style=\"color: #00af00; text-decoration-color: #00af00\">1</span>)              │            <span style=\"color: #00af00; text-decoration-color: #00af00\">31</span> │\n",
       "└─────────────────────────────────┴────────────────────────┴───────────────┘\n",
       "</pre>\n"
      ],
      "text/plain": [
       "┏━━━━━━━━━━━━━━━━━━━━━━━━━━━━━━━━━┳━━━━━━━━━━━━━━━━━━━━━━━━┳━━━━━━━━━━━━━━━┓\n",
       "┃\u001b[1m \u001b[0m\u001b[1mLayer (type)                   \u001b[0m\u001b[1m \u001b[0m┃\u001b[1m \u001b[0m\u001b[1mOutput Shape          \u001b[0m\u001b[1m \u001b[0m┃\u001b[1m \u001b[0m\u001b[1m      Param #\u001b[0m\u001b[1m \u001b[0m┃\n",
       "┡━━━━━━━━━━━━━━━━━━━━━━━━━━━━━━━━━╇━━━━━━━━━━━━━━━━━━━━━━━━╇━━━━━━━━━━━━━━━┩\n",
       "│ normalization_13                │ (\u001b[38;5;34m11610\u001b[0m, \u001b[38;5;34m5\u001b[0m)             │            \u001b[38;5;34m11\u001b[0m │\n",
       "│ (\u001b[38;5;33mNormalization\u001b[0m)                 │                        │               │\n",
       "├─────────────────────────────────┼────────────────────────┼───────────────┤\n",
       "│ normalization_14                │ (\u001b[38;5;34m11610\u001b[0m, \u001b[38;5;34m6\u001b[0m)             │            \u001b[38;5;34m13\u001b[0m │\n",
       "│ (\u001b[38;5;33mNormalization\u001b[0m)                 │                        │               │\n",
       "├─────────────────────────────────┼────────────────────────┼───────────────┤\n",
       "│ dense_41 (\u001b[38;5;33mDense\u001b[0m)                │ (\u001b[38;5;45mNone\u001b[0m, \u001b[38;5;34m30\u001b[0m)             │           \u001b[38;5;34m210\u001b[0m │\n",
       "├─────────────────────────────────┼────────────────────────┼───────────────┤\n",
       "│ dense_42 (\u001b[38;5;33mDense\u001b[0m)                │ (\u001b[38;5;45mNone\u001b[0m, \u001b[38;5;34m30\u001b[0m)             │           \u001b[38;5;34m930\u001b[0m │\n",
       "├─────────────────────────────────┼────────────────────────┼───────────────┤\n",
       "│ dense_43 (\u001b[38;5;33mDense\u001b[0m)                │ (\u001b[38;5;45mNone\u001b[0m, \u001b[38;5;34m1\u001b[0m)              │            \u001b[38;5;34m36\u001b[0m │\n",
       "├─────────────────────────────────┼────────────────────────┼───────────────┤\n",
       "│ dense_44 (\u001b[38;5;33mDense\u001b[0m)                │ (\u001b[38;5;45mNone\u001b[0m, \u001b[38;5;34m1\u001b[0m)              │            \u001b[38;5;34m31\u001b[0m │\n",
       "└─────────────────────────────────┴────────────────────────┴───────────────┘\n"
      ]
     },
     "metadata": {},
     "output_type": "display_data"
    },
    {
     "data": {
      "text/html": [
       "<pre style=\"white-space:pre;overflow-x:auto;line-height:normal;font-family:Menlo,'DejaVu Sans Mono',consolas,'Courier New',monospace\"><span style=\"font-weight: bold\"> Total params: </span><span style=\"color: #00af00; text-decoration-color: #00af00\">3,647</span> (14.26 KB)\n",
       "</pre>\n"
      ],
      "text/plain": [
       "\u001b[1m Total params: \u001b[0m\u001b[38;5;34m3,647\u001b[0m (14.26 KB)\n"
      ]
     },
     "metadata": {},
     "output_type": "display_data"
    },
    {
     "data": {
      "text/html": [
       "<pre style=\"white-space:pre;overflow-x:auto;line-height:normal;font-family:Menlo,'DejaVu Sans Mono',consolas,'Courier New',monospace\"><span style=\"font-weight: bold\"> Trainable params: </span><span style=\"color: #00af00; text-decoration-color: #00af00\">1,207</span> (4.71 KB)\n",
       "</pre>\n"
      ],
      "text/plain": [
       "\u001b[1m Trainable params: \u001b[0m\u001b[38;5;34m1,207\u001b[0m (4.71 KB)\n"
      ]
     },
     "metadata": {},
     "output_type": "display_data"
    },
    {
     "data": {
      "text/html": [
       "<pre style=\"white-space:pre;overflow-x:auto;line-height:normal;font-family:Menlo,'DejaVu Sans Mono',consolas,'Courier New',monospace\"><span style=\"font-weight: bold\"> Non-trainable params: </span><span style=\"color: #00af00; text-decoration-color: #00af00\">24</span> (104.00 B)\n",
       "</pre>\n"
      ],
      "text/plain": [
       "\u001b[1m Non-trainable params: \u001b[0m\u001b[38;5;34m24\u001b[0m (104.00 B)\n"
      ]
     },
     "metadata": {},
     "output_type": "display_data"
    },
    {
     "data": {
      "text/html": [
       "<pre style=\"white-space:pre;overflow-x:auto;line-height:normal;font-family:Menlo,'DejaVu Sans Mono',consolas,'Courier New',monospace\"><span style=\"font-weight: bold\"> Optimizer params: </span><span style=\"color: #00af00; text-decoration-color: #00af00\">2,416</span> (9.44 KB)\n",
       "</pre>\n"
      ],
      "text/plain": [
       "\u001b[1m Optimizer params: \u001b[0m\u001b[38;5;34m2,416\u001b[0m (9.44 KB)\n"
      ]
     },
     "metadata": {},
     "output_type": "display_data"
    }
   ],
   "source": [
    "model.summary()"
   ]
  },
  {
   "cell_type": "markdown",
   "metadata": {},
   "source": [
    "# Save and Restore Models"
   ]
  },
  {
   "cell_type": "code",
   "execution_count": 96,
   "metadata": {},
   "outputs": [],
   "source": [
    "model.save('wide_and_deep_model.keras')"
   ]
  },
  {
   "cell_type": "markdown",
   "metadata": {},
   "source": [
    "### SavedModel\n",
    "This format is needed by most TF deployment tools\n",
    "\n",
    "`saved_model.pb`\n",
    "  - contains arch + logic\n",
    "  - stores as a serialized computation graph\n",
    "  - only need to use this for production, no need to deploy model's source code\n",
    "`keras_metadata.pb`\n",
    "  - extra info needed by keras\n",
    "`variables/`\n",
    "  - contains all param values\n",
    "    - connection weights, biases, normalization stats, optimizer params\n",
    "    - can be split across files if model is large\n",
    "`assets/`\n",
    "  - extra files\n",
    "    - data samples, feature names, class names, etc\n",
    "\n",
    "Optimizer is saved too, so we can continue training after loading it"
   ]
  },
  {
   "cell_type": "code",
   "execution_count": 97,
   "metadata": {},
   "outputs": [
    {
     "name": "stdout",
     "output_type": "stream",
     "text": [
      "INFO:tensorflow:Assets written to: wide_and_deep_model\\assets\n"
     ]
    },
    {
     "name": "stderr",
     "output_type": "stream",
     "text": [
      "INFO:tensorflow:Assets written to: wide_and_deep_model\\assets\n"
     ]
    },
    {
     "name": "stdout",
     "output_type": "stream",
     "text": [
      "Saved artifact at 'wide_and_deep_model'. The following endpoints are available:\n",
      "\n",
      "* Endpoint 'serve'\n",
      "  args_0 (POSITIONAL_ONLY): Tuple[TensorSpec(shape=(None, 5), dtype=tf.float32, name=None), TensorSpec(shape=(None, 6), dtype=tf.float32, name=None)]\n",
      "Output Type:\n",
      "  Tuple[TensorSpec(shape=(None, 1), dtype=tf.float32, name=None), TensorSpec(shape=(None, 1), dtype=tf.float32, name=None)]\n",
      "Captures:\n",
      "  1602324951504: TensorSpec(shape=(1, 5), dtype=tf.float32, name=None)\n",
      "  1602324951888: TensorSpec(shape=(1, 5), dtype=tf.float32, name=None)\n",
      "  1602324953040: TensorSpec(shape=(1, 6), dtype=tf.float32, name=None)\n",
      "  1602324953424: TensorSpec(shape=(1, 6), dtype=tf.float32, name=None)\n",
      "  1602324945168: TensorSpec(shape=(), dtype=tf.resource, name=None)\n",
      "  1602324946320: TensorSpec(shape=(), dtype=tf.resource, name=None)\n",
      "  1602324946128: TensorSpec(shape=(), dtype=tf.resource, name=None)\n",
      "  1602324945744: TensorSpec(shape=(), dtype=tf.resource, name=None)\n",
      "  1602326056784: TensorSpec(shape=(), dtype=tf.resource, name=None)\n",
      "  1602326057360: TensorSpec(shape=(), dtype=tf.resource, name=None)\n",
      "  1602326055824: TensorSpec(shape=(), dtype=tf.resource, name=None)\n",
      "  1602326057744: TensorSpec(shape=(), dtype=tf.resource, name=None)\n"
     ]
    }
   ],
   "source": [
    "model.export(\"wide_and_deep_model\")"
   ]
  },
  {
   "cell_type": "markdown",
   "metadata": {},
   "source": [
    "### Loading the model"
   ]
  },
  {
   "cell_type": "code",
   "execution_count": 98,
   "metadata": {},
   "outputs": [
    {
     "name": "stdout",
     "output_type": "stream",
     "text": [
      "WARNING:tensorflow:From c:\\dev\\miniconda\\envs\\homl-learn\\Lib\\site-packages\\keras\\src\\backend\\tensorflow\\core.py:204: The name tf.placeholder is deprecated. Please use tf.compat.v1.placeholder instead.\n",
      "\n"
     ]
    },
    {
     "name": "stderr",
     "output_type": "stream",
     "text": [
      "WARNING:tensorflow:From c:\\dev\\miniconda\\envs\\homl-learn\\Lib\\site-packages\\keras\\src\\backend\\tensorflow\\core.py:204: The name tf.placeholder is deprecated. Please use tf.compat.v1.placeholder instead.\n",
      "\n"
     ]
    },
    {
     "name": "stdout",
     "output_type": "stream",
     "text": [
      "WARNING:tensorflow:5 out of the last 5 calls to <function TensorFlowTrainer.make_predict_function.<locals>.one_step_on_data_distributed at 0x0000017513574AE0> triggered tf.function retracing. Tracing is expensive and the excessive number of tracings could be due to (1) creating @tf.function repeatedly in a loop, (2) passing tensors with different shapes, (3) passing Python objects instead of tensors. For (1), please define your @tf.function outside of the loop. For (2), @tf.function has reduce_retracing=True option that can avoid unnecessary retracing. For (3), please refer to https://www.tensorflow.org/guide/function#controlling_retracing and https://www.tensorflow.org/api_docs/python/tf/function for  more details.\n"
     ]
    },
    {
     "name": "stderr",
     "output_type": "stream",
     "text": [
      "WARNING:tensorflow:5 out of the last 5 calls to <function TensorFlowTrainer.make_predict_function.<locals>.one_step_on_data_distributed at 0x0000017513574AE0> triggered tf.function retracing. Tracing is expensive and the excessive number of tracings could be due to (1) creating @tf.function repeatedly in a loop, (2) passing tensors with different shapes, (3) passing Python objects instead of tensors. For (1), please define your @tf.function outside of the loop. For (2), @tf.function has reduce_retracing=True option that can avoid unnecessary retracing. For (3), please refer to https://www.tensorflow.org/guide/function#controlling_retracing and https://www.tensorflow.org/api_docs/python/tf/function for  more details.\n"
     ]
    },
    {
     "name": "stdout",
     "output_type": "stream",
     "text": [
      "\u001b[1m1/1\u001b[0m \u001b[32m━━━━━━━━━━━━━━━━━━━━\u001b[0m\u001b[37m\u001b[0m \u001b[1m0s\u001b[0m 50ms/step\n"
     ]
    },
    {
     "data": {
      "text/plain": [
       "(array([[0.58665466],\n",
       "        [1.1329693 ],\n",
       "        [3.431662  ]], dtype=float32),\n",
       " array([[0.61015236],\n",
       "        [0.9639009 ],\n",
       "        [3.1733038 ]], dtype=float32))"
      ]
     },
     "execution_count": 98,
     "metadata": {},
     "output_type": "execute_result"
    }
   ],
   "source": [
    "model = tf.keras.models.load_model('wide_and_deep_model.keras')\n",
    "model.predict((X_new_w, X_new_d))"
   ]
  },
  {
   "cell_type": "markdown",
   "metadata": {},
   "source": [
    "Load SavedModel as a layer"
   ]
  },
  {
   "cell_type": "code",
   "execution_count": 103,
   "metadata": {},
   "outputs": [],
   "source": [
    "model = tf.keras.layers.TFSMLayer(\"wide_and_deep_model\", call_endpoint='serving_default')"
   ]
  },
  {
   "cell_type": "markdown",
   "metadata": {},
   "source": [
    "### Saving and Loading Weights\n",
    "Use `save_weights()`, `load_weights()`\n",
    "<br>It's faster and uses less disk space, perfect for quick checkpoints during training."
   ]
  },
  {
   "cell_type": "markdown",
   "metadata": {},
   "source": [
    "# Callbacks"
   ]
  },
  {
   "cell_type": "markdown",
   "metadata": {},
   "source": [
    "`fit()` takes list of objects\n",
    "<br>These are called before & after training, before & after each epoch, and even before & after each batch"
   ]
  },
  {
   "cell_type": "markdown",
   "metadata": {},
   "source": [
    "### `ModelCheckpoint` Callback\n",
    "Saves checkpoints of model at regular intervals (by default, at end of epochs)"
   ]
  },
  {
   "cell_type": "code",
   "execution_count": 106,
   "metadata": {},
   "outputs": [
    {
     "name": "stdout",
     "output_type": "stream",
     "text": [
      "Epoch 1/20\n",
      "\u001b[1m363/363\u001b[0m \u001b[32m━━━━━━━━━━━━━━━━━━━━\u001b[0m\u001b[37m\u001b[0m \u001b[1m1s\u001b[0m 930us/step - accuracy: 0.0023 - accuracy_1: 0.0022 - loss: 0.7068 - mse_loss: 0.3770\n",
      "Epoch 2/20\n",
      "\u001b[1m363/363\u001b[0m \u001b[32m━━━━━━━━━━━━━━━━━━━━\u001b[0m\u001b[37m\u001b[0m \u001b[1m0s\u001b[0m 931us/step - accuracy: 0.0023 - accuracy_1: 0.0023 - loss: 0.7016 - mse_loss: 0.3743  \n",
      "Epoch 3/20\n",
      "\u001b[1m363/363\u001b[0m \u001b[32m━━━━━━━━━━━━━━━━━━━━\u001b[0m\u001b[37m\u001b[0m \u001b[1m0s\u001b[0m 959us/step - accuracy: 0.0023 - accuracy_1: 0.0023 - loss: 0.6986 - mse_loss: 0.3727\n",
      "Epoch 4/20\n",
      "\u001b[1m363/363\u001b[0m \u001b[32m━━━━━━━━━━━━━━━━━━━━\u001b[0m\u001b[37m\u001b[0m \u001b[1m0s\u001b[0m 1ms/step - accuracy: 0.0023 - accuracy_1: 0.0023 - loss: 0.6943 - mse_loss: 0.3705  \n",
      "Epoch 5/20\n",
      "\u001b[1m363/363\u001b[0m \u001b[32m━━━━━━━━━━━━━━━━━━━━\u001b[0m\u001b[37m\u001b[0m \u001b[1m0s\u001b[0m 890us/step - accuracy: 0.0023 - accuracy_1: 0.0023 - loss: 0.6914 - mse_loss: 0.3684\n",
      "Epoch 6/20\n",
      "\u001b[1m363/363\u001b[0m \u001b[32m━━━━━━━━━━━━━━━━━━━━\u001b[0m\u001b[37m\u001b[0m \u001b[1m0s\u001b[0m 902us/step - accuracy: 0.0023 - accuracy_1: 0.0023 - loss: 0.6872 - mse_loss: 0.3661\n",
      "Epoch 7/20\n",
      "\u001b[1m363/363\u001b[0m \u001b[32m━━━━━━━━━━━━━━━━━━━━\u001b[0m\u001b[37m\u001b[0m \u001b[1m0s\u001b[0m 873us/step - accuracy: 0.0023 - accuracy_1: 0.0023 - loss: 0.6840 - mse_loss: 0.3643\n",
      "Epoch 8/20\n",
      "\u001b[1m363/363\u001b[0m \u001b[32m━━━━━━━━━━━━━━━━━━━━\u001b[0m\u001b[37m\u001b[0m \u001b[1m0s\u001b[0m 869us/step - accuracy: 0.0023 - accuracy_1: 0.0023 - loss: 0.6806 - mse_loss: 0.3623\n",
      "Epoch 9/20\n",
      "\u001b[1m363/363\u001b[0m \u001b[32m━━━━━━━━━━━━━━━━━━━━\u001b[0m\u001b[37m\u001b[0m \u001b[1m0s\u001b[0m 906us/step - accuracy: 0.0023 - accuracy_1: 0.0023 - loss: 0.6781 - mse_loss: 0.3608  \n",
      "Epoch 10/20\n",
      "\u001b[1m363/363\u001b[0m \u001b[32m━━━━━━━━━━━━━━━━━━━━\u001b[0m\u001b[37m\u001b[0m \u001b[1m0s\u001b[0m 1ms/step - accuracy: 0.0023 - accuracy_1: 0.0023 - loss: 0.6756 - mse_loss: 0.3590  \n",
      "Epoch 11/20\n",
      "\u001b[1m363/363\u001b[0m \u001b[32m━━━━━━━━━━━━━━━━━━━━\u001b[0m\u001b[37m\u001b[0m \u001b[1m0s\u001b[0m 870us/step - accuracy: 0.0023 - accuracy_1: 0.0023 - loss: 0.6714 - mse_loss: 0.3571\n",
      "Epoch 12/20\n",
      "\u001b[1m363/363\u001b[0m \u001b[32m━━━━━━━━━━━━━━━━━━━━\u001b[0m\u001b[37m\u001b[0m \u001b[1m0s\u001b[0m 941us/step - accuracy: 0.0023 - accuracy_1: 0.0023 - loss: 0.6701 - mse_loss: 0.3568\n",
      "Epoch 13/20\n",
      "\u001b[1m363/363\u001b[0m \u001b[32m━━━━━━━━━━━━━━━━━━━━\u001b[0m\u001b[37m\u001b[0m \u001b[1m0s\u001b[0m 890us/step - accuracy: 0.0023 - accuracy_1: 0.0023 - loss: 0.6672 - mse_loss: 0.3538\n",
      "Epoch 14/20\n",
      "\u001b[1m363/363\u001b[0m \u001b[32m━━━━━━━━━━━━━━━━━━━━\u001b[0m\u001b[37m\u001b[0m \u001b[1m0s\u001b[0m 972us/step - accuracy: 0.0023 - accuracy_1: 0.0023 - loss: 0.6632 - mse_loss: 0.3524\n",
      "Epoch 15/20\n",
      "\u001b[1m363/363\u001b[0m \u001b[32m━━━━━━━━━━━━━━━━━━━━\u001b[0m\u001b[37m\u001b[0m \u001b[1m0s\u001b[0m 887us/step - accuracy: 0.0023 - accuracy_1: 0.0023 - loss: 0.6599 - mse_loss: 0.3503  \n",
      "Epoch 16/20\n",
      "\u001b[1m363/363\u001b[0m \u001b[32m━━━━━━━━━━━━━━━━━━━━\u001b[0m\u001b[37m\u001b[0m \u001b[1m0s\u001b[0m 893us/step - accuracy: 0.0023 - accuracy_1: 0.0023 - loss: 0.6562 - mse_loss: 0.3481\n",
      "Epoch 17/20\n",
      "\u001b[1m363/363\u001b[0m \u001b[32m━━━━━━━━━━━━━━━━━━━━\u001b[0m\u001b[37m\u001b[0m \u001b[1m0s\u001b[0m 907us/step - accuracy: 0.0022 - accuracy_1: 0.0023 - loss: 0.6530 - mse_loss: 0.3462\n",
      "Epoch 18/20\n",
      "\u001b[1m363/363\u001b[0m \u001b[32m━━━━━━━━━━━━━━━━━━━━\u001b[0m\u001b[37m\u001b[0m \u001b[1m0s\u001b[0m 885us/step - accuracy: 0.0022 - accuracy_1: 0.0023 - loss: 0.6507 - mse_loss: 0.3451  \n",
      "Epoch 19/20\n",
      "\u001b[1m363/363\u001b[0m \u001b[32m━━━━━━━━━━━━━━━━━━━━\u001b[0m\u001b[37m\u001b[0m \u001b[1m0s\u001b[0m 897us/step - accuracy: 0.0022 - accuracy_1: 0.0023 - loss: 0.6529 - mse_loss: 0.3458\n",
      "Epoch 20/20\n",
      "\u001b[1m363/363\u001b[0m \u001b[32m━━━━━━━━━━━━━━━━━━━━\u001b[0m\u001b[37m\u001b[0m \u001b[1m0s\u001b[0m 1ms/step - accuracy: 0.0022 - accuracy_1: 0.0023 - loss: 0.6544 - mse_loss: 0.3469\n"
     ]
    }
   ],
   "source": [
    "checkpoint_cb = tf.keras.callbacks.ModelCheckpoint('my_checkpoints.weights.h5',\n",
    "                                                   save_weights_only=True)\n",
    "model = tf.keras.models.load_model('wide_and_deep_model.keras')\n",
    "hist = model.fit((X_tr_w, X_tr_d), (y_tr, y_tr), epochs=20, callbacks=[checkpoint_cb])"
   ]
  },
  {
   "cell_type": "markdown",
   "metadata": {},
   "source": [
    "We can set `save_best_only` if we provide `validation_data`"
   ]
  },
  {
   "cell_type": "code",
   "execution_count": 107,
   "metadata": {},
   "outputs": [
    {
     "name": "stdout",
     "output_type": "stream",
     "text": [
      "Epoch 1/20\n",
      "\u001b[1m363/363\u001b[0m \u001b[32m━━━━━━━━━━━━━━━━━━━━\u001b[0m\u001b[37m\u001b[0m \u001b[1m2s\u001b[0m 2ms/step - accuracy: 0.0023 - accuracy_1: 0.0022 - loss: 0.7068 - mse_loss: 0.3770 - val_accuracy: 0.0044 - val_accuracy_1: 0.0041 - val_loss: 1.6017 - val_mse_loss: 1.1702\n",
      "Epoch 2/20\n",
      "\u001b[1m363/363\u001b[0m \u001b[32m━━━━━━━━━━━━━━━━━━━━\u001b[0m\u001b[37m\u001b[0m \u001b[1m0s\u001b[0m 1ms/step - accuracy: 0.0023 - accuracy_1: 0.0023 - loss: 0.7016 - mse_loss: 0.3743 - val_accuracy: 0.0044 - val_accuracy_1: 0.0041 - val_loss: 0.9393 - val_mse_loss: 0.5885\n",
      "Epoch 3/20\n",
      "\u001b[1m363/363\u001b[0m \u001b[32m━━━━━━━━━━━━━━━━━━━━\u001b[0m\u001b[37m\u001b[0m \u001b[1m0s\u001b[0m 1ms/step - accuracy: 0.0023 - accuracy_1: 0.0023 - loss: 0.6986 - mse_loss: 0.3727 - val_accuracy: 0.0044 - val_accuracy_1: 0.0041 - val_loss: 1.6497 - val_mse_loss: 1.1556\n",
      "Epoch 4/20\n",
      "\u001b[1m363/363\u001b[0m \u001b[32m━━━━━━━━━━━━━━━━━━━━\u001b[0m\u001b[37m\u001b[0m \u001b[1m0s\u001b[0m 1ms/step - accuracy: 0.0023 - accuracy_1: 0.0023 - loss: 0.6943 - mse_loss: 0.3705 - val_accuracy: 0.0044 - val_accuracy_1: 0.0041 - val_loss: 0.9036 - val_mse_loss: 0.5068\n",
      "Epoch 5/20\n",
      "\u001b[1m363/363\u001b[0m \u001b[32m━━━━━━━━━━━━━━━━━━━━\u001b[0m\u001b[37m\u001b[0m \u001b[1m0s\u001b[0m 1ms/step - accuracy: 0.0023 - accuracy_1: 0.0023 - loss: 0.6914 - mse_loss: 0.3684 - val_accuracy: 0.0044 - val_accuracy_1: 0.0041 - val_loss: 1.6681 - val_mse_loss: 1.1145\n",
      "Epoch 6/20\n",
      "\u001b[1m363/363\u001b[0m \u001b[32m━━━━━━━━━━━━━━━━━━━━\u001b[0m\u001b[37m\u001b[0m \u001b[1m0s\u001b[0m 1ms/step - accuracy: 0.0023 - accuracy_1: 0.0023 - loss: 0.6872 - mse_loss: 0.3661 - val_accuracy: 0.0044 - val_accuracy_1: 0.0041 - val_loss: 0.7874 - val_mse_loss: 0.4411\n",
      "Epoch 7/20\n",
      "\u001b[1m363/363\u001b[0m \u001b[32m━━━━━━━━━━━━━━━━━━━━\u001b[0m\u001b[37m\u001b[0m \u001b[1m0s\u001b[0m 1ms/step - accuracy: 0.0023 - accuracy_1: 0.0023 - loss: 0.6840 - mse_loss: 0.3643 - val_accuracy: 0.0044 - val_accuracy_1: 0.0041 - val_loss: 1.2068 - val_mse_loss: 0.8134\n",
      "Epoch 8/20\n",
      "\u001b[1m363/363\u001b[0m \u001b[32m━━━━━━━━━━━━━━━━━━━━\u001b[0m\u001b[37m\u001b[0m \u001b[1m0s\u001b[0m 1ms/step - accuracy: 0.0023 - accuracy_1: 0.0023 - loss: 0.6806 - mse_loss: 0.3623 - val_accuracy: 0.0044 - val_accuracy_1: 0.0041 - val_loss: 0.6611 - val_mse_loss: 0.3590\n",
      "Epoch 9/20\n",
      "\u001b[1m363/363\u001b[0m \u001b[32m━━━━━━━━━━━━━━━━━━━━\u001b[0m\u001b[37m\u001b[0m \u001b[1m0s\u001b[0m 1ms/step - accuracy: 0.0023 - accuracy_1: 0.0023 - loss: 0.6781 - mse_loss: 0.3608 - val_accuracy: 0.0044 - val_accuracy_1: 0.0041 - val_loss: 1.3723 - val_mse_loss: 0.9738\n",
      "Epoch 10/20\n",
      "\u001b[1m363/363\u001b[0m \u001b[32m━━━━━━━━━━━━━━━━━━━━\u001b[0m\u001b[37m\u001b[0m \u001b[1m0s\u001b[0m 1ms/step - accuracy: 0.0023 - accuracy_1: 0.0023 - loss: 0.6756 - mse_loss: 0.3590 - val_accuracy: 0.0044 - val_accuracy_1: 0.0041 - val_loss: 0.8644 - val_mse_loss: 0.5367\n",
      "Epoch 11/20\n",
      "\u001b[1m363/363\u001b[0m \u001b[32m━━━━━━━━━━━━━━━━━━━━\u001b[0m\u001b[37m\u001b[0m \u001b[1m0s\u001b[0m 1ms/step - accuracy: 0.0023 - accuracy_1: 0.0023 - loss: 0.6714 - mse_loss: 0.3571 - val_accuracy: 0.0044 - val_accuracy_1: 0.0041 - val_loss: 2.0922 - val_mse_loss: 1.4775\n",
      "Epoch 12/20\n",
      "\u001b[1m363/363\u001b[0m \u001b[32m━━━━━━━━━━━━━━━━━━━━\u001b[0m\u001b[37m\u001b[0m \u001b[1m0s\u001b[0m 1ms/step - accuracy: 0.0023 - accuracy_1: 0.0023 - loss: 0.6701 - mse_loss: 0.3568 - val_accuracy: 0.0044 - val_accuracy_1: 0.0041 - val_loss: 1.1134 - val_mse_loss: 0.5107\n",
      "Epoch 13/20\n",
      "\u001b[1m363/363\u001b[0m \u001b[32m━━━━━━━━━━━━━━━━━━━━\u001b[0m\u001b[37m\u001b[0m \u001b[1m0s\u001b[0m 1ms/step - accuracy: 0.0023 - accuracy_1: 0.0023 - loss: 0.6672 - mse_loss: 0.3538 - val_accuracy: 0.0044 - val_accuracy_1: 0.0041 - val_loss: 1.8720 - val_mse_loss: 1.2639\n",
      "Epoch 14/20\n",
      "\u001b[1m363/363\u001b[0m \u001b[32m━━━━━━━━━━━━━━━━━━━━\u001b[0m\u001b[37m\u001b[0m \u001b[1m0s\u001b[0m 1ms/step - accuracy: 0.0023 - accuracy_1: 0.0023 - loss: 0.6632 - mse_loss: 0.3524 - val_accuracy: 0.0044 - val_accuracy_1: 0.0041 - val_loss: 0.7409 - val_mse_loss: 0.4350\n",
      "Epoch 15/20\n",
      "\u001b[1m363/363\u001b[0m \u001b[32m━━━━━━━━━━━━━━━━━━━━\u001b[0m\u001b[37m\u001b[0m \u001b[1m1s\u001b[0m 1ms/step - accuracy: 0.0023 - accuracy_1: 0.0023 - loss: 0.6599 - mse_loss: 0.3503 - val_accuracy: 0.0044 - val_accuracy_1: 0.0041 - val_loss: 1.3846 - val_mse_loss: 0.9968\n",
      "Epoch 16/20\n",
      "\u001b[1m363/363\u001b[0m \u001b[32m━━━━━━━━━━━━━━━━━━━━\u001b[0m\u001b[37m\u001b[0m \u001b[1m1s\u001b[0m 1ms/step - accuracy: 0.0023 - accuracy_1: 0.0023 - loss: 0.6562 - mse_loss: 0.3481 - val_accuracy: 0.0044 - val_accuracy_1: 0.0041 - val_loss: 0.6776 - val_mse_loss: 0.3806\n",
      "Epoch 17/20\n",
      "\u001b[1m363/363\u001b[0m \u001b[32m━━━━━━━━━━━━━━━━━━━━\u001b[0m\u001b[37m\u001b[0m \u001b[1m0s\u001b[0m 1ms/step - accuracy: 0.0022 - accuracy_1: 0.0023 - loss: 0.6530 - mse_loss: 0.3462 - val_accuracy: 0.0044 - val_accuracy_1: 0.0041 - val_loss: 1.3257 - val_mse_loss: 0.9444\n",
      "Epoch 18/20\n",
      "\u001b[1m363/363\u001b[0m \u001b[32m━━━━━━━━━━━━━━━━━━━━\u001b[0m\u001b[37m\u001b[0m \u001b[1m0s\u001b[0m 1ms/step - accuracy: 0.0022 - accuracy_1: 0.0023 - loss: 0.6507 - mse_loss: 0.3451 - val_accuracy: 0.0044 - val_accuracy_1: 0.0041 - val_loss: 0.7119 - val_mse_loss: 0.4063\n",
      "Epoch 19/20\n",
      "\u001b[1m363/363\u001b[0m \u001b[32m━━━━━━━━━━━━━━━━━━━━\u001b[0m\u001b[37m\u001b[0m \u001b[1m0s\u001b[0m 1ms/step - accuracy: 0.0022 - accuracy_1: 0.0023 - loss: 0.6529 - mse_loss: 0.3458 - val_accuracy: 0.0044 - val_accuracy_1: 0.0041 - val_loss: 1.9191 - val_mse_loss: 1.4078\n",
      "Epoch 20/20\n",
      "\u001b[1m363/363\u001b[0m \u001b[32m━━━━━━━━━━━━━━━━━━━━\u001b[0m\u001b[37m\u001b[0m \u001b[1m0s\u001b[0m 1ms/step - accuracy: 0.0022 - accuracy_1: 0.0023 - loss: 0.6544 - mse_loss: 0.3469 - val_accuracy: 0.0044 - val_accuracy_1: 0.0041 - val_loss: 1.2406 - val_mse_loss: 0.8019\n"
     ]
    }
   ],
   "source": [
    "checkpoint_cb = tf.keras.callbacks.ModelCheckpoint('my_checkpoints.weights.h5',\n",
    "                                                   save_weights_only=True,\n",
    "                                                   save_best_only=True)\n",
    "model = tf.keras.models.load_model('wide_and_deep_model.keras')\n",
    "hist = model.fit((X_tr_w, X_tr_d), (y_tr, y_tr),\n",
    "                 validation_data=((X_val_w, X_val_d), (y_val, y_val)),\n",
    "                 epochs=20, callbacks=[checkpoint_cb])"
   ]
  },
  {
   "cell_type": "markdown",
   "metadata": {},
   "source": [
    "### `EarlyStopping` Callback\n",
    "Interrupts training when it measures no progress on val set for a number of epochs (defined by `patience`)\n",
    "<br>Set `restore_best_weights` to roll back to best model at end of training\n",
    "<br>It stores these in RAM"
   ]
  },
  {
   "cell_type": "code",
   "execution_count": 108,
   "metadata": {},
   "outputs": [
    {
     "name": "stdout",
     "output_type": "stream",
     "text": [
      "Epoch 1/20\n",
      "\u001b[1m363/363\u001b[0m \u001b[32m━━━━━━━━━━━━━━━━━━━━\u001b[0m\u001b[37m\u001b[0m \u001b[1m1s\u001b[0m 2ms/step - accuracy: 0.0023 - accuracy_1: 0.0022 - loss: 0.7068 - mse_loss: 0.3770 - val_accuracy: 0.0044 - val_accuracy_1: 0.0041 - val_loss: 1.6017 - val_mse_loss: 1.1702\n",
      "Epoch 2/20\n",
      "\u001b[1m363/363\u001b[0m \u001b[32m━━━━━━━━━━━━━━━━━━━━\u001b[0m\u001b[37m\u001b[0m \u001b[1m0s\u001b[0m 1ms/step - accuracy: 0.0023 - accuracy_1: 0.0023 - loss: 0.7016 - mse_loss: 0.3743 - val_accuracy: 0.0044 - val_accuracy_1: 0.0041 - val_loss: 0.9393 - val_mse_loss: 0.5885\n",
      "Epoch 3/20\n",
      "\u001b[1m363/363\u001b[0m \u001b[32m━━━━━━━━━━━━━━━━━━━━\u001b[0m\u001b[37m\u001b[0m \u001b[1m0s\u001b[0m 1ms/step - accuracy: 0.0023 - accuracy_1: 0.0023 - loss: 0.6986 - mse_loss: 0.3727 - val_accuracy: 0.0044 - val_accuracy_1: 0.0041 - val_loss: 1.6497 - val_mse_loss: 1.1556\n",
      "Epoch 4/20\n",
      "\u001b[1m363/363\u001b[0m \u001b[32m━━━━━━━━━━━━━━━━━━━━\u001b[0m\u001b[37m\u001b[0m \u001b[1m0s\u001b[0m 1ms/step - accuracy: 0.0023 - accuracy_1: 0.0023 - loss: 0.6943 - mse_loss: 0.3705 - val_accuracy: 0.0044 - val_accuracy_1: 0.0041 - val_loss: 0.9036 - val_mse_loss: 0.5068\n",
      "Epoch 5/20\n",
      "\u001b[1m363/363\u001b[0m \u001b[32m━━━━━━━━━━━━━━━━━━━━\u001b[0m\u001b[37m\u001b[0m \u001b[1m1s\u001b[0m 2ms/step - accuracy: 0.0023 - accuracy_1: 0.0023 - loss: 0.6914 - mse_loss: 0.3684 - val_accuracy: 0.0044 - val_accuracy_1: 0.0041 - val_loss: 1.6681 - val_mse_loss: 1.1145\n",
      "Epoch 6/20\n",
      "\u001b[1m363/363\u001b[0m \u001b[32m━━━━━━━━━━━━━━━━━━━━\u001b[0m\u001b[37m\u001b[0m \u001b[1m1s\u001b[0m 2ms/step - accuracy: 0.0023 - accuracy_1: 0.0023 - loss: 0.6872 - mse_loss: 0.3661 - val_accuracy: 0.0044 - val_accuracy_1: 0.0041 - val_loss: 0.7874 - val_mse_loss: 0.4411\n",
      "Epoch 7/20\n",
      "\u001b[1m363/363\u001b[0m \u001b[32m━━━━━━━━━━━━━━━━━━━━\u001b[0m\u001b[37m\u001b[0m \u001b[1m1s\u001b[0m 1ms/step - accuracy: 0.0023 - accuracy_1: 0.0023 - loss: 0.6840 - mse_loss: 0.3643 - val_accuracy: 0.0044 - val_accuracy_1: 0.0041 - val_loss: 1.2068 - val_mse_loss: 0.8134\n",
      "Epoch 8/20\n",
      "\u001b[1m363/363\u001b[0m \u001b[32m━━━━━━━━━━━━━━━━━━━━\u001b[0m\u001b[37m\u001b[0m \u001b[1m0s\u001b[0m 1ms/step - accuracy: 0.0023 - accuracy_1: 0.0023 - loss: 0.6806 - mse_loss: 0.3623 - val_accuracy: 0.0044 - val_accuracy_1: 0.0041 - val_loss: 0.6611 - val_mse_loss: 0.3590\n",
      "Epoch 9/20\n",
      "\u001b[1m363/363\u001b[0m \u001b[32m━━━━━━━━━━━━━━━━━━━━\u001b[0m\u001b[37m\u001b[0m \u001b[1m1s\u001b[0m 2ms/step - accuracy: 0.0023 - accuracy_1: 0.0023 - loss: 0.6781 - mse_loss: 0.3608 - val_accuracy: 0.0044 - val_accuracy_1: 0.0041 - val_loss: 1.3723 - val_mse_loss: 0.9738\n",
      "Epoch 10/20\n",
      "\u001b[1m363/363\u001b[0m \u001b[32m━━━━━━━━━━━━━━━━━━━━\u001b[0m\u001b[37m\u001b[0m \u001b[1m1s\u001b[0m 2ms/step - accuracy: 0.0023 - accuracy_1: 0.0023 - loss: 0.6756 - mse_loss: 0.3590 - val_accuracy: 0.0044 - val_accuracy_1: 0.0041 - val_loss: 0.8644 - val_mse_loss: 0.5367\n",
      "Epoch 11/20\n",
      "\u001b[1m363/363\u001b[0m \u001b[32m━━━━━━━━━━━━━━━━━━━━\u001b[0m\u001b[37m\u001b[0m \u001b[1m1s\u001b[0m 2ms/step - accuracy: 0.0023 - accuracy_1: 0.0023 - loss: 0.6714 - mse_loss: 0.3571 - val_accuracy: 0.0044 - val_accuracy_1: 0.0041 - val_loss: 2.0922 - val_mse_loss: 1.4775\n",
      "Epoch 12/20\n",
      "\u001b[1m363/363\u001b[0m \u001b[32m━━━━━━━━━━━━━━━━━━━━\u001b[0m\u001b[37m\u001b[0m \u001b[1m1s\u001b[0m 2ms/step - accuracy: 0.0023 - accuracy_1: 0.0023 - loss: 0.6701 - mse_loss: 0.3568 - val_accuracy: 0.0044 - val_accuracy_1: 0.0041 - val_loss: 1.1134 - val_mse_loss: 0.5107\n",
      "Epoch 13/20\n",
      "\u001b[1m363/363\u001b[0m \u001b[32m━━━━━━━━━━━━━━━━━━━━\u001b[0m\u001b[37m\u001b[0m \u001b[1m1s\u001b[0m 2ms/step - accuracy: 0.0023 - accuracy_1: 0.0023 - loss: 0.6672 - mse_loss: 0.3538 - val_accuracy: 0.0044 - val_accuracy_1: 0.0041 - val_loss: 1.8720 - val_mse_loss: 1.2639\n",
      "Epoch 14/20\n",
      "\u001b[1m363/363\u001b[0m \u001b[32m━━━━━━━━━━━━━━━━━━━━\u001b[0m\u001b[37m\u001b[0m \u001b[1m1s\u001b[0m 2ms/step - accuracy: 0.0023 - accuracy_1: 0.0023 - loss: 0.6632 - mse_loss: 0.3524 - val_accuracy: 0.0044 - val_accuracy_1: 0.0041 - val_loss: 0.7409 - val_mse_loss: 0.4350\n",
      "Epoch 15/20\n",
      "\u001b[1m363/363\u001b[0m \u001b[32m━━━━━━━━━━━━━━━━━━━━\u001b[0m\u001b[37m\u001b[0m \u001b[1m1s\u001b[0m 2ms/step - accuracy: 0.0023 - accuracy_1: 0.0023 - loss: 0.6599 - mse_loss: 0.3503 - val_accuracy: 0.0044 - val_accuracy_1: 0.0041 - val_loss: 1.3846 - val_mse_loss: 0.9968\n",
      "Epoch 16/20\n",
      "\u001b[1m363/363\u001b[0m \u001b[32m━━━━━━━━━━━━━━━━━━━━\u001b[0m\u001b[37m\u001b[0m \u001b[1m1s\u001b[0m 2ms/step - accuracy: 0.0023 - accuracy_1: 0.0023 - loss: 0.6562 - mse_loss: 0.3481 - val_accuracy: 0.0044 - val_accuracy_1: 0.0041 - val_loss: 0.6776 - val_mse_loss: 0.3806\n",
      "Epoch 17/20\n",
      "\u001b[1m363/363\u001b[0m \u001b[32m━━━━━━━━━━━━━━━━━━━━\u001b[0m\u001b[37m\u001b[0m \u001b[1m1s\u001b[0m 2ms/step - accuracy: 0.0022 - accuracy_1: 0.0023 - loss: 0.6530 - mse_loss: 0.3462 - val_accuracy: 0.0044 - val_accuracy_1: 0.0041 - val_loss: 1.3257 - val_mse_loss: 0.9444\n",
      "Epoch 18/20\n",
      "\u001b[1m363/363\u001b[0m \u001b[32m━━━━━━━━━━━━━━━━━━━━\u001b[0m\u001b[37m\u001b[0m \u001b[1m1s\u001b[0m 2ms/step - accuracy: 0.0022 - accuracy_1: 0.0023 - loss: 0.6507 - mse_loss: 0.3451 - val_accuracy: 0.0044 - val_accuracy_1: 0.0041 - val_loss: 0.7119 - val_mse_loss: 0.4063\n"
     ]
    }
   ],
   "source": [
    "early_stopping_cb = tf.keras.callbacks.EarlyStopping(patience=10,\n",
    "                                                     restore_best_weights=True)\n",
    "model = tf.keras.models.load_model('wide_and_deep_model.keras')\n",
    "hist = model.fit((X_tr_w, X_tr_d), (y_tr, y_tr),\n",
    "                 validation_data=((X_val_w, X_val_d), (y_val, y_val)),\n",
    "                 epochs=20,\n",
    "                #  can combine both callbacks\n",
    "                 callbacks=[checkpoint_cb, early_stopping_cb])"
   ]
  },
  {
   "cell_type": "markdown",
   "metadata": {},
   "source": [
    "### Custom Callback\n",
    "We can implement:\n",
    "  - `on_epoch_begin/end`\n",
    "  - `on_train_begin/end`\n",
    "  - `on_batch_begin/end`\n",
    "\n",
    "For evaluation (called by `evaluate()`):\n",
    "  - `on_test_begin/end`\n",
    "  - `on_test_batch_begin/end`\n",
    "\n",
    "For prediction (called by `predict()`):\n",
    "  - `on_predict_begin/end`\n",
    "  - `on_predict_batch_begin/end`"
   ]
  },
  {
   "cell_type": "code",
   "execution_count": 109,
   "metadata": {},
   "outputs": [],
   "source": [
    "class PrintValTrainRatioCallback(tf.keras.callbacks.Callback):\n",
    "    def on_epoch_end(self, epoch, logs):\n",
    "        ratio = logs['val_loss'] / logs['loss']\n",
    "        print(f\"Epoch {epoch}, val/train {ratio:.2f}\")"
   ]
  },
  {
   "cell_type": "markdown",
   "metadata": {},
   "source": [
    "# Tensorboard"
   ]
  },
  {
   "cell_type": "markdown",
   "metadata": {},
   "source": [
    "- View learning curves\n",
    "- Compare curves and metrics b/w runs\n",
    "- Visualize computation graph\n",
    "- Analyze training stats\n",
    "- View images generated by model\n",
    "- Visualize complex multi-dim data projected down to 3D + automatically clustered for you\n",
    "- Profile your network\n",
    "Etc"
   ]
  },
  {
   "cell_type": "markdown",
   "metadata": {},
   "source": [
    "To use it:\n",
    "- Want program to output the data we want to visualize to special binary logfiles (<b>event files</b>).\n",
    "- Each binary record is called a <b>summary</b>\n",
    "\n",
    "Tensorboard Server monitors the log dir, picks up changes and updates visualizations\n",
    "  - can visalize live data w/ a short delay"
   ]
  },
  {
   "cell_type": "code",
   "execution_count": 110,
   "metadata": {},
   "outputs": [],
   "source": [
    "from pathlib import Path\n",
    "from time import strftime\n",
    "\n",
    "# need different subdir for each run so same Tensorboard server instance won't mix up everything\n",
    "def get_run_logdir(root_logdir='my_logs'):\n",
    "    return Path(root_logdir) / strftime(\"run_%Y_%m_%d_%H_%M_%S\")\n",
    "\n",
    "run_logdir = get_run_logdir()"
   ]
  },
  {
   "cell_type": "code",
   "execution_count": 111,
   "metadata": {},
   "outputs": [
    {
     "name": "stdout",
     "output_type": "stream",
     "text": [
      "Epoch 1/20\n",
      "\u001b[1m363/363\u001b[0m \u001b[32m━━━━━━━━━━━━━━━━━━━━\u001b[0m\u001b[37m\u001b[0m \u001b[1m2s\u001b[0m 5ms/step - accuracy: 0.0023 - accuracy_1: 0.0023 - loss: 0.6779 - mse_loss: 0.3609 - val_accuracy: 0.0044 - val_accuracy_1: 0.0041 - val_loss: 1.3737 - val_mse_loss: 0.9740\n",
      "Epoch 2/20\n",
      "\u001b[1m363/363\u001b[0m \u001b[32m━━━━━━━━━━━━━━━━━━━━\u001b[0m\u001b[37m\u001b[0m \u001b[1m1s\u001b[0m 3ms/step - accuracy: 0.0023 - accuracy_1: 0.0023 - loss: 0.6756 - mse_loss: 0.3589 - val_accuracy: 0.0044 - val_accuracy_1: 0.0041 - val_loss: 1.0207 - val_mse_loss: 0.6349\n",
      "Epoch 3/20\n",
      "\u001b[1m363/363\u001b[0m \u001b[32m━━━━━━━━━━━━━━━━━━━━\u001b[0m\u001b[37m\u001b[0m \u001b[1m1s\u001b[0m 3ms/step - accuracy: 0.0023 - accuracy_1: 0.0023 - loss: 0.6733 - mse_loss: 0.3584 - val_accuracy: 0.0044 - val_accuracy_1: 0.0041 - val_loss: 1.8634 - val_mse_loss: 1.1644\n",
      "Epoch 4/20\n",
      "\u001b[1m363/363\u001b[0m \u001b[32m━━━━━━━━━━━━━━━━━━━━\u001b[0m\u001b[37m\u001b[0m \u001b[1m1s\u001b[0m 3ms/step - accuracy: 0.0023 - accuracy_1: 0.0023 - loss: 0.6743 - mse_loss: 0.3581 - val_accuracy: 0.0044 - val_accuracy_1: 0.0041 - val_loss: 0.9351 - val_mse_loss: 0.3748\n",
      "Epoch 5/20\n",
      "\u001b[1m363/363\u001b[0m \u001b[32m━━━━━━━━━━━━━━━━━━━━\u001b[0m\u001b[37m\u001b[0m \u001b[1m1s\u001b[0m 3ms/step - accuracy: 0.0022 - accuracy_1: 0.0023 - loss: 0.6701 - mse_loss: 0.3548 - val_accuracy: 0.0044 - val_accuracy_1: 0.0041 - val_loss: 1.7211 - val_mse_loss: 1.0477\n",
      "Epoch 6/20\n",
      "\u001b[1m363/363\u001b[0m \u001b[32m━━━━━━━━━━━━━━━━━━━━\u001b[0m\u001b[37m\u001b[0m \u001b[1m1s\u001b[0m 3ms/step - accuracy: 0.0022 - accuracy_1: 0.0023 - loss: 0.6638 - mse_loss: 0.3525 - val_accuracy: 0.0044 - val_accuracy_1: 0.0041 - val_loss: 0.9206 - val_mse_loss: 0.5264\n",
      "Epoch 7/20\n",
      "\u001b[1m363/363\u001b[0m \u001b[32m━━━━━━━━━━━━━━━━━━━━\u001b[0m\u001b[37m\u001b[0m \u001b[1m1s\u001b[0m 3ms/step - accuracy: 0.0022 - accuracy_1: 0.0023 - loss: 0.6595 - mse_loss: 0.3502 - val_accuracy: 0.0044 - val_accuracy_1: 0.0041 - val_loss: 1.7929 - val_mse_loss: 1.1969\n",
      "Epoch 8/20\n",
      "\u001b[1m363/363\u001b[0m \u001b[32m━━━━━━━━━━━━━━━━━━━━\u001b[0m\u001b[37m\u001b[0m \u001b[1m1s\u001b[0m 3ms/step - accuracy: 0.0022 - accuracy_1: 0.0023 - loss: 0.6578 - mse_loss: 0.3494 - val_accuracy: 0.0044 - val_accuracy_1: 0.0041 - val_loss: 0.8331 - val_mse_loss: 0.4704\n",
      "Epoch 9/20\n",
      "\u001b[1m363/363\u001b[0m \u001b[32m━━━━━━━━━━━━━━━━━━━━\u001b[0m\u001b[37m\u001b[0m \u001b[1m1s\u001b[0m 4ms/step - accuracy: 0.0022 - accuracy_1: 0.0023 - loss: 0.6545 - mse_loss: 0.3472 - val_accuracy: 0.0044 - val_accuracy_1: 0.0041 - val_loss: 1.8812 - val_mse_loss: 1.3143\n",
      "Epoch 10/20\n",
      "\u001b[1m363/363\u001b[0m \u001b[32m━━━━━━━━━━━━━━━━━━━━\u001b[0m\u001b[37m\u001b[0m \u001b[1m1s\u001b[0m 3ms/step - accuracy: 0.0022 - accuracy_1: 0.0023 - loss: 0.6535 - mse_loss: 0.3471 - val_accuracy: 0.0044 - val_accuracy_1: 0.0041 - val_loss: 0.9073 - val_mse_loss: 0.5386\n",
      "Epoch 11/20\n",
      "\u001b[1m363/363\u001b[0m \u001b[32m━━━━━━━━━━━━━━━━━━━━\u001b[0m\u001b[37m\u001b[0m \u001b[1m1s\u001b[0m 4ms/step - accuracy: 0.0022 - accuracy_1: 0.0023 - loss: 0.6515 - mse_loss: 0.3455 - val_accuracy: 0.0044 - val_accuracy_1: 0.0041 - val_loss: 1.4062 - val_mse_loss: 0.9413\n",
      "Epoch 12/20\n",
      "\u001b[1m363/363\u001b[0m \u001b[32m━━━━━━━━━━━━━━━━━━━━\u001b[0m\u001b[37m\u001b[0m \u001b[1m2s\u001b[0m 4ms/step - accuracy: 0.0022 - accuracy_1: 0.0023 - loss: 0.6478 - mse_loss: 0.3435 - val_accuracy: 0.0044 - val_accuracy_1: 0.0041 - val_loss: 0.6421 - val_mse_loss: 0.3476\n",
      "Epoch 13/20\n",
      "\u001b[1m363/363\u001b[0m \u001b[32m━━━━━━━━━━━━━━━━━━━━\u001b[0m\u001b[37m\u001b[0m \u001b[1m2s\u001b[0m 4ms/step - accuracy: 0.0022 - accuracy_1: 0.0023 - loss: 0.6482 - mse_loss: 0.3430 - val_accuracy: 0.0044 - val_accuracy_1: 0.0041 - val_loss: 1.0473 - val_mse_loss: 0.6636\n",
      "Epoch 14/20\n",
      "\u001b[1m363/363\u001b[0m \u001b[32m━━━━━━━━━━━━━━━━━━━━\u001b[0m\u001b[37m\u001b[0m \u001b[1m1s\u001b[0m 3ms/step - accuracy: 0.0022 - accuracy_1: 0.0023 - loss: 0.6489 - mse_loss: 0.3434 - val_accuracy: 0.0044 - val_accuracy_1: 0.0041 - val_loss: 0.6369 - val_mse_loss: 0.3446\n",
      "Epoch 15/20\n",
      "\u001b[1m363/363\u001b[0m \u001b[32m━━━━━━━━━━━━━━━━━━━━\u001b[0m\u001b[37m\u001b[0m \u001b[1m1s\u001b[0m 3ms/step - accuracy: 0.0022 - accuracy_1: 0.0023 - loss: 0.6479 - mse_loss: 0.3425 - val_accuracy: 0.0044 - val_accuracy_1: 0.0041 - val_loss: 1.1883 - val_mse_loss: 0.7750\n",
      "Epoch 16/20\n",
      "\u001b[1m363/363\u001b[0m \u001b[32m━━━━━━━━━━━━━━━━━━━━\u001b[0m\u001b[37m\u001b[0m \u001b[1m1s\u001b[0m 4ms/step - accuracy: 0.0022 - accuracy_1: 0.0023 - loss: 0.6443 - mse_loss: 0.3401 - val_accuracy: 0.0044 - val_accuracy_1: 0.0041 - val_loss: 0.8415 - val_mse_loss: 0.4655\n",
      "Epoch 17/20\n",
      "\u001b[1m363/363\u001b[0m \u001b[32m━━━━━━━━━━━━━━━━━━━━\u001b[0m\u001b[37m\u001b[0m \u001b[1m1s\u001b[0m 4ms/step - accuracy: 0.0022 - accuracy_1: 0.0023 - loss: 0.6428 - mse_loss: 0.3393 - val_accuracy: 0.0044 - val_accuracy_1: 0.0041 - val_loss: 2.0760 - val_mse_loss: 1.3396\n",
      "Epoch 18/20\n",
      "\u001b[1m363/363\u001b[0m \u001b[32m━━━━━━━━━━━━━━━━━━━━\u001b[0m\u001b[37m\u001b[0m \u001b[1m1s\u001b[0m 4ms/step - accuracy: 0.0022 - accuracy_1: 0.0023 - loss: 0.6427 - mse_loss: 0.3393 - val_accuracy: 0.0044 - val_accuracy_1: 0.0041 - val_loss: 0.8675 - val_mse_loss: 0.4101\n",
      "Epoch 19/20\n",
      "\u001b[1m363/363\u001b[0m \u001b[32m━━━━━━━━━━━━━━━━━━━━\u001b[0m\u001b[37m\u001b[0m \u001b[1m1s\u001b[0m 3ms/step - accuracy: 0.0022 - accuracy_1: 0.0023 - loss: 0.6415 - mse_loss: 0.3382 - val_accuracy: 0.0044 - val_accuracy_1: 0.0041 - val_loss: 1.2401 - val_mse_loss: 0.7346\n",
      "Epoch 20/20\n",
      "\u001b[1m363/363\u001b[0m \u001b[32m━━━━━━━━━━━━━━━━━━━━\u001b[0m\u001b[37m\u001b[0m \u001b[1m1s\u001b[0m 3ms/step - accuracy: 0.0023 - accuracy_1: 0.0023 - loss: 0.6378 - mse_loss: 0.3372 - val_accuracy: 0.0044 - val_accuracy_1: 0.0041 - val_loss: 0.6351 - val_mse_loss: 0.3466\n"
     ]
    }
   ],
   "source": [
    "tensorboard_cb = tf.keras.callbacks.TensorBoard(run_logdir,\n",
    "                                                # profile the network b/w batches of 100 and 200\n",
    "                                                # 100 cuz NN takes time to \"warm up\"\n",
    "                                                # 100-200 cuz profiling takes resources and we don't want to profile on every batch\n",
    "                                                profile_batch=(100, 200))\n",
    "hist = model.fit((X_tr_w, X_tr_d), (y_tr, y_tr),\n",
    "                 validation_data=((X_val_w, X_val_d), (y_val, y_val)),\n",
    "                 epochs=20,\n",
    "                 callbacks=[tensorboard_cb])"
   ]
  },
  {
   "cell_type": "code",
   "execution_count": 112,
   "metadata": {},
   "outputs": [
    {
     "name": "stdout",
     "output_type": "stream",
     "text": [
      "Epoch 1/20\n",
      "\u001b[1m363/363\u001b[0m \u001b[32m━━━━━━━━━━━━━━━━━━━━\u001b[0m\u001b[37m\u001b[0m \u001b[1m3s\u001b[0m 4ms/step - accuracy: 0.0022 - accuracy_1: 0.0023 - loss: 0.6645 - mse_loss: 0.3512 - val_accuracy: 0.0044 - val_accuracy_1: 0.0041 - val_loss: 1.2709 - val_mse_loss: 0.6715\n",
      "Epoch 2/20\n",
      "\u001b[1m363/363\u001b[0m \u001b[32m━━━━━━━━━━━━━━━━━━━━\u001b[0m\u001b[37m\u001b[0m \u001b[1m1s\u001b[0m 3ms/step - accuracy: 0.0022 - accuracy_1: 0.0023 - loss: 0.6515 - mse_loss: 0.3460 - val_accuracy: 0.0044 - val_accuracy_1: 0.0041 - val_loss: 2.5774 - val_mse_loss: 1.5781\n",
      "Epoch 3/20\n",
      "\u001b[1m363/363\u001b[0m \u001b[32m━━━━━━━━━━━━━━━━━━━━\u001b[0m\u001b[37m\u001b[0m \u001b[1m1s\u001b[0m 3ms/step - accuracy: 0.0022 - accuracy_1: 0.0023 - loss: 0.6574 - mse_loss: 0.3484 - val_accuracy: 0.0044 - val_accuracy_1: 0.0041 - val_loss: 1.5072 - val_mse_loss: 0.9999\n",
      "Epoch 4/20\n",
      "\u001b[1m363/363\u001b[0m \u001b[32m━━━━━━━━━━━━━━━━━━━━\u001b[0m\u001b[37m\u001b[0m \u001b[1m2s\u001b[0m 4ms/step - accuracy: 0.0022 - accuracy_1: 0.0023 - loss: 0.6457 - mse_loss: 0.3420 - val_accuracy: 0.0044 - val_accuracy_1: 0.0041 - val_loss: 2.0663 - val_mse_loss: 1.1341\n",
      "Epoch 5/20\n",
      "\u001b[1m363/363\u001b[0m \u001b[32m━━━━━━━━━━━━━━━━━━━━\u001b[0m\u001b[37m\u001b[0m \u001b[1m1s\u001b[0m 3ms/step - accuracy: 0.0022 - accuracy_1: 0.0023 - loss: 0.6546 - mse_loss: 0.3456 - val_accuracy: 0.0044 - val_accuracy_1: 0.0041 - val_loss: 2.1620 - val_mse_loss: 0.9151\n",
      "Epoch 6/20\n",
      "\u001b[1m363/363\u001b[0m \u001b[32m━━━━━━━━━━━━━━━━━━━━\u001b[0m\u001b[37m\u001b[0m \u001b[1m1s\u001b[0m 3ms/step - accuracy: 0.0022 - accuracy_1: 0.0023 - loss: 0.6456 - mse_loss: 0.3401 - val_accuracy: 0.0044 - val_accuracy_1: 0.0041 - val_loss: 1.2934 - val_mse_loss: 0.7532\n",
      "Epoch 7/20\n",
      "\u001b[1m363/363\u001b[0m \u001b[32m━━━━━━━━━━━━━━━━━━━━\u001b[0m\u001b[37m\u001b[0m \u001b[1m1s\u001b[0m 3ms/step - accuracy: 0.0022 - accuracy_1: 0.0023 - loss: 0.6563 - mse_loss: 0.3462 - val_accuracy: 0.0044 - val_accuracy_1: 0.0044 - val_loss: 2.6450 - val_mse_loss: 1.5737\n",
      "Epoch 8/20\n",
      "\u001b[1m363/363\u001b[0m \u001b[32m━━━━━━━━━━━━━━━━━━━━\u001b[0m\u001b[37m\u001b[0m \u001b[1m1s\u001b[0m 3ms/step - accuracy: 0.0022 - accuracy_1: 0.0022 - loss: 0.6478 - mse_loss: 0.3424 - val_accuracy: 0.0044 - val_accuracy_1: 0.0041 - val_loss: 1.0160 - val_mse_loss: 0.6343\n",
      "Epoch 9/20\n",
      "\u001b[1m363/363\u001b[0m \u001b[32m━━━━━━━━━━━━━━━━━━━━\u001b[0m\u001b[37m\u001b[0m \u001b[1m1s\u001b[0m 3ms/step - accuracy: 0.0022 - accuracy_1: 0.0023 - loss: 0.6433 - mse_loss: 0.3399 - val_accuracy: 0.0044 - val_accuracy_1: 0.0044 - val_loss: 0.6623 - val_mse_loss: 0.3343\n",
      "Epoch 10/20\n",
      "\u001b[1m363/363\u001b[0m \u001b[32m━━━━━━━━━━━━━━━━━━━━\u001b[0m\u001b[37m\u001b[0m \u001b[1m1s\u001b[0m 3ms/step - accuracy: 0.0022 - accuracy_1: 0.0023 - loss: 0.6393 - mse_loss: 0.3367 - val_accuracy: 0.0044 - val_accuracy_1: 0.0041 - val_loss: 0.8797 - val_mse_loss: 0.5110\n",
      "Epoch 11/20\n",
      "\u001b[1m363/363\u001b[0m \u001b[32m━━━━━━━━━━━━━━━━━━━━\u001b[0m\u001b[37m\u001b[0m \u001b[1m1s\u001b[0m 3ms/step - accuracy: 0.0022 - accuracy_1: 0.0022 - loss: 0.6397 - mse_loss: 0.3368 - val_accuracy: 0.0044 - val_accuracy_1: 0.0041 - val_loss: 0.7539 - val_mse_loss: 0.3882\n",
      "Epoch 12/20\n",
      "\u001b[1m363/363\u001b[0m \u001b[32m━━━━━━━━━━━━━━━━━━━━\u001b[0m\u001b[37m\u001b[0m \u001b[1m1s\u001b[0m 3ms/step - accuracy: 0.0022 - accuracy_1: 0.0022 - loss: 0.6337 - mse_loss: 0.3350 - val_accuracy: 0.0044 - val_accuracy_1: 0.0041 - val_loss: 1.0242 - val_mse_loss: 0.5699\n",
      "Epoch 13/20\n",
      "\u001b[1m363/363\u001b[0m \u001b[32m━━━━━━━━━━━━━━━━━━━━\u001b[0m\u001b[37m\u001b[0m \u001b[1m1s\u001b[0m 3ms/step - accuracy: 0.0022 - accuracy_1: 0.0022 - loss: 0.6306 - mse_loss: 0.3323 - val_accuracy: 0.0044 - val_accuracy_1: 0.0041 - val_loss: 0.6737 - val_mse_loss: 0.3711\n",
      "Epoch 14/20\n",
      "\u001b[1m363/363\u001b[0m \u001b[32m━━━━━━━━━━━━━━━━━━━━\u001b[0m\u001b[37m\u001b[0m \u001b[1m1s\u001b[0m 3ms/step - accuracy: 0.0022 - accuracy_1: 0.0023 - loss: 0.6373 - mse_loss: 0.3356 - val_accuracy: 0.0044 - val_accuracy_1: 0.0041 - val_loss: 0.8257 - val_mse_loss: 0.4754\n",
      "Epoch 15/20\n",
      "\u001b[1m363/363\u001b[0m \u001b[32m━━━━━━━━━━━━━━━━━━━━\u001b[0m\u001b[37m\u001b[0m \u001b[1m1s\u001b[0m 3ms/step - accuracy: 0.0022 - accuracy_1: 0.0023 - loss: 0.6318 - mse_loss: 0.3339 - val_accuracy: 0.0044 - val_accuracy_1: 0.0041 - val_loss: 0.7662 - val_mse_loss: 0.4652\n",
      "Epoch 16/20\n",
      "\u001b[1m363/363\u001b[0m \u001b[32m━━━━━━━━━━━━━━━━━━━━\u001b[0m\u001b[37m\u001b[0m \u001b[1m1s\u001b[0m 3ms/step - accuracy: 0.0022 - accuracy_1: 0.0022 - loss: 0.6255 - mse_loss: 0.3297 - val_accuracy: 0.0044 - val_accuracy_1: 0.0041 - val_loss: 1.1981 - val_mse_loss: 0.6807\n",
      "Epoch 17/20\n",
      "\u001b[1m363/363\u001b[0m \u001b[32m━━━━━━━━━━━━━━━━━━━━\u001b[0m\u001b[37m\u001b[0m \u001b[1m1s\u001b[0m 3ms/step - accuracy: 0.0022 - accuracy_1: 0.0022 - loss: 0.6273 - mse_loss: 0.3302 - val_accuracy: 0.0044 - val_accuracy_1: 0.0041 - val_loss: 1.1596 - val_mse_loss: 0.7192\n",
      "Epoch 18/20\n",
      "\u001b[1m363/363\u001b[0m \u001b[32m━━━━━━━━━━━━━━━━━━━━\u001b[0m\u001b[37m\u001b[0m \u001b[1m1s\u001b[0m 3ms/step - accuracy: 0.0022 - accuracy_1: 0.0022 - loss: 0.6227 - mse_loss: 0.3286 - val_accuracy: 0.0044 - val_accuracy_1: 0.0041 - val_loss: 1.6215 - val_mse_loss: 1.1668\n",
      "Epoch 19/20\n",
      "\u001b[1m363/363\u001b[0m \u001b[32m━━━━━━━━━━━━━━━━━━━━\u001b[0m\u001b[37m\u001b[0m \u001b[1m1s\u001b[0m 3ms/step - accuracy: 0.0022 - accuracy_1: 0.0022 - loss: 0.6219 - mse_loss: 0.3284 - val_accuracy: 0.0044 - val_accuracy_1: 0.0041 - val_loss: 2.3678 - val_mse_loss: 1.2082\n",
      "Epoch 20/20\n",
      "\u001b[1m363/363\u001b[0m \u001b[32m━━━━━━━━━━━━━━━━━━━━\u001b[0m\u001b[37m\u001b[0m \u001b[1m1s\u001b[0m 3ms/step - accuracy: 0.0022 - accuracy_1: 0.0023 - loss: 0.6293 - mse_loss: 0.3318 - val_accuracy: 0.0044 - val_accuracy_1: 0.0041 - val_loss: 1.1692 - val_mse_loss: 0.7075\n"
     ]
    }
   ],
   "source": [
    "run_logdir = get_run_logdir()\n",
    "tensorboard_cb = tf.keras.callbacks.TensorBoard(run_logdir,\n",
    "                                                profile_batch=(100, 200))\n",
    "opt = tf.keras.optimizers.Adam(learning_rate=0.002)\n",
    "model.compile(loss=('mse', 'mse'),\n",
    "              optimizer=opt,\n",
    "              metrics=['accuracy', 'accuracy'])\n",
    "\n",
    "model.norm_l_w.adapt(X_tr_w)\n",
    "model.norm_l_d.adapt(X_tr_d)\n",
    "\n",
    "hist = model.fit((X_tr_w, X_tr_d), (y_tr, y_tr),\n",
    "                 validation_data=((X_val_w, X_val_d), (y_val, y_val)),\n",
    "                 epochs=20,\n",
    "                 callbacks=[tensorboard_cb])"
   ]
  },
  {
   "cell_type": "markdown",
   "metadata": {},
   "source": [
    "We can load the Jupyter extension for Tensorboard and start the server\n",
    "<br>We can also run it from terminal using `tensorboard --logdir=./my_logs`\n",
    "<br>By default, it's on port 6006"
   ]
  },
  {
   "cell_type": "code",
   "execution_count": null,
   "metadata": {},
   "outputs": [],
   "source": [
    "%load_ext tensorboard\n",
    "%tensorboard --logdir=./my_logs"
   ]
  },
  {
   "cell_type": "markdown",
   "metadata": {},
   "source": [
    "\"SCALARS\" tab shows learning curves (we can select/deselect which ones to show in bottom left)\n",
    "<br>Computation graph is in \"GRAPHS\"\n",
    "<br>Learned weights (projected to 3D) in \"PROJECTOR\"\n",
    "<br>Profiling traces in \"PROFILE\"\n",
    "\n",
    "We can make TB callback log more data\n",
    "\n",
    "There's a refresh button to refresh data.\n",
    "<br>Can activate auto-refresh in the settings"
   ]
  },
  {
   "cell_type": "markdown",
   "metadata": {},
   "source": [
    "### tf.summary\n",
    "TF provides lower-level API in `tf.summary` package.\n",
    "<br>This can be used to log scalars, histograms, images, audio and text, which can be visualized in TensorBoard"
   ]
  },
  {
   "cell_type": "code",
   "execution_count": 115,
   "metadata": {},
   "outputs": [],
   "source": [
    "test_logdir = get_run_logdir()\n",
    "\n",
    "writer = tf.summary.create_file_writer(str(test_logdir))\n",
    "\n",
    "with writer.as_default():\n",
    "    for step in range(1, 1000 +1):\n",
    "        tf.summary.scalar(\"my_scalar\", np.sin(step / 10), step=step)\n",
    "        \n",
    "        data = (np.random.randn(100) + 2) * step / 1000\n",
    "        tf.summary.histogram(\"my_hist\", data, buckets=50, step=step)\n",
    "\n",
    "        imgs = np.random.rand(2, 32, 32, 3) * step / 1000\n",
    "        tf.summary.image(\"my_images\", imgs, step=step)\n",
    "\n",
    "        texts = [\"The step is \" + str(step), \"Its square is \" + str(step**2)]\n",
    "        tf.summary.text(\"my_texts\", texts, step=step)\n",
    "\n",
    "        sine_wave = tf.math.sin(tf.range(12_000)/48_000 * 2 * np.pi * step)\n",
    "        audio = tf.reshape(tf.cast(sine_wave, tf.float32), [1, -1, 1])\n",
    "        tf.summary.audio(\"my_audio\", audio, sample_rate=48_000, step=step)"
   ]
  },
  {
   "cell_type": "markdown",
   "metadata": {},
   "source": [
    "`tensorboard dev upload --logdir ./my_logs`\n",
    "<br>This shares the results to https://tensorboard.dev\n",
    "<br>Gives a permanent link to view results in a TB interface"
   ]
  },
  {
   "cell_type": "markdown",
   "metadata": {},
   "source": [
    "Had to kill the TensorBoard process using:\n",
    "  - `tasklist | more` to find process ID\n",
    "  - `taskkill /F /PID <insert pid of tensorboard>`"
   ]
  },
  {
   "cell_type": "markdown",
   "metadata": {},
   "source": [
    "# Finetuning NN Hyperparams\n",
    "- Option 1: Convert Keras model to Sklearn estimator, use GridSearchCV or RandomizedSearchCV\n",
    "  - `KerasRegressor`, `KerasClassifier` from <b>scikeras</b> library\n",
    "- Better option: <b>Keras Tuner</b>\n"
   ]
  },
  {
   "cell_type": "markdown",
   "metadata": {},
   "source": [
    "### Tuning Model HyperParams\n",
    "\n",
    "Write a function that takes `kt.HyperParameters` object\n",
    "<br>This obj is used to define the hyperparams (int, float, str, etc) + their range of values\n",
    "<br>The returned hyperparams can be used in building and compiling the model"
   ]
  },
  {
   "cell_type": "code",
   "execution_count": 3,
   "metadata": {},
   "outputs": [],
   "source": [
    "import keras_tuner as kt\n",
    "\n",
    "\n",
    "def build_model(hp):\n",
    "    # hp.Int() will check if a hyperparam \"n_hidden\" already exists\n",
    "    # if it does, it returns its value\n",
    "    # if it doesn't, it registers a new integer\n",
    "    n_hidden = hp.Int(\"n_hidden\", min_value=0, max_value=8, default=2)\n",
    "    # default isn't set, so min_value is returned by default\n",
    "    n_neurons = hp.Int(\"n_neurons\", min_value=16, max_value=256)\n",
    "    \n",
    "    # sampling=log means learning rates will be sampled equally\n",
    "    learning_rate = hp.Float(\"learning_rate\", min_value=1e-4, max_value=1e-2, sampling='log')\n",
    "    \n",
    "    # default value is first choice\n",
    "    optimizer = hp.Choice(\"optimizer\", values=['sgd', 'adam'])\n",
    "    if optimizer == 'sgd':\n",
    "        optimizer = tf.keras.optimizers.SGD(learning_rate=learning_rate)\n",
    "    else:\n",
    "        optimizer = tf.keras.optimizers.Adam(learning_rate=learning_rate)\n",
    "    \n",
    "\n",
    "    model = tf.keras.Sequential()\n",
    "    model.add(tf.keras.layers.Flatten())\n",
    "\n",
    "    for _ in range(n_hidden):\n",
    "        model.add(tf.keras.layers.Dense(n_neurons, activation='relu'))\n",
    "    \n",
    "    model.add(tf.keras.layers.Dense(10, activation='softmax'))\n",
    "    \n",
    "    model.compile(loss='sparse_categorical_crossentropy', optimizer=optimizer,\n",
    "                  metrics=['accuracy'])\n",
    "    \n",
    "    return model"
   ]
  },
  {
   "cell_type": "code",
   "execution_count": 5,
   "metadata": {},
   "outputs": [],
   "source": [
    "fashion_mnist = tf.keras.datasets.fashion_mnist.load_data()\n",
    "(X_tr_full, y_tr_full), (X_ts, y_ts) = fashion_mnist\n",
    "X_tr, y_tr = X_tr_full[:-5000], y_tr_full[:-5000]\n",
    "X_val, y_val = X_tr_full[-5000:], y_tr_full[-5000:]\n",
    "\n",
    "X_tr, X_val, X_ts = X_tr / 255., X_val / 255., X_ts / 255.\n",
    "cls_names = [\"T-shirt/top\", \"Trouser\", \"Pullover\", \"Dress\", \"Coat\",\n",
    "             \"Sandal\", \"Shirt\", \"Sneaker\", \"Bag\", \"Ankle Boot\"]"
   ]
  },
  {
   "cell_type": "markdown",
   "metadata": {},
   "source": [
    "`kt.RandomSearch` tuner calls our `build_model()` with an empty `Hyperparameters` obj to gather all hyperparams specs\n",
    "<br>Then here it runs 5 trials\n",
    "  - for each trial, it builds the model using hyperparams sampled randomly\n",
    "  - trains it for 10 epochs (we specify it in `search()`)\n",
    "  \n",
    "`overwrite=True` makes it delete the `my_random_search` dir before training starts\n",
    "\n",
    "if we run it with `overwrite=False` and `max_trials=10`, it'll continue from where it left off (will run 5 more trials), meaning we don't need to run all trials in 1 shot\n",
    "\n",
    "`objective='val_accuracy'` means tuner prefers models w/ higher val accuracy"
   ]
  },
  {
   "cell_type": "code",
   "execution_count": 6,
   "metadata": {},
   "outputs": [
    {
     "name": "stdout",
     "output_type": "stream",
     "text": [
      "Trial 5 Complete [00h 00m 27s]\n",
      "val_accuracy: 0.7603999972343445\n",
      "\n",
      "Best val_accuracy So Far: 0.8669999837875366\n",
      "Total elapsed time: 00h 02m 29s\n"
     ]
    }
   ],
   "source": [
    "random_search_tuner = kt.RandomSearch(\n",
    "    build_model, objective='val_accuracy', max_trials=5, overwrite=True,\n",
    "    directory='my_fashion_mnist', project_name='my_random_search', seed=42\n",
    ")\n",
    "\n",
    "random_search_tuner.search(X_tr, y_tr, epochs=10,\n",
    "                           validation_data=(X_val, y_val))"
   ]
  },
  {
   "cell_type": "code",
   "execution_count": 7,
   "metadata": {},
   "outputs": [
    {
     "name": "stderr",
     "output_type": "stream",
     "text": [
      "c:\\dev\\miniconda\\envs\\homl-learn\\Lib\\site-packages\\keras\\src\\saving\\saving_lib.py:713: UserWarning: Skipping variable loading for optimizer 'adam', because it has 2 variables whereas the saved optimizer has 22 variables. \n",
      "  saveable.load_own_variables(weights_store.get(inner_path))\n"
     ]
    }
   ],
   "source": [
    "top3_models = random_search_tuner.get_best_models(num_models=3)\n",
    "best_model = top3_models[0]"
   ]
  },
  {
   "cell_type": "code",
   "execution_count": 10,
   "metadata": {},
   "outputs": [
    {
     "data": {
      "text/plain": [
       "{'n_hidden': 8,\n",
       " 'n_neurons': 37,\n",
       " 'learning_rate': 0.008547485565344062,\n",
       " 'optimizer': 'sgd'}"
      ]
     },
     "execution_count": 10,
     "metadata": {},
     "output_type": "execute_result"
    }
   ],
   "source": [
    "# gives kt.HyperParameters object\n",
    "top3_params = random_search_tuner.get_best_hyperparameters(num_trials=3)\n",
    "top3_params[0].values"
   ]
  },
  {
   "cell_type": "markdown",
   "metadata": {},
   "source": [
    "Each tuner is guided by <b>\"oracle\"</b> before each trial.\n",
    "  - Tuner asks oracle what the next trial should be\n",
    "  - `RandomSearch` uses `RandomSearchOracle`\n",
    "    - picks next trial randomly\n",
    "  - Oracle keeps track of trails, we can get the best one + its summary"
   ]
  },
  {
   "cell_type": "code",
   "execution_count": 11,
   "metadata": {},
   "outputs": [
    {
     "name": "stdout",
     "output_type": "stream",
     "text": [
      "Trial 3 summary\n",
      "Hyperparameters:\n",
      "n_hidden: 8\n",
      "n_neurons: 37\n",
      "learning_rate: 0.008547485565344062\n",
      "optimizer: sgd\n",
      "Score: 0.8669999837875366\n"
     ]
    }
   ],
   "source": [
    "best_trial = random_search_tuner.oracle.get_best_trials(num_trials=1)[0]\n",
    "best_trial.summary()"
   ]
  },
  {
   "cell_type": "code",
   "execution_count": 13,
   "metadata": {},
   "outputs": [
    {
     "data": {
      "text/plain": [
       "0.8669999837875366"
      ]
     },
     "execution_count": 13,
     "metadata": {},
     "output_type": "execute_result"
    }
   ],
   "source": [
    "best_trial.metrics.get_last_value('val_accuracy')"
   ]
  },
  {
   "cell_type": "markdown",
   "metadata": {},
   "source": [
    "If we're happy with best model's performance, we can then train it on full training set"
   ]
  },
  {
   "cell_type": "code",
   "execution_count": 14,
   "metadata": {},
   "outputs": [
    {
     "name": "stdout",
     "output_type": "stream",
     "text": [
      "Epoch 1/10\n",
      "\u001b[1m1875/1875\u001b[0m \u001b[32m━━━━━━━━━━━━━━━━━━━━\u001b[0m\u001b[37m\u001b[0m \u001b[1m3s\u001b[0m 1ms/step - accuracy: 0.1014 - loss: 108044326147194880.0000\n",
      "Epoch 2/10\n",
      "\u001b[1m1875/1875\u001b[0m \u001b[32m━━━━━━━━━━━━━━━━━━━━\u001b[0m\u001b[37m\u001b[0m \u001b[1m3s\u001b[0m 2ms/step - accuracy: 0.0969 - loss: 2.3031\n",
      "Epoch 3/10\n",
      "\u001b[1m1875/1875\u001b[0m \u001b[32m━━━━━━━━━━━━━━━━━━━━\u001b[0m\u001b[37m\u001b[0m \u001b[1m3s\u001b[0m 1ms/step - accuracy: 0.0972 - loss: 2.3027\n",
      "Epoch 4/10\n",
      "\u001b[1m1875/1875\u001b[0m \u001b[32m━━━━━━━━━━━━━━━━━━━━\u001b[0m\u001b[37m\u001b[0m \u001b[1m4s\u001b[0m 2ms/step - accuracy: 0.0985 - loss: 2.3027\n",
      "Epoch 5/10\n",
      "\u001b[1m1875/1875\u001b[0m \u001b[32m━━━━━━━━━━━━━━━━━━━━\u001b[0m\u001b[37m\u001b[0m \u001b[1m3s\u001b[0m 1ms/step - accuracy: 0.1000 - loss: 2.3026\n",
      "Epoch 6/10\n",
      "\u001b[1m1875/1875\u001b[0m \u001b[32m━━━━━━━━━━━━━━━━━━━━\u001b[0m\u001b[37m\u001b[0m \u001b[1m3s\u001b[0m 1ms/step - accuracy: 0.0999 - loss: 2.3027\n",
      "Epoch 7/10\n",
      "\u001b[1m1875/1875\u001b[0m \u001b[32m━━━━━━━━━━━━━━━━━━━━\u001b[0m\u001b[37m\u001b[0m \u001b[1m3s\u001b[0m 2ms/step - accuracy: 0.0994 - loss: 2.3026\n",
      "Epoch 8/10\n",
      "\u001b[1m1875/1875\u001b[0m \u001b[32m━━━━━━━━━━━━━━━━━━━━\u001b[0m\u001b[37m\u001b[0m \u001b[1m3s\u001b[0m 1ms/step - accuracy: 0.0985 - loss: 2.3027\n",
      "Epoch 9/10\n",
      "\u001b[1m1875/1875\u001b[0m \u001b[32m━━━━━━━━━━━━━━━━━━━━\u001b[0m\u001b[37m\u001b[0m \u001b[1m2s\u001b[0m 1ms/step - accuracy: 0.1008 - loss: 2.3027\n",
      "Epoch 10/10\n",
      "\u001b[1m1875/1875\u001b[0m \u001b[32m━━━━━━━━━━━━━━━━━━━━\u001b[0m\u001b[37m\u001b[0m \u001b[1m2s\u001b[0m 1ms/step - accuracy: 0.0987 - loss: 2.3027\n",
      "\u001b[1m313/313\u001b[0m \u001b[32m━━━━━━━━━━━━━━━━━━━━\u001b[0m\u001b[37m\u001b[0m \u001b[1m1s\u001b[0m 2ms/step - accuracy: 0.0962 - loss: 2.3026\n"
     ]
    },
    {
     "data": {
      "text/plain": [
       "(2.30259370803833, 0.10000000149011612)"
      ]
     },
     "execution_count": 14,
     "metadata": {},
     "output_type": "execute_result"
    }
   ],
   "source": [
    "best_model.fit(X_tr_full, y_tr_full, epochs=10)\n",
    "test_loss, test_acc = best_model.evaluate(X_ts, y_ts)\n",
    "test_loss, test_acc"
   ]
  },
  {
   "cell_type": "markdown",
   "metadata": {},
   "source": [
    "### Tuning Data Preprocessing HyperParams & `model.fit()` Args\n",
    "Need to subclass `kt.HyperModel`"
   ]
  },
  {
   "cell_type": "code",
   "execution_count": 15,
   "metadata": {},
   "outputs": [],
   "source": [
    "class MyClfHyperModel(kt.HyperModel):\n",
    "    # same as build_model, so reuse it\n",
    "    def build(self, hp):\n",
    "        return build_model(hp)\n",
    "\n",
    "    # takes HyperParameters obj, compiled model + all args to model.fit()\n",
    "    def fit(self, hp, model, X, y, **kwargs):\n",
    "        # control whether to normalize the data or not\n",
    "        if hp.Boolean(\"normalize\"):\n",
    "            norm_l = tf.keras.layers.Normalization()\n",
    "            X = norm_l(X)\n",
    "        return model.fit(X, y, **kwargs)"
   ]
  },
  {
   "cell_type": "markdown",
   "metadata": {},
   "source": [
    "Can pass an instance of this class to tuner, instead of `build_model()`\n",
    "<br>Here, we try `kt.Hyperband()` tuner\n",
    "  - Similar to `HalvingRandomSearchCV` in ch2\n",
    "    - Trains many models for few epochs\n",
    "    - Eliminates worst model, keeps only top \"1/factor\" models (top 3 in this case)\n",
    "    - Repeats this selection until 1 model is left\n",
    "  - best model is trained for `max_epochs`\n",
    "  - Whole process is done twice cuz `hyperband_iterations=2`\n",
    "    - Total training epochs = `max_epochs * (log(max_epochs) / log(factor))**2`\n"
   ]
  },
  {
   "cell_type": "code",
   "execution_count": 16,
   "metadata": {},
   "outputs": [],
   "source": [
    "hyperband_tuner = kt.Hyperband(\n",
    "    MyClfHyperModel(), objective='val_accuracy', seed=42,\n",
    "    max_epochs=10, factor=3, hyperband_iterations=2,\n",
    "    overwrite=True, directory='my_fashion_mnist', project_name='hyperband'\n",
    ")"
   ]
  },
  {
   "cell_type": "markdown",
   "metadata": {},
   "source": [
    "For TensorBoard, point `--logdir` to \"my_fashion_mnist/hyperband/tensorboard\"\n",
    "<br>`HPARAMS` tab shows call hyperparam combinations\n",
    "<br>Inside it, there are 3 more tabs:\n",
    "  - table view\n",
    "  - parallel coordinates view\n",
    "  - scatterplot matrix view\n",
    "\n",
    "<br>Keeping only `validation.epoch_accuracy` checked in lower-left shows only those hyperparams that reached a good performance "
   ]
  },
  {
   "cell_type": "markdown",
   "metadata": {},
   "source": [
    "I interrupted the kernel at Trial 58\n",
    "<br>At this point, it was running for 45m 54s"
   ]
  },
  {
   "cell_type": "code",
   "execution_count": 18,
   "metadata": {},
   "outputs": [
    {
     "name": "stdout",
     "output_type": "stream",
     "text": [
      "Trial 58 Complete [00h 00m 41s]\n",
      "val_accuracy: 0.8510000109672546\n",
      "\n",
      "Best val_accuracy So Far: 0.8862000107765198\n",
      "Total elapsed time: 00h 45m 54s\n",
      "\n",
      "Search: Running Trial #59\n",
      "\n",
      "Value             |Best Value So Far |Hyperparameter\n",
      "4                 |7                 |n_hidden\n",
      "203               |247               |n_neurons\n",
      "0.0011923         |0.00039877        |learning_rate\n",
      "sgd               |adam              |optimizer\n",
      "False             |True              |normalize\n",
      "10                |10                |tuner/epochs\n",
      "0                 |4                 |tuner/initial_epoch\n",
      "0                 |1                 |tuner/bracket\n",
      "0                 |1                 |tuner/round\n",
      "\n",
      "Epoch 1/10\n",
      "\u001b[1m1719/1719\u001b[0m \u001b[32m━━━━━━━━━━━━━━━━━━━━\u001b[0m\u001b[37m\u001b[0m \u001b[1m8s\u001b[0m 4ms/step - accuracy: 0.3775 - loss: 1.9694 - val_accuracy: 0.6878 - val_loss: 0.9954\n",
      "Epoch 2/10\n",
      "\u001b[1m1719/1719\u001b[0m \u001b[32m━━━━━━━━━━━━━━━━━━━━\u001b[0m\u001b[37m\u001b[0m \u001b[1m7s\u001b[0m 4ms/step - accuracy: 0.6906 - loss: 0.9134 - val_accuracy: 0.7488 - val_loss: 0.7271\n",
      "Epoch 3/10\n",
      "\u001b[1m1719/1719\u001b[0m \u001b[32m━━━━━━━━━━━━━━━━━━━━\u001b[0m\u001b[37m\u001b[0m \u001b[1m6s\u001b[0m 4ms/step - accuracy: 0.7546 - loss: 0.7132 - val_accuracy: 0.7818 - val_loss: 0.6346\n",
      "Epoch 4/10\n",
      "\u001b[1m1719/1719\u001b[0m \u001b[32m━━━━━━━━━━━━━━━━━━━━\u001b[0m\u001b[37m\u001b[0m \u001b[1m6s\u001b[0m 4ms/step - accuracy: 0.7872 - loss: 0.6231 - val_accuracy: 0.8016 - val_loss: 0.5664\n",
      "Epoch 5/10\n",
      "\u001b[1m1719/1719\u001b[0m \u001b[32m━━━━━━━━━━━━━━━━━━━━\u001b[0m\u001b[37m\u001b[0m \u001b[1m6s\u001b[0m 4ms/step - accuracy: 0.8020 - loss: 0.5752 - val_accuracy: 0.8148 - val_loss: 0.5373\n",
      "Epoch 6/10\n",
      "\u001b[1m1719/1719\u001b[0m \u001b[32m━━━━━━━━━━━━━━━━━━━━\u001b[0m\u001b[37m\u001b[0m \u001b[1m7s\u001b[0m 4ms/step - accuracy: 0.8181 - loss: 0.5280 - val_accuracy: 0.8224 - val_loss: 0.5119\n",
      "Epoch 7/10\n",
      "\u001b[1m1719/1719\u001b[0m \u001b[32m━━━━━━━━━━━━━━━━━━━━\u001b[0m\u001b[37m\u001b[0m \u001b[1m7s\u001b[0m 4ms/step - accuracy: 0.8250 - loss: 0.5089 - val_accuracy: 0.8300 - val_loss: 0.4877\n",
      "Epoch 8/10\n",
      "\u001b[1m1719/1719\u001b[0m \u001b[32m━━━━━━━━━━━━━━━━━━━━\u001b[0m\u001b[37m\u001b[0m \u001b[1m7s\u001b[0m 4ms/step - accuracy: 0.8334 - loss: 0.4840 - val_accuracy: 0.8318 - val_loss: 0.4745\n",
      "Epoch 9/10\n",
      "\u001b[1m1719/1719\u001b[0m \u001b[32m━━━━━━━━━━━━━━━━━━━━\u001b[0m\u001b[37m\u001b[0m \u001b[1m6s\u001b[0m 3ms/step - accuracy: 0.8379 - loss: 0.4695 - val_accuracy: 0.8336 - val_loss: 0.4631\n",
      "Epoch 10/10\n",
      "\u001b[1m 960/1719\u001b[0m \u001b[32m━━━━━━━━━━━\u001b[0m\u001b[37m━━━━━━━━━\u001b[0m \u001b[1m2s\u001b[0m 3ms/step - accuracy: 0.8400 - loss: 0.4596"
     ]
    },
    {
     "ename": "KeyboardInterrupt",
     "evalue": "",
     "output_type": "error",
     "traceback": [
      "\u001b[1;31m---------------------------------------------------------------------------\u001b[0m",
      "\u001b[1;31mKeyboardInterrupt\u001b[0m                         Traceback (most recent call last)",
      "Cell \u001b[1;32mIn[18], line 8\u001b[0m\n\u001b[0;32m      5\u001b[0m tensorboard_cb \u001b[38;5;241m=\u001b[39m tf\u001b[38;5;241m.\u001b[39mkeras\u001b[38;5;241m.\u001b[39mcallbacks\u001b[38;5;241m.\u001b[39mTensorBoard(root_logdir)\n\u001b[0;32m      6\u001b[0m early_stopping_cb \u001b[38;5;241m=\u001b[39m tf\u001b[38;5;241m.\u001b[39mkeras\u001b[38;5;241m.\u001b[39mcallbacks\u001b[38;5;241m.\u001b[39mEarlyStopping(patience\u001b[38;5;241m=\u001b[39m\u001b[38;5;241m2\u001b[39m)\n\u001b[1;32m----> 8\u001b[0m \u001b[43mhyperband_tuner\u001b[49m\u001b[38;5;241;43m.\u001b[39;49m\u001b[43msearch\u001b[49m\u001b[43m(\u001b[49m\u001b[43mX_tr\u001b[49m\u001b[43m,\u001b[49m\u001b[43m \u001b[49m\u001b[43my_tr\u001b[49m\u001b[43m,\u001b[49m\u001b[43m \u001b[49m\u001b[43mepochs\u001b[49m\u001b[38;5;241;43m=\u001b[39;49m\u001b[38;5;241;43m10\u001b[39;49m\u001b[43m,\u001b[49m\n\u001b[0;32m      9\u001b[0m \u001b[43m                       \u001b[49m\u001b[43mvalidation_data\u001b[49m\u001b[38;5;241;43m=\u001b[39;49m\u001b[43m(\u001b[49m\u001b[43mX_val\u001b[49m\u001b[43m,\u001b[49m\u001b[43m \u001b[49m\u001b[43my_val\u001b[49m\u001b[43m)\u001b[49m\u001b[43m,\u001b[49m\n\u001b[0;32m     10\u001b[0m \u001b[43m                       \u001b[49m\u001b[43mcallbacks\u001b[49m\u001b[38;5;241;43m=\u001b[39;49m\u001b[43m[\u001b[49m\u001b[43mearly_stopping_cb\u001b[49m\u001b[43m,\u001b[49m\u001b[43m \u001b[49m\u001b[43mtensorboard_cb\u001b[49m\u001b[43m]\u001b[49m\u001b[43m)\u001b[49m\n",
      "File \u001b[1;32mc:\\dev\\miniconda\\envs\\homl-learn\\Lib\\site-packages\\keras_tuner\\src\\engine\\base_tuner.py:234\u001b[0m, in \u001b[0;36mBaseTuner.search\u001b[1;34m(self, *fit_args, **fit_kwargs)\u001b[0m\n\u001b[0;32m    231\u001b[0m         \u001b[38;5;28;01mcontinue\u001b[39;00m\n\u001b[0;32m    233\u001b[0m     \u001b[38;5;28mself\u001b[39m\u001b[38;5;241m.\u001b[39mon_trial_begin(trial)\n\u001b[1;32m--> 234\u001b[0m     \u001b[38;5;28;43mself\u001b[39;49m\u001b[38;5;241;43m.\u001b[39;49m\u001b[43m_try_run_and_update_trial\u001b[49m\u001b[43m(\u001b[49m\u001b[43mtrial\u001b[49m\u001b[43m,\u001b[49m\u001b[43m \u001b[49m\u001b[38;5;241;43m*\u001b[39;49m\u001b[43mfit_args\u001b[49m\u001b[43m,\u001b[49m\u001b[43m \u001b[49m\u001b[38;5;241;43m*\u001b[39;49m\u001b[38;5;241;43m*\u001b[39;49m\u001b[43mfit_kwargs\u001b[49m\u001b[43m)\u001b[49m\n\u001b[0;32m    235\u001b[0m     \u001b[38;5;28mself\u001b[39m\u001b[38;5;241m.\u001b[39mon_trial_end(trial)\n\u001b[0;32m    236\u001b[0m \u001b[38;5;28mself\u001b[39m\u001b[38;5;241m.\u001b[39mon_search_end()\n",
      "File \u001b[1;32mc:\\dev\\miniconda\\envs\\homl-learn\\Lib\\site-packages\\keras_tuner\\src\\engine\\base_tuner.py:274\u001b[0m, in \u001b[0;36mBaseTuner._try_run_and_update_trial\u001b[1;34m(self, trial, *fit_args, **fit_kwargs)\u001b[0m\n\u001b[0;32m    272\u001b[0m \u001b[38;5;28;01mdef\u001b[39;00m \u001b[38;5;21m_try_run_and_update_trial\u001b[39m(\u001b[38;5;28mself\u001b[39m, trial, \u001b[38;5;241m*\u001b[39mfit_args, \u001b[38;5;241m*\u001b[39m\u001b[38;5;241m*\u001b[39mfit_kwargs):\n\u001b[0;32m    273\u001b[0m     \u001b[38;5;28;01mtry\u001b[39;00m:\n\u001b[1;32m--> 274\u001b[0m         \u001b[38;5;28;43mself\u001b[39;49m\u001b[38;5;241;43m.\u001b[39;49m\u001b[43m_run_and_update_trial\u001b[49m\u001b[43m(\u001b[49m\u001b[43mtrial\u001b[49m\u001b[43m,\u001b[49m\u001b[43m \u001b[49m\u001b[38;5;241;43m*\u001b[39;49m\u001b[43mfit_args\u001b[49m\u001b[43m,\u001b[49m\u001b[43m \u001b[49m\u001b[38;5;241;43m*\u001b[39;49m\u001b[38;5;241;43m*\u001b[39;49m\u001b[43mfit_kwargs\u001b[49m\u001b[43m)\u001b[49m\n\u001b[0;32m    275\u001b[0m         trial\u001b[38;5;241m.\u001b[39mstatus \u001b[38;5;241m=\u001b[39m trial_module\u001b[38;5;241m.\u001b[39mTrialStatus\u001b[38;5;241m.\u001b[39mCOMPLETED\n\u001b[0;32m    276\u001b[0m         \u001b[38;5;28;01mreturn\u001b[39;00m\n",
      "File \u001b[1;32mc:\\dev\\miniconda\\envs\\homl-learn\\Lib\\site-packages\\keras_tuner\\src\\engine\\base_tuner.py:239\u001b[0m, in \u001b[0;36mBaseTuner._run_and_update_trial\u001b[1;34m(self, trial, *fit_args, **fit_kwargs)\u001b[0m\n\u001b[0;32m    238\u001b[0m \u001b[38;5;28;01mdef\u001b[39;00m \u001b[38;5;21m_run_and_update_trial\u001b[39m(\u001b[38;5;28mself\u001b[39m, trial, \u001b[38;5;241m*\u001b[39mfit_args, \u001b[38;5;241m*\u001b[39m\u001b[38;5;241m*\u001b[39mfit_kwargs):\n\u001b[1;32m--> 239\u001b[0m     results \u001b[38;5;241m=\u001b[39m \u001b[38;5;28;43mself\u001b[39;49m\u001b[38;5;241;43m.\u001b[39;49m\u001b[43mrun_trial\u001b[49m\u001b[43m(\u001b[49m\u001b[43mtrial\u001b[49m\u001b[43m,\u001b[49m\u001b[43m \u001b[49m\u001b[38;5;241;43m*\u001b[39;49m\u001b[43mfit_args\u001b[49m\u001b[43m,\u001b[49m\u001b[43m \u001b[49m\u001b[38;5;241;43m*\u001b[39;49m\u001b[38;5;241;43m*\u001b[39;49m\u001b[43mfit_kwargs\u001b[49m\u001b[43m)\u001b[49m\n\u001b[0;32m    240\u001b[0m     \u001b[38;5;28;01mif\u001b[39;00m \u001b[38;5;28mself\u001b[39m\u001b[38;5;241m.\u001b[39moracle\u001b[38;5;241m.\u001b[39mget_trial(trial\u001b[38;5;241m.\u001b[39mtrial_id)\u001b[38;5;241m.\u001b[39mmetrics\u001b[38;5;241m.\u001b[39mexists(\n\u001b[0;32m    241\u001b[0m         \u001b[38;5;28mself\u001b[39m\u001b[38;5;241m.\u001b[39moracle\u001b[38;5;241m.\u001b[39mobjective\u001b[38;5;241m.\u001b[39mname\n\u001b[0;32m    242\u001b[0m     ):\n\u001b[0;32m    243\u001b[0m         \u001b[38;5;66;03m# The oracle is updated by calling `self.oracle.update_trial()` in\u001b[39;00m\n\u001b[0;32m    244\u001b[0m         \u001b[38;5;66;03m# `Tuner.run_trial()`. For backward compatibility, we support this\u001b[39;00m\n\u001b[0;32m    245\u001b[0m         \u001b[38;5;66;03m# use case. No further action needed in this case.\u001b[39;00m\n\u001b[0;32m    246\u001b[0m         warnings\u001b[38;5;241m.\u001b[39mwarn(\n\u001b[0;32m    247\u001b[0m             \u001b[38;5;124m\"\u001b[39m\u001b[38;5;124mThe use case of calling \u001b[39m\u001b[38;5;124m\"\u001b[39m\n\u001b[0;32m    248\u001b[0m             \u001b[38;5;124m\"\u001b[39m\u001b[38;5;124m`self.oracle.update_trial(trial_id, metrics)` \u001b[39m\u001b[38;5;124m\"\u001b[39m\n\u001b[1;32m   (...)\u001b[0m\n\u001b[0;32m    254\u001b[0m             stacklevel\u001b[38;5;241m=\u001b[39m\u001b[38;5;241m2\u001b[39m,\n\u001b[0;32m    255\u001b[0m         )\n",
      "File \u001b[1;32mc:\\dev\\miniconda\\envs\\homl-learn\\Lib\\site-packages\\keras_tuner\\src\\tuners\\hyperband.py:427\u001b[0m, in \u001b[0;36mHyperband.run_trial\u001b[1;34m(self, trial, *fit_args, **fit_kwargs)\u001b[0m\n\u001b[0;32m    425\u001b[0m     fit_kwargs[\u001b[38;5;124m\"\u001b[39m\u001b[38;5;124mepochs\u001b[39m\u001b[38;5;124m\"\u001b[39m] \u001b[38;5;241m=\u001b[39m hp\u001b[38;5;241m.\u001b[39mvalues[\u001b[38;5;124m\"\u001b[39m\u001b[38;5;124mtuner/epochs\u001b[39m\u001b[38;5;124m\"\u001b[39m]\n\u001b[0;32m    426\u001b[0m     fit_kwargs[\u001b[38;5;124m\"\u001b[39m\u001b[38;5;124minitial_epoch\u001b[39m\u001b[38;5;124m\"\u001b[39m] \u001b[38;5;241m=\u001b[39m hp\u001b[38;5;241m.\u001b[39mvalues[\u001b[38;5;124m\"\u001b[39m\u001b[38;5;124mtuner/initial_epoch\u001b[39m\u001b[38;5;124m\"\u001b[39m]\n\u001b[1;32m--> 427\u001b[0m \u001b[38;5;28;01mreturn\u001b[39;00m \u001b[38;5;28;43msuper\u001b[39;49m\u001b[43m(\u001b[49m\u001b[43m)\u001b[49m\u001b[38;5;241;43m.\u001b[39;49m\u001b[43mrun_trial\u001b[49m\u001b[43m(\u001b[49m\u001b[43mtrial\u001b[49m\u001b[43m,\u001b[49m\u001b[43m \u001b[49m\u001b[38;5;241;43m*\u001b[39;49m\u001b[43mfit_args\u001b[49m\u001b[43m,\u001b[49m\u001b[43m \u001b[49m\u001b[38;5;241;43m*\u001b[39;49m\u001b[38;5;241;43m*\u001b[39;49m\u001b[43mfit_kwargs\u001b[49m\u001b[43m)\u001b[49m\n",
      "File \u001b[1;32mc:\\dev\\miniconda\\envs\\homl-learn\\Lib\\site-packages\\keras_tuner\\src\\engine\\tuner.py:314\u001b[0m, in \u001b[0;36mTuner.run_trial\u001b[1;34m(self, trial, *args, **kwargs)\u001b[0m\n\u001b[0;32m    312\u001b[0m     callbacks\u001b[38;5;241m.\u001b[39mappend(model_checkpoint)\n\u001b[0;32m    313\u001b[0m     copied_kwargs[\u001b[38;5;124m\"\u001b[39m\u001b[38;5;124mcallbacks\u001b[39m\u001b[38;5;124m\"\u001b[39m] \u001b[38;5;241m=\u001b[39m callbacks\n\u001b[1;32m--> 314\u001b[0m     obj_value \u001b[38;5;241m=\u001b[39m \u001b[38;5;28;43mself\u001b[39;49m\u001b[38;5;241;43m.\u001b[39;49m\u001b[43m_build_and_fit_model\u001b[49m\u001b[43m(\u001b[49m\u001b[43mtrial\u001b[49m\u001b[43m,\u001b[49m\u001b[43m \u001b[49m\u001b[38;5;241;43m*\u001b[39;49m\u001b[43margs\u001b[49m\u001b[43m,\u001b[49m\u001b[43m \u001b[49m\u001b[38;5;241;43m*\u001b[39;49m\u001b[38;5;241;43m*\u001b[39;49m\u001b[43mcopied_kwargs\u001b[49m\u001b[43m)\u001b[49m\n\u001b[0;32m    316\u001b[0m     histories\u001b[38;5;241m.\u001b[39mappend(obj_value)\n\u001b[0;32m    317\u001b[0m \u001b[38;5;28;01mreturn\u001b[39;00m histories\n",
      "File \u001b[1;32mc:\\dev\\miniconda\\envs\\homl-learn\\Lib\\site-packages\\keras_tuner\\src\\engine\\tuner.py:233\u001b[0m, in \u001b[0;36mTuner._build_and_fit_model\u001b[1;34m(self, trial, *args, **kwargs)\u001b[0m\n\u001b[0;32m    231\u001b[0m hp \u001b[38;5;241m=\u001b[39m trial\u001b[38;5;241m.\u001b[39mhyperparameters\n\u001b[0;32m    232\u001b[0m model \u001b[38;5;241m=\u001b[39m \u001b[38;5;28mself\u001b[39m\u001b[38;5;241m.\u001b[39m_try_build(hp)\n\u001b[1;32m--> 233\u001b[0m results \u001b[38;5;241m=\u001b[39m \u001b[38;5;28;43mself\u001b[39;49m\u001b[38;5;241;43m.\u001b[39;49m\u001b[43mhypermodel\u001b[49m\u001b[38;5;241;43m.\u001b[39;49m\u001b[43mfit\u001b[49m\u001b[43m(\u001b[49m\u001b[43mhp\u001b[49m\u001b[43m,\u001b[49m\u001b[43m \u001b[49m\u001b[43mmodel\u001b[49m\u001b[43m,\u001b[49m\u001b[43m \u001b[49m\u001b[38;5;241;43m*\u001b[39;49m\u001b[43margs\u001b[49m\u001b[43m,\u001b[49m\u001b[43m \u001b[49m\u001b[38;5;241;43m*\u001b[39;49m\u001b[38;5;241;43m*\u001b[39;49m\u001b[43mkwargs\u001b[49m\u001b[43m)\u001b[49m\n\u001b[0;32m    235\u001b[0m \u001b[38;5;66;03m# Save the build config for model loading later.\u001b[39;00m\n\u001b[0;32m    236\u001b[0m \u001b[38;5;28;01mif\u001b[39;00m backend\u001b[38;5;241m.\u001b[39mconfig\u001b[38;5;241m.\u001b[39mmulti_backend():\n",
      "Cell \u001b[1;32mIn[15], line 12\u001b[0m, in \u001b[0;36mMyClfHyperModel.fit\u001b[1;34m(self, hp, model, X, y, **kwargs)\u001b[0m\n\u001b[0;32m     10\u001b[0m     norm_l \u001b[38;5;241m=\u001b[39m tf\u001b[38;5;241m.\u001b[39mkeras\u001b[38;5;241m.\u001b[39mlayers\u001b[38;5;241m.\u001b[39mNormalization()\n\u001b[0;32m     11\u001b[0m     X \u001b[38;5;241m=\u001b[39m norm_l(X)\n\u001b[1;32m---> 12\u001b[0m \u001b[38;5;28;01mreturn\u001b[39;00m \u001b[43mmodel\u001b[49m\u001b[38;5;241;43m.\u001b[39;49m\u001b[43mfit\u001b[49m\u001b[43m(\u001b[49m\u001b[43mX\u001b[49m\u001b[43m,\u001b[49m\u001b[43m \u001b[49m\u001b[43my\u001b[49m\u001b[43m,\u001b[49m\u001b[43m \u001b[49m\u001b[38;5;241;43m*\u001b[39;49m\u001b[38;5;241;43m*\u001b[39;49m\u001b[43mkwargs\u001b[49m\u001b[43m)\u001b[49m\n",
      "File \u001b[1;32mc:\\dev\\miniconda\\envs\\homl-learn\\Lib\\site-packages\\keras\\src\\utils\\traceback_utils.py:117\u001b[0m, in \u001b[0;36mfilter_traceback.<locals>.error_handler\u001b[1;34m(*args, **kwargs)\u001b[0m\n\u001b[0;32m    115\u001b[0m filtered_tb \u001b[38;5;241m=\u001b[39m \u001b[38;5;28;01mNone\u001b[39;00m\n\u001b[0;32m    116\u001b[0m \u001b[38;5;28;01mtry\u001b[39;00m:\n\u001b[1;32m--> 117\u001b[0m     \u001b[38;5;28;01mreturn\u001b[39;00m \u001b[43mfn\u001b[49m\u001b[43m(\u001b[49m\u001b[38;5;241;43m*\u001b[39;49m\u001b[43margs\u001b[49m\u001b[43m,\u001b[49m\u001b[43m \u001b[49m\u001b[38;5;241;43m*\u001b[39;49m\u001b[38;5;241;43m*\u001b[39;49m\u001b[43mkwargs\u001b[49m\u001b[43m)\u001b[49m\n\u001b[0;32m    118\u001b[0m \u001b[38;5;28;01mexcept\u001b[39;00m \u001b[38;5;167;01mException\u001b[39;00m \u001b[38;5;28;01mas\u001b[39;00m e:\n\u001b[0;32m    119\u001b[0m     filtered_tb \u001b[38;5;241m=\u001b[39m _process_traceback_frames(e\u001b[38;5;241m.\u001b[39m__traceback__)\n",
      "File \u001b[1;32mc:\\dev\\miniconda\\envs\\homl-learn\\Lib\\site-packages\\keras\\src\\backend\\tensorflow\\trainer.py:320\u001b[0m, in \u001b[0;36mTensorFlowTrainer.fit\u001b[1;34m(self, x, y, batch_size, epochs, verbose, callbacks, validation_split, validation_data, shuffle, class_weight, sample_weight, initial_epoch, steps_per_epoch, validation_steps, validation_batch_size, validation_freq)\u001b[0m\n\u001b[0;32m    318\u001b[0m \u001b[38;5;28;01mfor\u001b[39;00m step, iterator \u001b[38;5;129;01min\u001b[39;00m epoch_iterator\u001b[38;5;241m.\u001b[39menumerate_epoch():\n\u001b[0;32m    319\u001b[0m     callbacks\u001b[38;5;241m.\u001b[39mon_train_batch_begin(step)\n\u001b[1;32m--> 320\u001b[0m     logs \u001b[38;5;241m=\u001b[39m \u001b[38;5;28;43mself\u001b[39;49m\u001b[38;5;241;43m.\u001b[39;49m\u001b[43mtrain_function\u001b[49m\u001b[43m(\u001b[49m\u001b[43miterator\u001b[49m\u001b[43m)\u001b[49m\n\u001b[0;32m    321\u001b[0m     logs \u001b[38;5;241m=\u001b[39m \u001b[38;5;28mself\u001b[39m\u001b[38;5;241m.\u001b[39m_pythonify_logs(logs)\n\u001b[0;32m    322\u001b[0m     callbacks\u001b[38;5;241m.\u001b[39mon_train_batch_end(step, logs)\n",
      "File \u001b[1;32mc:\\dev\\miniconda\\envs\\homl-learn\\Lib\\site-packages\\tensorflow\\python\\util\\traceback_utils.py:150\u001b[0m, in \u001b[0;36mfilter_traceback.<locals>.error_handler\u001b[1;34m(*args, **kwargs)\u001b[0m\n\u001b[0;32m    148\u001b[0m filtered_tb \u001b[38;5;241m=\u001b[39m \u001b[38;5;28;01mNone\u001b[39;00m\n\u001b[0;32m    149\u001b[0m \u001b[38;5;28;01mtry\u001b[39;00m:\n\u001b[1;32m--> 150\u001b[0m   \u001b[38;5;28;01mreturn\u001b[39;00m \u001b[43mfn\u001b[49m\u001b[43m(\u001b[49m\u001b[38;5;241;43m*\u001b[39;49m\u001b[43margs\u001b[49m\u001b[43m,\u001b[49m\u001b[43m \u001b[49m\u001b[38;5;241;43m*\u001b[39;49m\u001b[38;5;241;43m*\u001b[39;49m\u001b[43mkwargs\u001b[49m\u001b[43m)\u001b[49m\n\u001b[0;32m    151\u001b[0m \u001b[38;5;28;01mexcept\u001b[39;00m \u001b[38;5;167;01mException\u001b[39;00m \u001b[38;5;28;01mas\u001b[39;00m e:\n\u001b[0;32m    152\u001b[0m   filtered_tb \u001b[38;5;241m=\u001b[39m _process_traceback_frames(e\u001b[38;5;241m.\u001b[39m__traceback__)\n",
      "File \u001b[1;32mc:\\dev\\miniconda\\envs\\homl-learn\\Lib\\site-packages\\tensorflow\\python\\eager\\polymorphic_function\\polymorphic_function.py:833\u001b[0m, in \u001b[0;36mFunction.__call__\u001b[1;34m(self, *args, **kwds)\u001b[0m\n\u001b[0;32m    830\u001b[0m compiler \u001b[38;5;241m=\u001b[39m \u001b[38;5;124m\"\u001b[39m\u001b[38;5;124mxla\u001b[39m\u001b[38;5;124m\"\u001b[39m \u001b[38;5;28;01mif\u001b[39;00m \u001b[38;5;28mself\u001b[39m\u001b[38;5;241m.\u001b[39m_jit_compile \u001b[38;5;28;01melse\u001b[39;00m \u001b[38;5;124m\"\u001b[39m\u001b[38;5;124mnonXla\u001b[39m\u001b[38;5;124m\"\u001b[39m\n\u001b[0;32m    832\u001b[0m \u001b[38;5;28;01mwith\u001b[39;00m OptionalXlaContext(\u001b[38;5;28mself\u001b[39m\u001b[38;5;241m.\u001b[39m_jit_compile):\n\u001b[1;32m--> 833\u001b[0m   result \u001b[38;5;241m=\u001b[39m \u001b[38;5;28;43mself\u001b[39;49m\u001b[38;5;241;43m.\u001b[39;49m\u001b[43m_call\u001b[49m\u001b[43m(\u001b[49m\u001b[38;5;241;43m*\u001b[39;49m\u001b[43margs\u001b[49m\u001b[43m,\u001b[49m\u001b[43m \u001b[49m\u001b[38;5;241;43m*\u001b[39;49m\u001b[38;5;241;43m*\u001b[39;49m\u001b[43mkwds\u001b[49m\u001b[43m)\u001b[49m\n\u001b[0;32m    835\u001b[0m new_tracing_count \u001b[38;5;241m=\u001b[39m \u001b[38;5;28mself\u001b[39m\u001b[38;5;241m.\u001b[39mexperimental_get_tracing_count()\n\u001b[0;32m    836\u001b[0m without_tracing \u001b[38;5;241m=\u001b[39m (tracing_count \u001b[38;5;241m==\u001b[39m new_tracing_count)\n",
      "File \u001b[1;32mc:\\dev\\miniconda\\envs\\homl-learn\\Lib\\site-packages\\tensorflow\\python\\eager\\polymorphic_function\\polymorphic_function.py:878\u001b[0m, in \u001b[0;36mFunction._call\u001b[1;34m(self, *args, **kwds)\u001b[0m\n\u001b[0;32m    875\u001b[0m \u001b[38;5;28mself\u001b[39m\u001b[38;5;241m.\u001b[39m_lock\u001b[38;5;241m.\u001b[39mrelease()\n\u001b[0;32m    876\u001b[0m \u001b[38;5;66;03m# In this case we have not created variables on the first call. So we can\u001b[39;00m\n\u001b[0;32m    877\u001b[0m \u001b[38;5;66;03m# run the first trace but we should fail if variables are created.\u001b[39;00m\n\u001b[1;32m--> 878\u001b[0m results \u001b[38;5;241m=\u001b[39m \u001b[43mtracing_compilation\u001b[49m\u001b[38;5;241;43m.\u001b[39;49m\u001b[43mcall_function\u001b[49m\u001b[43m(\u001b[49m\n\u001b[0;32m    879\u001b[0m \u001b[43m    \u001b[49m\u001b[43margs\u001b[49m\u001b[43m,\u001b[49m\u001b[43m \u001b[49m\u001b[43mkwds\u001b[49m\u001b[43m,\u001b[49m\u001b[43m \u001b[49m\u001b[38;5;28;43mself\u001b[39;49m\u001b[38;5;241;43m.\u001b[39;49m\u001b[43m_variable_creation_config\u001b[49m\n\u001b[0;32m    880\u001b[0m \u001b[43m\u001b[49m\u001b[43m)\u001b[49m\n\u001b[0;32m    881\u001b[0m \u001b[38;5;28;01mif\u001b[39;00m \u001b[38;5;28mself\u001b[39m\u001b[38;5;241m.\u001b[39m_created_variables:\n\u001b[0;32m    882\u001b[0m   \u001b[38;5;28;01mraise\u001b[39;00m \u001b[38;5;167;01mValueError\u001b[39;00m(\u001b[38;5;124m\"\u001b[39m\u001b[38;5;124mCreating variables on a non-first call to a function\u001b[39m\u001b[38;5;124m\"\u001b[39m\n\u001b[0;32m    883\u001b[0m                    \u001b[38;5;124m\"\u001b[39m\u001b[38;5;124m decorated with tf.function.\u001b[39m\u001b[38;5;124m\"\u001b[39m)\n",
      "File \u001b[1;32mc:\\dev\\miniconda\\envs\\homl-learn\\Lib\\site-packages\\tensorflow\\python\\eager\\polymorphic_function\\tracing_compilation.py:139\u001b[0m, in \u001b[0;36mcall_function\u001b[1;34m(args, kwargs, tracing_options)\u001b[0m\n\u001b[0;32m    137\u001b[0m bound_args \u001b[38;5;241m=\u001b[39m function\u001b[38;5;241m.\u001b[39mfunction_type\u001b[38;5;241m.\u001b[39mbind(\u001b[38;5;241m*\u001b[39margs, \u001b[38;5;241m*\u001b[39m\u001b[38;5;241m*\u001b[39mkwargs)\n\u001b[0;32m    138\u001b[0m flat_inputs \u001b[38;5;241m=\u001b[39m function\u001b[38;5;241m.\u001b[39mfunction_type\u001b[38;5;241m.\u001b[39munpack_inputs(bound_args)\n\u001b[1;32m--> 139\u001b[0m \u001b[38;5;28;01mreturn\u001b[39;00m \u001b[43mfunction\u001b[49m\u001b[38;5;241;43m.\u001b[39;49m\u001b[43m_call_flat\u001b[49m\u001b[43m(\u001b[49m\u001b[43m  \u001b[49m\u001b[38;5;66;43;03m# pylint: disable=protected-access\u001b[39;49;00m\n\u001b[0;32m    140\u001b[0m \u001b[43m    \u001b[49m\u001b[43mflat_inputs\u001b[49m\u001b[43m,\u001b[49m\u001b[43m \u001b[49m\u001b[43mcaptured_inputs\u001b[49m\u001b[38;5;241;43m=\u001b[39;49m\u001b[43mfunction\u001b[49m\u001b[38;5;241;43m.\u001b[39;49m\u001b[43mcaptured_inputs\u001b[49m\n\u001b[0;32m    141\u001b[0m \u001b[43m\u001b[49m\u001b[43m)\u001b[49m\n",
      "File \u001b[1;32mc:\\dev\\miniconda\\envs\\homl-learn\\Lib\\site-packages\\tensorflow\\python\\eager\\polymorphic_function\\concrete_function.py:1322\u001b[0m, in \u001b[0;36mConcreteFunction._call_flat\u001b[1;34m(self, tensor_inputs, captured_inputs)\u001b[0m\n\u001b[0;32m   1318\u001b[0m possible_gradient_type \u001b[38;5;241m=\u001b[39m gradients_util\u001b[38;5;241m.\u001b[39mPossibleTapeGradientTypes(args)\n\u001b[0;32m   1319\u001b[0m \u001b[38;5;28;01mif\u001b[39;00m (possible_gradient_type \u001b[38;5;241m==\u001b[39m gradients_util\u001b[38;5;241m.\u001b[39mPOSSIBLE_GRADIENT_TYPES_NONE\n\u001b[0;32m   1320\u001b[0m     \u001b[38;5;129;01mand\u001b[39;00m executing_eagerly):\n\u001b[0;32m   1321\u001b[0m   \u001b[38;5;66;03m# No tape is watching; skip to running the function.\u001b[39;00m\n\u001b[1;32m-> 1322\u001b[0m   \u001b[38;5;28;01mreturn\u001b[39;00m \u001b[38;5;28;43mself\u001b[39;49m\u001b[38;5;241;43m.\u001b[39;49m\u001b[43m_inference_function\u001b[49m\u001b[38;5;241;43m.\u001b[39;49m\u001b[43mcall_preflattened\u001b[49m\u001b[43m(\u001b[49m\u001b[43margs\u001b[49m\u001b[43m)\u001b[49m\n\u001b[0;32m   1323\u001b[0m forward_backward \u001b[38;5;241m=\u001b[39m \u001b[38;5;28mself\u001b[39m\u001b[38;5;241m.\u001b[39m_select_forward_and_backward_functions(\n\u001b[0;32m   1324\u001b[0m     args,\n\u001b[0;32m   1325\u001b[0m     possible_gradient_type,\n\u001b[0;32m   1326\u001b[0m     executing_eagerly)\n\u001b[0;32m   1327\u001b[0m forward_function, args_with_tangents \u001b[38;5;241m=\u001b[39m forward_backward\u001b[38;5;241m.\u001b[39mforward()\n",
      "File \u001b[1;32mc:\\dev\\miniconda\\envs\\homl-learn\\Lib\\site-packages\\tensorflow\\python\\eager\\polymorphic_function\\atomic_function.py:216\u001b[0m, in \u001b[0;36mAtomicFunction.call_preflattened\u001b[1;34m(self, args)\u001b[0m\n\u001b[0;32m    214\u001b[0m \u001b[38;5;28;01mdef\u001b[39;00m \u001b[38;5;21mcall_preflattened\u001b[39m(\u001b[38;5;28mself\u001b[39m, args: Sequence[core\u001b[38;5;241m.\u001b[39mTensor]) \u001b[38;5;241m-\u001b[39m\u001b[38;5;241m>\u001b[39m Any:\n\u001b[0;32m    215\u001b[0m \u001b[38;5;250m  \u001b[39m\u001b[38;5;124;03m\"\"\"Calls with flattened tensor inputs and returns the structured output.\"\"\"\u001b[39;00m\n\u001b[1;32m--> 216\u001b[0m   flat_outputs \u001b[38;5;241m=\u001b[39m \u001b[38;5;28;43mself\u001b[39;49m\u001b[38;5;241;43m.\u001b[39;49m\u001b[43mcall_flat\u001b[49m\u001b[43m(\u001b[49m\u001b[38;5;241;43m*\u001b[39;49m\u001b[43margs\u001b[49m\u001b[43m)\u001b[49m\n\u001b[0;32m    217\u001b[0m   \u001b[38;5;28;01mreturn\u001b[39;00m \u001b[38;5;28mself\u001b[39m\u001b[38;5;241m.\u001b[39mfunction_type\u001b[38;5;241m.\u001b[39mpack_output(flat_outputs)\n",
      "File \u001b[1;32mc:\\dev\\miniconda\\envs\\homl-learn\\Lib\\site-packages\\tensorflow\\python\\eager\\polymorphic_function\\atomic_function.py:251\u001b[0m, in \u001b[0;36mAtomicFunction.call_flat\u001b[1;34m(self, *args)\u001b[0m\n\u001b[0;32m    249\u001b[0m \u001b[38;5;28;01mwith\u001b[39;00m record\u001b[38;5;241m.\u001b[39mstop_recording():\n\u001b[0;32m    250\u001b[0m   \u001b[38;5;28;01mif\u001b[39;00m \u001b[38;5;28mself\u001b[39m\u001b[38;5;241m.\u001b[39m_bound_context\u001b[38;5;241m.\u001b[39mexecuting_eagerly():\n\u001b[1;32m--> 251\u001b[0m     outputs \u001b[38;5;241m=\u001b[39m \u001b[38;5;28;43mself\u001b[39;49m\u001b[38;5;241;43m.\u001b[39;49m\u001b[43m_bound_context\u001b[49m\u001b[38;5;241;43m.\u001b[39;49m\u001b[43mcall_function\u001b[49m\u001b[43m(\u001b[49m\n\u001b[0;32m    252\u001b[0m \u001b[43m        \u001b[49m\u001b[38;5;28;43mself\u001b[39;49m\u001b[38;5;241;43m.\u001b[39;49m\u001b[43mname\u001b[49m\u001b[43m,\u001b[49m\n\u001b[0;32m    253\u001b[0m \u001b[43m        \u001b[49m\u001b[38;5;28;43mlist\u001b[39;49m\u001b[43m(\u001b[49m\u001b[43margs\u001b[49m\u001b[43m)\u001b[49m\u001b[43m,\u001b[49m\n\u001b[0;32m    254\u001b[0m \u001b[43m        \u001b[49m\u001b[38;5;28;43mlen\u001b[39;49m\u001b[43m(\u001b[49m\u001b[38;5;28;43mself\u001b[39;49m\u001b[38;5;241;43m.\u001b[39;49m\u001b[43mfunction_type\u001b[49m\u001b[38;5;241;43m.\u001b[39;49m\u001b[43mflat_outputs\u001b[49m\u001b[43m)\u001b[49m\u001b[43m,\u001b[49m\n\u001b[0;32m    255\u001b[0m \u001b[43m    \u001b[49m\u001b[43m)\u001b[49m\n\u001b[0;32m    256\u001b[0m   \u001b[38;5;28;01melse\u001b[39;00m:\n\u001b[0;32m    257\u001b[0m     outputs \u001b[38;5;241m=\u001b[39m make_call_op_in_graph(\n\u001b[0;32m    258\u001b[0m         \u001b[38;5;28mself\u001b[39m,\n\u001b[0;32m    259\u001b[0m         \u001b[38;5;28mlist\u001b[39m(args),\n\u001b[0;32m    260\u001b[0m         \u001b[38;5;28mself\u001b[39m\u001b[38;5;241m.\u001b[39m_bound_context\u001b[38;5;241m.\u001b[39mfunction_call_options\u001b[38;5;241m.\u001b[39mas_attrs(),\n\u001b[0;32m    261\u001b[0m     )\n",
      "File \u001b[1;32mc:\\dev\\miniconda\\envs\\homl-learn\\Lib\\site-packages\\tensorflow\\python\\eager\\context.py:1552\u001b[0m, in \u001b[0;36mContext.call_function\u001b[1;34m(self, name, tensor_inputs, num_outputs)\u001b[0m\n\u001b[0;32m   1550\u001b[0m cancellation_context \u001b[38;5;241m=\u001b[39m cancellation\u001b[38;5;241m.\u001b[39mcontext()\n\u001b[0;32m   1551\u001b[0m \u001b[38;5;28;01mif\u001b[39;00m cancellation_context \u001b[38;5;129;01mis\u001b[39;00m \u001b[38;5;28;01mNone\u001b[39;00m:\n\u001b[1;32m-> 1552\u001b[0m   outputs \u001b[38;5;241m=\u001b[39m \u001b[43mexecute\u001b[49m\u001b[38;5;241;43m.\u001b[39;49m\u001b[43mexecute\u001b[49m\u001b[43m(\u001b[49m\n\u001b[0;32m   1553\u001b[0m \u001b[43m      \u001b[49m\u001b[43mname\u001b[49m\u001b[38;5;241;43m.\u001b[39;49m\u001b[43mdecode\u001b[49m\u001b[43m(\u001b[49m\u001b[38;5;124;43m\"\u001b[39;49m\u001b[38;5;124;43mutf-8\u001b[39;49m\u001b[38;5;124;43m\"\u001b[39;49m\u001b[43m)\u001b[49m\u001b[43m,\u001b[49m\n\u001b[0;32m   1554\u001b[0m \u001b[43m      \u001b[49m\u001b[43mnum_outputs\u001b[49m\u001b[38;5;241;43m=\u001b[39;49m\u001b[43mnum_outputs\u001b[49m\u001b[43m,\u001b[49m\n\u001b[0;32m   1555\u001b[0m \u001b[43m      \u001b[49m\u001b[43minputs\u001b[49m\u001b[38;5;241;43m=\u001b[39;49m\u001b[43mtensor_inputs\u001b[49m\u001b[43m,\u001b[49m\n\u001b[0;32m   1556\u001b[0m \u001b[43m      \u001b[49m\u001b[43mattrs\u001b[49m\u001b[38;5;241;43m=\u001b[39;49m\u001b[43mattrs\u001b[49m\u001b[43m,\u001b[49m\n\u001b[0;32m   1557\u001b[0m \u001b[43m      \u001b[49m\u001b[43mctx\u001b[49m\u001b[38;5;241;43m=\u001b[39;49m\u001b[38;5;28;43mself\u001b[39;49m\u001b[43m,\u001b[49m\n\u001b[0;32m   1558\u001b[0m \u001b[43m  \u001b[49m\u001b[43m)\u001b[49m\n\u001b[0;32m   1559\u001b[0m \u001b[38;5;28;01melse\u001b[39;00m:\n\u001b[0;32m   1560\u001b[0m   outputs \u001b[38;5;241m=\u001b[39m execute\u001b[38;5;241m.\u001b[39mexecute_with_cancellation(\n\u001b[0;32m   1561\u001b[0m       name\u001b[38;5;241m.\u001b[39mdecode(\u001b[38;5;124m\"\u001b[39m\u001b[38;5;124mutf-8\u001b[39m\u001b[38;5;124m\"\u001b[39m),\n\u001b[0;32m   1562\u001b[0m       num_outputs\u001b[38;5;241m=\u001b[39mnum_outputs,\n\u001b[1;32m   (...)\u001b[0m\n\u001b[0;32m   1566\u001b[0m       cancellation_manager\u001b[38;5;241m=\u001b[39mcancellation_context,\n\u001b[0;32m   1567\u001b[0m   )\n",
      "File \u001b[1;32mc:\\dev\\miniconda\\envs\\homl-learn\\Lib\\site-packages\\tensorflow\\python\\eager\\execute.py:53\u001b[0m, in \u001b[0;36mquick_execute\u001b[1;34m(op_name, num_outputs, inputs, attrs, ctx, name)\u001b[0m\n\u001b[0;32m     51\u001b[0m \u001b[38;5;28;01mtry\u001b[39;00m:\n\u001b[0;32m     52\u001b[0m   ctx\u001b[38;5;241m.\u001b[39mensure_initialized()\n\u001b[1;32m---> 53\u001b[0m   tensors \u001b[38;5;241m=\u001b[39m \u001b[43mpywrap_tfe\u001b[49m\u001b[38;5;241;43m.\u001b[39;49m\u001b[43mTFE_Py_Execute\u001b[49m\u001b[43m(\u001b[49m\u001b[43mctx\u001b[49m\u001b[38;5;241;43m.\u001b[39;49m\u001b[43m_handle\u001b[49m\u001b[43m,\u001b[49m\u001b[43m \u001b[49m\u001b[43mdevice_name\u001b[49m\u001b[43m,\u001b[49m\u001b[43m \u001b[49m\u001b[43mop_name\u001b[49m\u001b[43m,\u001b[49m\n\u001b[0;32m     54\u001b[0m \u001b[43m                                      \u001b[49m\u001b[43minputs\u001b[49m\u001b[43m,\u001b[49m\u001b[43m \u001b[49m\u001b[43mattrs\u001b[49m\u001b[43m,\u001b[49m\u001b[43m \u001b[49m\u001b[43mnum_outputs\u001b[49m\u001b[43m)\u001b[49m\n\u001b[0;32m     55\u001b[0m \u001b[38;5;28;01mexcept\u001b[39;00m core\u001b[38;5;241m.\u001b[39m_NotOkStatusException \u001b[38;5;28;01mas\u001b[39;00m e:\n\u001b[0;32m     56\u001b[0m   \u001b[38;5;28;01mif\u001b[39;00m name \u001b[38;5;129;01mis\u001b[39;00m \u001b[38;5;129;01mnot\u001b[39;00m \u001b[38;5;28;01mNone\u001b[39;00m:\n",
      "\u001b[1;31mKeyboardInterrupt\u001b[0m: "
     ]
    }
   ],
   "source": [
    "from pathlib import Path\n",
    "\n",
    "root_logdir = Path(hyperband_tuner.project_dir)/\"tensorboard\"\n",
    "# kt.Hyperband takes care of using a diff subdir for each trial\n",
    "tensorboard_cb = tf.keras.callbacks.TensorBoard(root_logdir)\n",
    "early_stopping_cb = tf.keras.callbacks.EarlyStopping(patience=2)\n",
    "\n",
    "hyperband_tuner.search(X_tr, y_tr, epochs=10,\n",
    "                       validation_data=(X_val, y_val),\n",
    "                       callbacks=[early_stopping_cb, tensorboard_cb])"
   ]
  },
  {
   "cell_type": "markdown",
   "metadata": {},
   "source": [
    "`Hyberband` is smarter than pure random search in the way it allocates resources, but at its core, it still explorers hyperparam space random\n",
    "  - fast but coarse\n"
   ]
  },
  {
   "cell_type": "markdown",
   "metadata": {},
   "source": [
    "#### `kt.BayesianOptimization`\n",
    "- Learns which regions of hyperparam sapce are most promising\n",
    "  - allows to zoom in on best hyperparams\n",
    "- Fits a probabilistic model called <b>Gaussian Process</b>\n",
    "- Downside: it has its own hyperparams\n",
    "  - `alpha`: level of noise expected in performance measures across trials\n",
    "    - 10e-4 default\n",
    "  - `beta`: how much u want algo to explore, instead of simply exploiting known good regions\n",
    "    - 2.6 default"
   ]
  },
  {
   "cell_type": "code",
   "execution_count": 20,
   "metadata": {},
   "outputs": [
    {
     "name": "stdout",
     "output_type": "stream",
     "text": [
      "Trial 10 Complete [00h 00m 41s]\n",
      "val_accuracy: 0.7797999978065491\n",
      "\n",
      "Best val_accuracy So Far: 0.8830000162124634\n",
      "Total elapsed time: 00h 07m 36s\n"
     ]
    }
   ],
   "source": [
    "bayesian_opt_tuner = kt.BayesianOptimization(\n",
    "    MyClfHyperModel(), objective='val_accuracy', seed=42,\n",
    "    max_trials=10, alpha=1e-4, beta=2.6,\n",
    "    overwrite=True, directory='my_fashion_mnist', project_name='bayesian_opt'\n",
    ")\n",
    "\n",
    "root_logdir = Path(bayesian_opt_tuner.project_dir)/\"tensorboard\"\n",
    "tensorboard_cb = tf.keras.callbacks.TensorBoard(root_logdir)\n",
    "early_stopping_cb = tf.keras.callbacks.EarlyStopping(patience=2)\n",
    "\n",
    "bayesian_opt_tuner.search(X_tr, y_tr, epochs=10,\n",
    "                          validation_data=(X_val, y_val),\n",
    "                          callbacks=[early_stopping_cb, tensorboard_cb])"
   ]
  },
  {
   "cell_type": "markdown",
   "metadata": {},
   "source": [
    "### More Hyperparam Tuning\n",
    "- DeepMind's 2017 paper, where they used evolutionary algo to optimize a population of models and their hyperparameters\n",
    "- Google also did not only this, but they also used it to explore all sorts of model archs\n",
    "  - it powers their <b>AutoML</b> service on <b>Google Vertex AI</b>\n",
    "\n",
    "#### AutoML\n",
    "- refers to any sys that takes care of a large part of ML workflow\n",
    "\n",
    "Evolutionary algos have been used to train NNs, replacing Gradient Descent\n",
    " - 2017 post by Uber, where they introduced <b>Deep Neuroevolution</b>"
   ]
  },
  {
   "cell_type": "markdown",
   "metadata": {},
   "source": [
    "# Guidelines for Hyperparams\n",
    "Despite all above automatic ways of finding hyperparams, still need to have idea of reasonable values to use for quick prototyping and to restrict the search space"
   ]
  },
  {
   "cell_type": "markdown",
   "metadata": {},
   "source": [
    "### Number of Hidden Layers\n",
    "- Can start w/ 1 HL\n",
    "  - given enough neurons, 1 HL can model any function\n",
    "- For complex problems, DNNs have higher <b>parameter efficiency</b>\n",
    "  - model complex funcs using exponentially fewer neurons, reaching same perf, with same amount of data\n",
    "\n",
    "#### Reason for Parameter Efficiency\n",
    "E.g. asked to draw a forest w/o using copy/past\n",
    "  - would need to draw every tree individually, leaf by leaf\n",
    "  - this takes enormous amount of time\n",
    "  - If we could draw a leaf, copy/paste it to draw a branch, copy/ paste it to make a tree, and then copy/paste it to make a forest, we will finish in no time\n",
    "  - Real-world data is structured in such a hierarchical way\n",
    "  - DNNs take advantage of this automatically\n",
    "    - lower layers model low-level structures, intermediate combine them to model intermediate-level structures, highest layers & output layer combine them to model high-level structures\n",
    "      - e.g. lines -> squares, circles -> faces\n",
    "\n",
    "This hierarchical arch helps converge faster + also improves generalization ability\n",
    "  - can use lower layers of NN trained on faces to recognize hairstyles to kickstart training\n",
    "  - Would only need to learn higher-level structures\n",
    "    - AKA <b>Transfer Learning</b>\n",
    "  \n",
    "#### Summary\n",
    "  - For many problems, 1 or 2 HLs are fine\n",
    "    - 1 HL reaches above 97% accuracy on MNIST\n",
    "  - For more complex, ramp up number of HLs until we overfit the training set\n",
    "  - For very complex tasks, reuse pretrained state-of-the-art networks\n",
    "    - training will be a lot faster + require much less data\n",
    "    - e.g. large img clf or speech recognition"
   ]
  },
  {
   "cell_type": "markdown",
   "metadata": {},
   "source": [
    "### Number of Neurons per HL\n",
    "- For input and output layers, task determines it\n",
    "- For HL:\n",
    "  - Used to be common to form a pyramid\n",
    "    - fewer and fewer neurons at each layer\n",
    "    - rationale: low-level features coalesce into far fewer high-level features\n",
    "  - But this practice was abandoned cuz:\n",
    "    - using same number of neurons performs as well or even better\n",
    "    - only 1 hyperparam to tune, instead of 1 per layer\n",
    "  - But, depending on dataset, can be helpful to make 1st HL bigger than others\n",
    "\n",
    "Can increase until overfitting\n",
    "<br>Or can build model with slightly more layers & neurons than you need, then use early stopping + regularization techniques\n",
    "  - <b>\"stretch pants\"</b> approach\n",
    "    - instead of wasting time looking for pants that perfectly match, just use large stretch pants that will shrink down to right size\n",
    "  - avoids bottleneck layers\n",
    "    - if layer has too few neurons, it won't have enough representational power to preserve all useful info\n",
    "    - e.g. layer with 2 neurons can only output 2D data, so some 3D info will be lost\n",
    "      - can't recover this info, no matter how big or small the rest of the network is\n",
    "\n",
    "In general, you get more bang for you buck by increasing number of layers instead of neurons per layer"
   ]
  },
  {
   "cell_type": "markdown",
   "metadata": {},
   "source": [
    "### Learning Rate, Batch Size, Other Hyperparams\n",
    "#### Learning Rate\n",
    "  - most imp\n",
    "  - optimal LR is half of max LR\n",
    "    - max LR = above which training algo diverges\n",
    "  - train for a few 100 iters, starting w/ very low LR (e.g. 10e-5), gradually increasing to a large value (e.g. 10)\n",
    "    - by multiplying LR by a constant factor at each iter\n",
    "    - by (10/10e-5)<sup>1/500</sup> to from from 10e-5 to 10 in 500 iters\n",
    "  - plot loss as func of LR, w/ log scale for loss\n",
    "    - Loss will drop, then shoot up cuz LR will be too large\n",
    "    - optimal LR is a bit lower than the point where loss starts to climb\n",
    "      - typically 10 times lower than turning point\n",
    "  - other LR optimization techniques in next ch\n",
    "  - optimal LR also depends on other hyperparams, so update LR if we change others\n",
    "#### Optimizer\n",
    "  - imp to choose better opt than mini-batch gradient descent & tune its hyperparams\n",
    "  - advanced optimizers in next ch\n",
    "#### Batch size\n",
    "  - significant impact on perf + training time\n",
    "  - main benefit of large batch size = h/w accelerators (e.g. GPUs) process them efficiently, so training algo sees more instances per sec\n",
    "  - recomm to use largest batch size that can fit in GPU RAM\n",
    "    - catch: in practice, large batch sizes often lead to training instabilities, esp at beginning of training\n",
    "    - so model may not generalize as well as model trained w/ small batch size\n",
    "  - \"friends don't let friends use mini-batches larger than 32\"\n",
    "    - plus 2018 paper which concludes small batches (2 to 32) is preferable cuz they led to better models in less training time\n",
    "  - other papers, like in 2017\n",
    "    - possible to use very large batch sizes (up to 8,192) along w/ techniques (e.g. warming up LR, is in next ch) & to obtain very short training times w/o any generalization gap\n",
    "  - So: try large batch size w/ LR warmup and if it's unstable or final perf is disappointing, use small batch size instead\n",
    "#### Activation func\n",
    "  - discussed how to choose this earlier in this ch\n",
    "  - in general, ReLU is good default\n",
    "  - for output layer, it depends on task\n",
    "    - clf -> sigmoid or softmax\n",
    "    - want +ve output -> ReLU\n",
    "    - regression -> no function\n",
    "#### Num of iters\n",
    "  - doesn't need to be tweaked: use early stopping\n",
    "\n",
    "For more best practices, check 2018 paper by Leslie Smith"
   ]
  }
 ],
 "metadata": {
  "kernelspec": {
   "display_name": "homl-learn",
   "language": "python",
   "name": "python3"
  },
  "language_info": {
   "codemirror_mode": {
    "name": "ipython",
    "version": 3
   },
   "file_extension": ".py",
   "mimetype": "text/x-python",
   "name": "python",
   "nbconvert_exporter": "python",
   "pygments_lexer": "ipython3",
   "version": "3.12.4"
  }
 },
 "nbformat": 4,
 "nbformat_minor": 2
}
