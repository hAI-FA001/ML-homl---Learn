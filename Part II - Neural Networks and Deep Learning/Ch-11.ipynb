{
 "cells": [
  {
   "cell_type": "markdown",
   "metadata": {},
   "source": [
    "# Problems in Training DNNs\n",
    "- Gradients become smaller or larger when flowing backward\n",
    "  - lower layers become difficult to train\n",
    "  - <b>vanishing and exploding gradients</b>\n",
    "- Not enough data or too costly to label\n",
    "  - <b>Transfer Learning</b> and <b>Unsupervised Pretraining</b> helps\n",
    "- Extremely slow training\n",
    "  - Optimizers help speed this up\n",
    "- A model w/ millions of param severely risks overfitting, esp if there aren't enough instances or they're too noisy\n",
    "  - Regularization techniques help with this"
   ]
  },
  {
   "cell_type": "markdown",
   "metadata": {},
   "source": [
    "# Vanishing/Exploding Gradients\n",
    "- Exploding grads happens often in RNNs\n",
    "- DNNs suffer from unstable gradients\n",
    "  - diff layers learn at widely diff speeds\n",
    "\n",
    "2010 paper, Xavier Glorot and Yoshua Bengio\n",
    "  - cuplrit was combination of sigmoid & weight init technique popular at that time (mean 0, std 1)\n",
    "  - showed variance of outputs of each layer is much greater than variance of its inputs\n",
    "    - var keeps increasing until activation function saturates at top layers\n",
    "      - even worse, as sigmoid has mean 0.5, not 0\n",
    "        - tanh has mean 0, so it behaves slighlty better in DNNs\n",
    "      - saturate = sigmoid tends to 0 or 1 at large values\n",
    "        - and derivative ~ 0, virtually no gradient to propagate\n",
    "        - even worse as grad keeps getting diluted in backward pass"
   ]
  },
  {
   "cell_type": "markdown",
   "metadata": {},
   "source": [
    "### Glorot and He Initialization\n",
    "- Don't want signal to die out or explode, want it to flow properly\n",
    "- Variance of outputs needs to be equal to variance of inputs\n",
    "- Variance needs to be equal before & after flowing through a layer in reverse direction\n",
    "- Not possible to guarantee both, unless layer has equal number of inputs and outputs\n",
    "  - <b>fan-in</b> and <b>fan-out</b> of the layer\n",
    "\n",
    "#### Xavier or Glorot Initialization\n",
    "They gave a good compromise which works well:\n",
    " - Normal dst with `mean 0` and `variance 1/fan`<sub>`avg`</sub>\n",
    " - Or Uniform dst b/w `-r to +r`, with `r=sqrt(3/fan`<sub>`avg`</sub>`)`\n",
    "<br>Where `fan`<sub>`avg`</sub>`=(fan`<sub>`in`</sub>` + fan`<sub>`out`</sub>`) / 2`\n",
    "\n",
    "If `fan`<sub>`avg`</sub>` == fan`<sub>`in`</sub>, you get <b>LeCun initialization</b>\n",
    "  - LeCun init is equivalent to Glorot init when `fan`<sub>`in`</sub>` == fan`<sub>`out`</sub>\n",
    "\n",
    "Glorot init speeds up training significantly\n",
    "<br>It's one of the practices that led to success of DL\n",
    "\n",
    "#### Other Strategies\n",
    "- Others provide similar strategies for diff activation functions\n",
    "- They differ only by scale of variance and whether they use fan<sub>avg</sub> or fan<sub>in</sub>\n",
    "  - for uniform dst, just use `r=3*variance`\n",
    "\n",
    "For ReLU and its variants, use <b>He or Kaiming init</b>\n",
    "<br>For SELU, use LeCun init, preferably w/ normal dst\n",
    "\n",
    "\n",
    "<table>\n",
    "<thead>\n",
    "<tr>\n",
    "<th>Init</th>\n",
    "<th>Activation Func</th>\n",
    "<th>Variance (Normal)</th>\n",
    "</tr>\n",
    "</thead>\n",
    "<tbody>\n",
    "<tr><td>Glorot</td><td>None, tanh, sigmoid, softmax</td><td>1/fan<sub>avg</sub></td></tr>\n",
    "<tr><td>He</td><td>ReLU, Leaky ReLU, ELU, GELU, Swish, Mish</td><td>2/fan<sub>in</sub></td></tr>\n",
    "<tr><td>LeCun</td><td>SELU</td><td>1/fan<sub>in</sub></td></tr>\n",
    "</tbody>\n",
    "</table>"
   ]
  },
  {
   "cell_type": "markdown",
   "metadata": {},
   "source": [
    "Keras uses Glorot init by default, with uniform dst"
   ]
  },
  {
   "cell_type": "code",
   "execution_count": 1,
   "metadata": {},
   "outputs": [],
   "source": [
    "import tensorflow as tf\n",
    "\n",
    "dense = tf.keras.layers.Dense(50, activation='relu',\n",
    "                              kernel_initializer='he_normal')"
   ]
  },
  {
   "cell_type": "markdown",
   "metadata": {},
   "source": [
    "### `VarianceScaling` initializer\n",
    "Can obtain any init and more using this"
   ]
  },
  {
   "cell_type": "code",
   "execution_count": 2,
   "metadata": {},
   "outputs": [],
   "source": [
    "# He init w/ uniform dst, based on fan_avg rather than fan_in\n",
    "he_avg_init = tf.keras.initializers.VarianceScaling(scale=2, mode='fan_avg',\n",
    "                                                    distribution='uniform')\n",
    "dense = tf.keras.layers.Dense(50, activation='sigmoid',\n",
    "                              kernel_initializer=he_avg_init)"
   ]
  },
  {
   "cell_type": "markdown",
   "metadata": {},
   "source": [
    "### Better Activation Functions\n",
    "- People assumed if Nature chose to use roughly sigmoid activation functions in biological neurons, they must be excellent\n",
    "- For DNNs, other activation functions behave much better\n",
    "  - ReLU in particular, cuz it doesn't saturate for +ve values and is fast to compute\n",
    "\n",
    "#### Dying ReLUs Problem\n",
    "- ReLU suffers from <b>dying ReLUs</b> problem\n",
    "  - neurons \"die\" during training, i.e., they stop outputting anything other than 0\n",
    "  - May find half neurons dead, esp if used large LR\n",
    "  - A neuron dies when its weights get tweaked such that its input to ReLU is negative for all instances in training set\n",
    "  - Gradient Descent doesn't affect the neuron anymore, cuz grad of ReLU is 0 when input is -ve\n",
    "- Solution: <b>Leaky ReLU</b>\n",
    "\n",
    "#### Leaky ReLU\n",
    "- `LeakyRelu`<sub>`alpha`</sub>`(z) = max(alpha * z, z)`\n",
    "  - alpha is hyperparam\n",
    "    - how much the function \"leaks\"\n",
    "    - it's the slope when z < 0\n",
    "- Having a slop for z < 0 ensures they never die\n",
    "  - can go into a long coma, but they have a chance to eventually wake up\n",
    "- 2015 paper showed Leaky variants always outperformed strict ReLUs\n",
    "  - setting `alpha=0.2` (huge leak) gave better perf than `alpha=0.01` (small leak)\n",
    "\n",
    "#### Randomized Leaky ReLU\n",
    "- RReLU\n",
    "- alpha is picked randomly in a given range\n",
    "- it's fixed to an average value during testing\n",
    "- RReLU performed well and acted as a regularizer\n",
    "\n",
    "#### Parametric Leaky ReLU\n",
    "- PReLU\n",
    "- alpha is learned during training\n",
    "- Strongly outperforms ReLU on large image datasets\n",
    "- On smaller datasets, it risks overfitting"
   ]
  },
  {
   "cell_type": "code",
   "execution_count": 44,
   "metadata": {},
   "outputs": [
    {
     "data": {
      "image/png": "[encoded data removed]",
      "text/plain": [
       "<Figure size 640x480 with 1 Axes>"
      ]
     },
     "metadata": {},
     "output_type": "display_data"
    }
   ],
   "source": [
    "import numpy as np\n",
    "import matplotlib.pyplot as plt\n",
    "\n",
    "z = np.arange(-2.5, 2.5 +1, 0.001)\n",
    "\n",
    "relu_z = np.max(np.c_[z, np.zeros_like(z)], axis=1)\n",
    "\n",
    "alpha = 0.2\n",
    "leaky_relu_z = np.max(np.c_[z, alpha * z], axis=1)\n",
    "\n",
    "\n",
    "plt.plot(z, relu_z, label='ReLU')\n",
    "plt.plot(z, leaky_relu_z, label='Leaky ReLU')\n",
    "plt.legend()\n",
    "plt.show()"
   ]
  },
  {
   "cell_type": "code",
   "execution_count": 22,
   "metadata": {},
   "outputs": [
    {
     "name": "stderr",
     "output_type": "stream",
     "text": [
      "c:\\dev\\miniconda\\envs\\homl-learn\\Lib\\site-packages\\keras\\src\\layers\\activations\\leaky_relu.py:41: UserWarning: Argument `alpha` is deprecated. Use `negative_slope` instead.\n",
      "  warnings.warn(\n"
     ]
    }
   ],
   "source": [
    "leaky_relu = tf.keras.layers.LeakyReLU(alpha=0.2)  # default is 0.3\n",
    "p_l_relu = tf.keras.layers.PReLU()\n",
    "\n",
    "dense = tf.keras.layers.Dense(50, activation=leaky_relu, kernel_initializer='he_normal')\n",
    "\n",
    "# can also use it as a separate layer\n",
    "# no difference for training and predictions\n",
    "m = tf.keras.models.Sequential([\n",
    "    tf.keras.layers.Dense(50, kernel_initializer='he_normal'),\n",
    "    tf.keras.layers.LeakyReLU(alpha=0.2)\n",
    "    ])"
   ]
  },
  {
   "cell_type": "markdown",
   "metadata": {},
   "source": [
    "No implementation of Randomized leaky ReLU"
   ]
  },
  {
   "cell_type": "markdown",
   "metadata": {},
   "source": [
    "### Issue with ReLU, LeakyReLU, PReLU\n",
    "- Not smooth functions\n",
    "  - Derivative abruptly changes at 0\n",
    "- Discontinuity can make Gradient Descent bounce around optimum and slow down convergence\n",
    "  - saw this in ch 4, when discussing lasso"
   ]
  },
  {
   "cell_type": "markdown",
   "metadata": {},
   "source": [
    "#### ELU\n",
    "- <b>Exponential Linear Unit</b>\n",
    "- Outperformed all ReLU variants\n",
    "  - reduced training time\n",
    "  - better performance on test set\n",
    "- `ELU`<sub>`alpha`</sub>`(z) = alpha * (e`<sup>`z`</sup>`-1)` if z < 0 else `z`\n",
    "\n",
    "##### Differences from ReLU\n",
    "- Takes -ve values when z < 0\n",
    "  - allows unit to have average output close to 0\n",
    "  - alleviates vanishing grads\n",
    "  - alpha defines opposite of value that ELU approaches when z is a large -ve number\n",
    "    - usually set to 1, but can tweak it like a hyperparam\n",
    "  - nonzero grad for z < 0\n",
    "    - avoids dead neurons problem\n",
    "  - if alpha=1, function is smooth everywhere (incl around 0)\n",
    "    - speeds up gradient descent cuz it doesn't bounce as much to left and right of z = 0\n",
    "  \n",
    "  ##### Main Drawback\n",
    "  - Slower to compute due to use of exponential function\n",
    "  - Faster convergence rate may compensate for this\n",
    "  - But still, ELU network will be slower at test time"
   ]
  },
  {
   "cell_type": "code",
   "execution_count": 46,
   "metadata": {},
   "outputs": [
    {
     "data": {
      "image/png": "[encoded data removed]",
      "text/plain": [
       "<Figure size 640x480 with 1 Axes>"
      ]
     },
     "metadata": {},
     "output_type": "display_data"
    }
   ],
   "source": [
    "z = np.arange(-5, 5 +1, 0.001)\n",
    "\n",
    "alpha = 1\n",
    "elu_z = z.copy()\n",
    "elu_z[elu_z < 0] = alpha * np.exp(z[z < 0]) - 1\n",
    "\n",
    "plt.plot(z, elu_z)\n",
    "plt.show()"
   ]
  },
  {
   "cell_type": "code",
   "execution_count": null,
   "metadata": {},
   "outputs": [],
   "source": [
    "dense = tf.keras.layers.Dense(50, activation='elu',\n",
    "                              kernel_initializer='he_normal')"
   ]
  },
  {
   "cell_type": "markdown",
   "metadata": {},
   "source": [
    "#### SELU\n",
    "- <b>Scaled ELU</b>\n",
    "- 2017 paper, authors showed if you use NN composed exclusively of a stack of dense layers (i.e. MLP) and if all HLs use SELU, then network will <b>self-normalize</b>\n",
    "  - output of each layer tends to preserve mean 0, std 1\n",
    "  - solves vanishing/exploding grads problem\n",
    "- Outperforms other activation functions for MLPs, esp deep NNs\n",
    "\n",
    "##### Conditions for Self-Normalization\n",
    "- Input features must be standardized\n",
    "- every HL's weight must be use LeCun normal init\n",
    "  - `kernel_initalizer='lecun_normal'`\n",
    "- Only guaranteed with plain MLPs\n",
    "  - if use other archs like RNNs or skip connections, it probably won't outperform ELU\n",
    "- Can't use regularization techniques like l1, l2, max-norm, batch-norm, regular dropout\n",
    "\n",
    "Due to these significant constraints, SELU didn't gain traction\n",
    "<br>Also, GELU, Swish and Mish outperform SELU consistently (next section)"
   ]
  },
  {
   "cell_type": "code",
   "execution_count": 54,
   "metadata": {},
   "outputs": [
    {
     "data": {
      "image/png": "[encoded data removed]",
      "text/plain": [
       "<Figure size 640x480 with 1 Axes>"
      ]
     },
     "metadata": {},
     "output_type": "display_data"
    }
   ],
   "source": [
    "z = np.arange(-5, 5 +1, 0.0001)\n",
    "\n",
    "alpha = 1.67\n",
    "elu_z = z.copy()\n",
    "elu_z[z < 0] = alpha * (np.exp(z[z < 0]) - 1)\n",
    "# with alpha=1.67, scaling is about 1.05\n",
    "selu_z = 1.05 * elu_z\n",
    "\n",
    "plt.plot(z, elu_z, label='ELU')\n",
    "plt.plot(z, selu_z, label='SELU')\n",
    "plt.legend()\n",
    "plt.show()"
   ]
  },
  {
   "cell_type": "markdown",
   "metadata": {},
   "source": [
    "### GELU, Swish and Mish\n",
    "- These outpeform SELU\n",
    "\n",
    "#### GELU\n",
    "- `GELU(z) = z * phi(z)`\n",
    "- `phi(z)` is standard Gaussian cumulative dst func (CDF)\n",
    "  - proba that a value, sampled randomly from normal dst w/ mean 0 & variance 1, is lower than z\n",
    "- Similar to ReLU\n",
    "  - approaches 0 when z is very -ve\n",
    "  - approaches z when z is very +ve\n",
    "- Funcs so far are convex and monotonic\n",
    "  - GELU is neither\n",
    "  - goes straight, then down, reaches a low point, then bounces up, ends up going straight toward top right\n",
    "  - Complex shape + curvature at every point\n",
    "    - may explain why it works so well esp for complex tasks\n",
    "      - easier to fit complex patterns\n",
    "- Outperforms all other funcs so far\n",
    "- Computationally intensive, perf boost doesn't always justify the extra cost\n",
    "\n",
    "- Can use approximation: `z * sigmoid(1.702 * z)`\n",
    "  - Much faster to compute"
   ]
  },
  {
   "cell_type": "code",
   "execution_count": 68,
   "metadata": {},
   "outputs": [
    {
     "data": {
      "image/png": "[encoded data removed]",
      "text/plain": [
       "<Figure size 640x480 with 1 Axes>"
      ]
     },
     "metadata": {},
     "output_type": "display_data"
    }
   ],
   "source": [
    "from statistics import NormalDist\n",
    "\n",
    "def phi(z):\n",
    "    return NormalDist().cdf(z)\n",
    "\n",
    "phi_vec = np.vectorize(phi)\n",
    "\n",
    "gelu_z = z * phi_vec(z)\n",
    "gelu_z_approx = z * (1. / (1. + np.exp(-1.702 * z)))\n",
    "\n",
    "plt.plot(z, gelu_z, label='GELU')\n",
    "plt.plot(z, gelu_z_approx, label='Approximation')\n",
    "plt.legend()\n",
    "plt.grid()\n",
    "plt.xlim(-4, 2)\n",
    "plt.ylim(-1, 2)\n",
    "plt.show()"
   ]
  },
  {
   "cell_type": "markdown",
   "metadata": {},
   "source": [
    "#### Sigmoid Linear Unit (SiLU) or Swish\n",
    "- Introduced in GELU paper\n",
    "- `z * sigmoid(z)`\n",
    "- GELU outperformed this\n",
    "- 2017 paper rediscovered SiLU by automatically searching for good funcs\n",
    "  - authors named it <b>Swish</b>\n",
    "  - In this paper, Swish outperformed every other func, incl GELU\n",
    "- Later, they generalized Swish by adding hyperparam beta to scale sigmoid's input\n",
    "  - `Swish`<sub>`beta`</sub>`(z) = z * sigmoid(beta * z)`\n",
    "  - GELU is approximated with `beta=1.702`\n",
    "  - Can tune betas hyperparam, or let it be a param for GD\n",
    "    - more powerful model but risk overfitting"
   ]
  },
  {
   "cell_type": "code",
   "execution_count": 72,
   "metadata": {},
   "outputs": [
    {
     "data": {
      "image/png": "[encoded data removed]",
      "text/plain": [
       "<Figure size 640x480 with 1 Axes>"
      ]
     },
     "metadata": {},
     "output_type": "display_data"
    }
   ],
   "source": [
    "silu_or_swish = z * (1. / (1. + np.exp(-z)))\n",
    "beta = 0.6\n",
    "parametrized_swish = z * (1. / (1. + np.exp(beta * -z)))\n",
    "# same approx as above\n",
    "beta = 1.702\n",
    "gelu_approx_with_swish = z * (1. / (1. + np.exp(beta * -z)))\n",
    "\n",
    "plt.plot(z, silu_or_swish, label='SiLU/Swish')\n",
    "plt.plot(z, parametrized_swish, label='Parametrized Swish')\n",
    "plt.plot(z, gelu_approx_with_swish, label='GELU Approximation')\n",
    "plt.xlim(-4, 2)\n",
    "plt.ylim(-1, 2)\n",
    "plt.grid()\n",
    "plt.legend()\n",
    "plt.show()"
   ]
  },
  {
   "cell_type": "markdown",
   "metadata": {},
   "source": [
    "#### Mish\n",
    "- `mish(z) = z * tanh(softplus(z))`\n",
    "  - `softplus(z) = log(1 + e`<sup>`z`</sup>`)`\n",
    "- Like GELU and Swish, it's smooth, non-convex and non-monotonic variant of ReLU\n",
    "- Outperformed other funcs\n",
    "  - even Swish and GELU by a tiny margin\n",
    "- Overlaps with Swish when z < 0, overlaps with GELU when z > 0"
   ]
  },
  {
   "cell_type": "code",
   "execution_count": 74,
   "metadata": {},
   "outputs": [
    {
     "data": {
      "image/png": "[encoded data removed]",
      "text/plain": [
       "<Figure size 640x480 with 1 Axes>"
      ]
     },
     "metadata": {},
     "output_type": "display_data"
    }
   ],
   "source": [
    "mish_z = z * np.tanh(np.log(1 + np.exp(z)))\n",
    "\n",
    "plt.plot(z, mish_z, label='Mish')\n",
    "plt.plot(z, silu_or_swish, label='Parametrized Swish')\n",
    "plt.plot(z, gelu_z, label='GELU')\n",
    "plt.xlim(-4, 2)\n",
    "plt.ylim(-1, 2)\n",
    "plt.legend()\n",
    "plt.grid()\n",
    "plt.show()"
   ]
  },
  {
   "cell_type": "markdown",
   "metadata": {},
   "source": [
    "#### Which to Use?\n",
    "- ReLU good default for simple tasks\n",
    "  - works as well as others + fast to compute\n",
    "  - libs & h/w accelerators provide  ReLU-specific optimizations\n",
    "- Swish is better default for more complex tasks\n",
    "  - can try parametrized Swish w/ learnable beta for most complex tasks\n",
    "  - Mish can give better results, but requires more compute\n",
    "  - If care about runtime latency, then leaky ReLU or PRReLU\n",
    "- Try SELU for deep MLPs\n",
    "  - make sure to respect the constraints\n",
    "- If have spare time + compute, can use cross-val for other funcs"
   ]
  },
  {
   "cell_type": "markdown",
   "metadata": {},
   "source": [
    "Keras doesn't support Mish or generalized Swish yet\n",
    "<br>Can implement own func (ch 12)"
   ]
  },
  {
   "cell_type": "code",
   "execution_count": 75,
   "metadata": {},
   "outputs": [],
   "source": [
    "dense_gelu = tf.keras.layers.Dense(50, activation='gelu')\n",
    "dense_swish = tf.keras.layers.Dense(50, activation='swish')"
   ]
  },
  {
   "cell_type": "markdown",
   "metadata": {},
   "source": [
    "### Batch Norm\n",
    "- Using He init w/ ReLU significantly reduces danger but doesn't guarantee that unstable grads are gone\n",
    "- Add operation before or after activation func of each HL\n",
    "  - zero-centers & normalizes the input, then scales & shifts it\n",
    "  - 2 new param vectors per layer: 1 for shifting and 1 for scaling\n",
    "- learns optimal scale and mean of each layer's inputs\n",
    "- If add it before 1st layer, then don't need to standardize training set\n",
    "  - approximately, cuz BN layer looks at 1 batch at a time + also rescales & shifts each input feature\n",
    "\n",
    "#### Working\n",
    "Calc params:\n",
    "- `mu`<sub>`B`</sub>` = 1/m`<sub>`B`</sub>` * sum`<sub>`i=1 to m`<sub>`B`</sub></sub>`(x`<sup>`(i)`</sup>`)`\n",
    "  - m<sub>B</sub> is number of instances in mini-batch\n",
    "  - 1 mean per input\n",
    "- `sigma`<sub>`B`</sub><sup>`2`</sup>` = 1/m`<sub>`B`</sub>` * sum`<sub>`i=1 to m`<sub>`B`</sub></sub>`(x`<sup>`(i)`</sup>` - mu`<sub>`B`</sub>`)`<sup>`2`</sup>\n",
    "  - 1 std per input\n",
    "\n",
    "Standardize:\n",
    "- `xhat`<sup>`(i)`</sup>` = (x`<sup>`(i)`</sup>` - mu`<sub>`B`</sub>`) / sqrt(sigma`<sub>`B`</sub><sup>`2`</sup>` + eps)`\n",
    "  - eps is <b>smoothing term</b>\n",
    "    - ensures grads don't grow too large\n",
    "    - typically 10e-5\n",
    "\n",
    "Shift + rescale:\n",
    "- `z`<sup>`(i)`</sup>` = gamma * xhat`<sup>`(i)`</sup>` + beta`\n",
    "  - gamma = 1 scale param per input\n",
    "  - beta = 1 offset param per input\n",
    "\n",
    "#### At Test Time\n",
    "- May predict 1 instance, instead of a batch\n",
    "  - can't compute mean and std\n",
    "- Even if we have batch, it may be too small or instances may not be I.I.D\n",
    "  - computing stats would be unreliable\n",
    "- Solution: Wait until end of training, run training set through NN, compute mean & std of each input of BN layer\n",
    "  - most implementations of BN estimate these final stats using moving average during training\n",
    "\n",
    "So 4 params are learned: gamma (scale vec), beta (offset vec), mu (final input mean vec), sigma (final input std vec)\n",
    "\n",
    "#### Benefits\n",
    "- Much better perf on ImageNet\n",
    "- Could use saturating funcs\n",
    "- NN was much less sensitive to weight init\n",
    "- Could use much larger LRs\n",
    "- BN acts like a regularizer\n",
    "\n",
    "#### Drawbacks\n",
    "- Adds complexity to model\n",
    "  - altho, it can remove the need for normalizing the input\n",
    "- Runtime penalty due to extra computations at each layer\n",
    "  - can avoid this by <b>fusing BN layer</b> w/ prev layer\n",
    "    - Done by updating prev layer's w and b so it directly produces outputs of appropriate scale and offset\n",
    "    - e.g. if prev layer computes `XW + b`, BN computes `gamma * (XW + b - mu) / sigma + beta`\n",
    "      - let W\\` = gamma * W / sigma, b\\` = gamma * (b - mu) / sigma + beta\n",
    "      - then it simplifies to XW\\` + b\\`\n",
    "    - TFLite's convertor does this automatically (ch 19)\n",
    "- Training is slow cuz each epoch takes more time\n",
    "  - Convergence is much faster, so this is counterbalanced\n",
    "  - All in all, wall time (time measured by wall clock) is shorter"
   ]
  },
  {
   "cell_type": "markdown",
   "metadata": {},
   "source": [
    "Can add `BatchNormalization` as first layer, but `Normalization` performs as well (only drawback is we need to call `adapt()`)"
   ]
  },
  {
   "cell_type": "code",
   "execution_count": 76,
   "metadata": {},
   "outputs": [
    {
     "name": "stderr",
     "output_type": "stream",
     "text": [
      "c:\\dev\\miniconda\\envs\\homl-learn\\Lib\\site-packages\\keras\\src\\layers\\reshaping\\flatten.py:37: UserWarning: Do not pass an `input_shape`/`input_dim` argument to a layer. When using Sequential models, prefer using an `Input(shape)` object as the first layer in the model instead.\n",
      "  super().__init__(**kwargs)\n"
     ]
    }
   ],
   "source": [
    "model = tf.keras.Sequential([\n",
    "    tf.keras.layers.Flatten(input_shape=[28, 28]),\n",
    "    tf.keras.layers.BatchNormalization(),\n",
    "    tf.keras.layers.Dense(300, activation='relu', kernel_initializer='he_normal'),\n",
    "    tf.keras.layers.BatchNormalization(),\n",
    "    tf.keras.layers.Dense(100, activation='relu', kernel_initializer='he_normal'),\n",
    "    tf.keras.layers.BatchNormalization(),\n",
    "    tf.keras.layers.Dense(10, activation='softmax')\n",
    "])"
   ]
  },
  {
   "cell_type": "markdown",
   "metadata": {},
   "source": [
    "Each BN adds 4 params per input\n",
    "  - so, 784 input from Flatten -> 4 x 784 = 3,136 params\n",
    "mu and sigma are not affected by backprop, so they're \"non-trainable\"\n",
    "  - Total non-trainable = total BN params / 2\n",
    "    - 3136+1200+400 -> 4736/2 = 2368"
   ]
  },
  {
   "cell_type": "code",
   "execution_count": 77,
   "metadata": {},
   "outputs": [
    {
     "data": {
      "text/html": [
       "<pre style=\"white-space:pre;overflow-x:auto;line-height:normal;font-family:Menlo,'DejaVu Sans Mono',consolas,'Courier New',monospace\"><span style=\"font-weight: bold\">Model: \"sequential_1\"</span>\n",
       "</pre>\n"
      ],
      "text/plain": [
       "\u001b[1mModel: \"sequential_1\"\u001b[0m\n"
      ]
     },
     "metadata": {},
     "output_type": "display_data"
    },
    {
     "data": {
      "text/html": [
       "<pre style=\"white-space:pre;overflow-x:auto;line-height:normal;font-family:Menlo,'DejaVu Sans Mono',consolas,'Courier New',monospace\">┏━━━━━━━━━━━━━━━━━━━━━━━━━━━━━━━━━┳━━━━━━━━━━━━━━━━━━━━━━━━┳━━━━━━━━━━━━━━━┓\n",
       "┃<span style=\"font-weight: bold\"> Layer (type)                    </span>┃<span style=\"font-weight: bold\"> Output Shape           </span>┃<span style=\"font-weight: bold\">       Param # </span>┃\n",
       "┡━━━━━━━━━━━━━━━━━━━━━━━━━━━━━━━━━╇━━━━━━━━━━━━━━━━━━━━━━━━╇━━━━━━━━━━━━━━━┩\n",
       "│ flatten (<span style=\"color: #0087ff; text-decoration-color: #0087ff\">Flatten</span>)               │ (<span style=\"color: #00d7ff; text-decoration-color: #00d7ff\">None</span>, <span style=\"color: #00af00; text-decoration-color: #00af00\">784</span>)            │             <span style=\"color: #00af00; text-decoration-color: #00af00\">0</span> │\n",
       "├─────────────────────────────────┼────────────────────────┼───────────────┤\n",
       "│ batch_normalization             │ (<span style=\"color: #00d7ff; text-decoration-color: #00d7ff\">None</span>, <span style=\"color: #00af00; text-decoration-color: #00af00\">784</span>)            │         <span style=\"color: #00af00; text-decoration-color: #00af00\">3,136</span> │\n",
       "│ (<span style=\"color: #0087ff; text-decoration-color: #0087ff\">BatchNormalization</span>)            │                        │               │\n",
       "├─────────────────────────────────┼────────────────────────┼───────────────┤\n",
       "│ dense_7 (<span style=\"color: #0087ff; text-decoration-color: #0087ff\">Dense</span>)                 │ (<span style=\"color: #00d7ff; text-decoration-color: #00d7ff\">None</span>, <span style=\"color: #00af00; text-decoration-color: #00af00\">300</span>)            │       <span style=\"color: #00af00; text-decoration-color: #00af00\">235,500</span> │\n",
       "├─────────────────────────────────┼────────────────────────┼───────────────┤\n",
       "│ batch_normalization_1           │ (<span style=\"color: #00d7ff; text-decoration-color: #00d7ff\">None</span>, <span style=\"color: #00af00; text-decoration-color: #00af00\">300</span>)            │         <span style=\"color: #00af00; text-decoration-color: #00af00\">1,200</span> │\n",
       "│ (<span style=\"color: #0087ff; text-decoration-color: #0087ff\">BatchNormalization</span>)            │                        │               │\n",
       "├─────────────────────────────────┼────────────────────────┼───────────────┤\n",
       "│ dense_8 (<span style=\"color: #0087ff; text-decoration-color: #0087ff\">Dense</span>)                 │ (<span style=\"color: #00d7ff; text-decoration-color: #00d7ff\">None</span>, <span style=\"color: #00af00; text-decoration-color: #00af00\">100</span>)            │        <span style=\"color: #00af00; text-decoration-color: #00af00\">30,100</span> │\n",
       "├─────────────────────────────────┼────────────────────────┼───────────────┤\n",
       "│ batch_normalization_2           │ (<span style=\"color: #00d7ff; text-decoration-color: #00d7ff\">None</span>, <span style=\"color: #00af00; text-decoration-color: #00af00\">100</span>)            │           <span style=\"color: #00af00; text-decoration-color: #00af00\">400</span> │\n",
       "│ (<span style=\"color: #0087ff; text-decoration-color: #0087ff\">BatchNormalization</span>)            │                        │               │\n",
       "├─────────────────────────────────┼────────────────────────┼───────────────┤\n",
       "│ dense_9 (<span style=\"color: #0087ff; text-decoration-color: #0087ff\">Dense</span>)                 │ (<span style=\"color: #00d7ff; text-decoration-color: #00d7ff\">None</span>, <span style=\"color: #00af00; text-decoration-color: #00af00\">10</span>)             │         <span style=\"color: #00af00; text-decoration-color: #00af00\">1,010</span> │\n",
       "└─────────────────────────────────┴────────────────────────┴───────────────┘\n",
       "</pre>\n"
      ],
      "text/plain": [
       "┏━━━━━━━━━━━━━━━━━━━━━━━━━━━━━━━━━┳━━━━━━━━━━━━━━━━━━━━━━━━┳━━━━━━━━━━━━━━━┓\n",
       "┃\u001b[1m \u001b[0m\u001b[1mLayer (type)                   \u001b[0m\u001b[1m \u001b[0m┃\u001b[1m \u001b[0m\u001b[1mOutput Shape          \u001b[0m\u001b[1m \u001b[0m┃\u001b[1m \u001b[0m\u001b[1m      Param #\u001b[0m\u001b[1m \u001b[0m┃\n",
       "┡━━━━━━━━━━━━━━━━━━━━━━━━━━━━━━━━━╇━━━━━━━━━━━━━━━━━━━━━━━━╇━━━━━━━━━━━━━━━┩\n",
       "│ flatten (\u001b[38;5;33mFlatten\u001b[0m)               │ (\u001b[38;5;45mNone\u001b[0m, \u001b[38;5;34m784\u001b[0m)            │             \u001b[38;5;34m0\u001b[0m │\n",
       "├─────────────────────────────────┼────────────────────────┼───────────────┤\n",
       "│ batch_normalization             │ (\u001b[38;5;45mNone\u001b[0m, \u001b[38;5;34m784\u001b[0m)            │         \u001b[38;5;34m3,136\u001b[0m │\n",
       "│ (\u001b[38;5;33mBatchNormalization\u001b[0m)            │                        │               │\n",
       "├─────────────────────────────────┼────────────────────────┼───────────────┤\n",
       "│ dense_7 (\u001b[38;5;33mDense\u001b[0m)                 │ (\u001b[38;5;45mNone\u001b[0m, \u001b[38;5;34m300\u001b[0m)            │       \u001b[38;5;34m235,500\u001b[0m │\n",
       "├─────────────────────────────────┼────────────────────────┼───────────────┤\n",
       "│ batch_normalization_1           │ (\u001b[38;5;45mNone\u001b[0m, \u001b[38;5;34m300\u001b[0m)            │         \u001b[38;5;34m1,200\u001b[0m │\n",
       "│ (\u001b[38;5;33mBatchNormalization\u001b[0m)            │                        │               │\n",
       "├─────────────────────────────────┼────────────────────────┼───────────────┤\n",
       "│ dense_8 (\u001b[38;5;33mDense\u001b[0m)                 │ (\u001b[38;5;45mNone\u001b[0m, \u001b[38;5;34m100\u001b[0m)            │        \u001b[38;5;34m30,100\u001b[0m │\n",
       "├─────────────────────────────────┼────────────────────────┼───────────────┤\n",
       "│ batch_normalization_2           │ (\u001b[38;5;45mNone\u001b[0m, \u001b[38;5;34m100\u001b[0m)            │           \u001b[38;5;34m400\u001b[0m │\n",
       "│ (\u001b[38;5;33mBatchNormalization\u001b[0m)            │                        │               │\n",
       "├─────────────────────────────────┼────────────────────────┼───────────────┤\n",
       "│ dense_9 (\u001b[38;5;33mDense\u001b[0m)                 │ (\u001b[38;5;45mNone\u001b[0m, \u001b[38;5;34m10\u001b[0m)             │         \u001b[38;5;34m1,010\u001b[0m │\n",
       "└─────────────────────────────────┴────────────────────────┴───────────────┘\n"
      ]
     },
     "metadata": {},
     "output_type": "display_data"
    },
    {
     "data": {
      "text/html": [
       "<pre style=\"white-space:pre;overflow-x:auto;line-height:normal;font-family:Menlo,'DejaVu Sans Mono',consolas,'Courier New',monospace\"><span style=\"font-weight: bold\"> Total params: </span><span style=\"color: #00af00; text-decoration-color: #00af00\">271,346</span> (1.04 MB)\n",
       "</pre>\n"
      ],
      "text/plain": [
       "\u001b[1m Total params: \u001b[0m\u001b[38;5;34m271,346\u001b[0m (1.04 MB)\n"
      ]
     },
     "metadata": {},
     "output_type": "display_data"
    },
    {
     "data": {
      "text/html": [
       "<pre style=\"white-space:pre;overflow-x:auto;line-height:normal;font-family:Menlo,'DejaVu Sans Mono',consolas,'Courier New',monospace\"><span style=\"font-weight: bold\"> Trainable params: </span><span style=\"color: #00af00; text-decoration-color: #00af00\">268,978</span> (1.03 MB)\n",
       "</pre>\n"
      ],
      "text/plain": [
       "\u001b[1m Trainable params: \u001b[0m\u001b[38;5;34m268,978\u001b[0m (1.03 MB)\n"
      ]
     },
     "metadata": {},
     "output_type": "display_data"
    },
    {
     "data": {
      "text/html": [
       "<pre style=\"white-space:pre;overflow-x:auto;line-height:normal;font-family:Menlo,'DejaVu Sans Mono',consolas,'Courier New',monospace\"><span style=\"font-weight: bold\"> Non-trainable params: </span><span style=\"color: #00af00; text-decoration-color: #00af00\">2,368</span> (9.25 KB)\n",
       "</pre>\n"
      ],
      "text/plain": [
       "\u001b[1m Non-trainable params: \u001b[0m\u001b[38;5;34m2,368\u001b[0m (9.25 KB)\n"
      ]
     },
     "metadata": {},
     "output_type": "display_data"
    }
   ],
   "source": [
    "model.summary()"
   ]
  },
  {
   "cell_type": "code",
   "execution_count": 80,
   "metadata": {},
   "outputs": [
    {
     "data": {
      "text/plain": [
       "[('gamma', True),\n",
       " ('beta', True),\n",
       " ('moving_mean', False),\n",
       " ('moving_variance', False)]"
      ]
     },
     "execution_count": 80,
     "metadata": {},
     "output_type": "execute_result"
    }
   ],
   "source": [
    "[(var.name, var.trainable) for var in model.layers[1].variables]"
   ]
  },
  {
   "cell_type": "markdown",
   "metadata": {},
   "source": [
    "There's debate about whether to add BN before or after activation functions\n",
    "  - experiment with it\n",
    "\n",
    "To add BN before activation funcs:\n",
    " - remove activation funcs from HL\n",
    " - add funcs as separate layers after BN layers\n",
    "\n",
    "BN includes 1 offset param per-input, so we can set `use_bias=False`\n",
    "\n",
    "Drop the first BN layer to avoid sandwiching 1st HL b/w 2 BN layers"
   ]
  },
  {
   "cell_type": "code",
   "execution_count": 81,
   "metadata": {},
   "outputs": [
    {
     "name": "stderr",
     "output_type": "stream",
     "text": [
      "c:\\dev\\miniconda\\envs\\homl-learn\\Lib\\site-packages\\keras\\src\\layers\\reshaping\\flatten.py:37: UserWarning: Do not pass an `input_shape`/`input_dim` argument to a layer. When using Sequential models, prefer using an `Input(shape)` object as the first layer in the model instead.\n",
      "  super().__init__(**kwargs)\n"
     ]
    }
   ],
   "source": [
    "model = tf.keras.Sequential([\n",
    "    tf.keras.layers.Flatten(input_shape=[28, 28]),\n",
    "    tf.keras.layers.Dense(300, kernel_initializer='he_normal', use_bias=False),\n",
    "    tf.keras.layers.BatchNormalization(),\n",
    "    tf.keras.layers.Activation('relu'),\n",
    "    tf.keras.layers.Dense(100, kernel_initializer='he_normal', use_bias=False),\n",
    "    tf.keras.layers.BatchNormalization(),\n",
    "    tf.keras.layers.Activation('relu'),\n",
    "    tf.keras.layers.Dense(10, activation='softmax')\n",
    "])"
   ]
  },
  {
   "cell_type": "markdown",
   "metadata": {},
   "source": [
    "#### Hyperparams in BatchNorm\n",
    "- Used by exponential moving averages\n",
    "- `vhat = vhat * momentum + v * (1 - momentum)`\n",
    "  - v is new value (vec of input means or std)\n",
    "  - vhat is running avg\n",
    "- good `momentum` is close to 1\n",
    "  - 0.9, 0.99, 0.999\n",
    "  - more 9s for larger datasets and for smaller mini-batches\n",
    "- `axis`, defaults to -1\n",
    "  - normalizes the last axis, using means & stds computed across <i>other</I> axes\n",
    "    - shape = [batch, features], each input feature is normalized + computes across all instances in batch\n",
    "    - e.g. above code independently normalizes 784 input features\n",
    "      - if BN before flatten ([batch, height, width]), computes 28 means/std across all instances in batch and across all rows in column\n",
    "        - all px in a col use same stats\n",
    "        - to treat each 784 px independently, set `axis=[1, 2]`"
   ]
  },
  {
   "cell_type": "markdown",
   "metadata": {},
   "source": [
    "### Gradient Clipping\n",
    "- For exploding grads\n",
    "- Greatly used in RNNs, where BN is tricky\n",
    "- Set `clipvalue` or `clipnorm`\n",
    "  - hyperparam\n",
    "  - may change orientation of grad vec\n",
    "    - e.g. [0.9, 100.0] -> [0.9, 1.0]\n",
    "- clip by norm to ensure it doesn't change vector's direction\n",
    "  - e.g. [0.9, 100.0] -> [0.00899, 0.999]\n",
    "    - almost eliminated first compo\n",
    "- Can track size of grads in TensorBoard\n",
    "  - can check that to see if want to try clipping\n",
    "  - see which (by value or by norm) works best on val set"
   ]
  },
  {
   "cell_type": "code",
   "execution_count": 82,
   "metadata": {},
   "outputs": [],
   "source": [
    "optimizer = tf.keras.optimizers.SGD(clipvalue=1.0)\n",
    "optimizer = tf.keras.optimizers.SGD(clipnorm=1.0)"
   ]
  },
  {
   "cell_type": "markdown",
   "metadata": {},
   "source": [
    "# Reusing Pretrained Layers\n"
   ]
  },
  {
   "cell_type": "markdown",
   "metadata": {},
   "source": [
    "- Remember to add a preprocessing step if, e.g., the size of your input images isn't the same as the ones used in the original task.\n",
    "- Output layer is usually replaced\n",
    "  - Likely not useful for the new task\n",
    "  - May not have right number of outputs\n",
    "- Upper layers are less useful than lower layers\n",
    "  - Low level features are common to the tasks\n",
    "  - High level features may differ for both tasks\n",
    "- The more similar tasks, the more layers you can use\n",
    "- The more data you have, the more layers you can unfreeze and train\n",
    "- Reduce LR to avoid wrecking fine-tuned weights of the unfrozen reused layers\n",
    "- For the top layers:\n",
    "  - Drop them if you have little data\n",
    "  - Replace them if you have plenty of data\n",
    "- Iteratively unfreeze top layers and check performance to find right number of layers to unfreeze"
   ]
  },
  {
   "cell_type": "markdown",
   "metadata": {},
   "source": [
    "This trains both models:"
   ]
  },
  {
   "cell_type": "code",
   "execution_count": 3,
   "metadata": {},
   "outputs": [],
   "source": [
    "import tensorflow as tf\n",
    "# assume you have model_A saved\n",
    "# model_A = tf.keras.models.load_model(\"my_model_A\")\n",
    "# to run the cells, need model_A\n",
    "model_A = tf.keras.models.Sequential([\n",
    "    tf.keras.layers.Dense(10, activation='relu'),\n",
    "    tf.keras.layers.Dense(3, activation='sigmoid'),\n",
    "])\n",
    "model_B_on_A = tf.keras.models.Sequential(model_A.layers[:-1])\n",
    "model_B_on_A.add(tf.keras.layers.Dense(1, activation='sigmoid'))"
   ]
  },
  {
   "cell_type": "markdown",
   "metadata": {},
   "source": [
    "This freezes model_A:"
   ]
  },
  {
   "cell_type": "code",
   "execution_count": 5,
   "metadata": {},
   "outputs": [],
   "source": [
    "model_A_clone = tf.keras.models.clone_model(model_A)\n",
    "# clone_model() only clones the arch, not weights\n",
    "model_A_clone.set_weights(model_A.get_weights())\n",
    "model_B_on_A = tf.keras.models.Sequential(model_A_clone.layers[:-1])\n",
    "model_B_on_A.add(tf.keras.layers.Dense(1, activation='sigmoid'))"
   ]
  },
  {
   "cell_type": "markdown",
   "metadata": {},
   "source": [
    "New layer is initialized randomly, so it may wreck the reused weights.\n",
    "<br>1 approach to avoid this is to freeze the reused layers for first few epochs to give the new layer some time to learn reasonable weights."
   ]
  },
  {
   "cell_type": "code",
   "execution_count": 6,
   "metadata": {},
   "outputs": [],
   "source": [
    "for layer in model_B_on_A.layers[:-1]:\n",
    "    layer.trainable = False\n",
    "\n",
    "opt = tf.keras.optimizers.SGD(learning_rate=0.001)\n",
    "model_B_on_A.compile(loss='binary_crossentropy', optimizer=opt,\n",
    "                     metrics=['accuracy'])"
   ]
  },
  {
   "cell_type": "markdown",
   "metadata": {},
   "source": [
    "After training for few epochs, unfreeze the reused layers"
   ]
  },
  {
   "cell_type": "code",
   "execution_count": 7,
   "metadata": {},
   "outputs": [],
   "source": [
    "for layer in model_B_on_A.layers[:-1]:\n",
    "    layer.trainable = True\n",
    "\n",
    "# must compile again\n",
    "opt = tf.keras.optimizers.SGD(learning_rate=0.001)\n",
    "model_B_on_A.compile(loss='binary_crossentropy', optimizer=opt,\n",
    "                     metrics=['accuracy'])"
   ]
  },
  {
   "cell_type": "markdown",
   "metadata": {},
   "source": [
    "TL doesn't work well with small dense networks:\n",
    "  - Small networks learn few patterns\n",
    "  - Dense networks learn very specific patterns\n",
    "    - unlikely to be useful in other tasks\n",
    "\n",
    "TL works best with Deep CNNs, cuz they learn feature detectors"
   ]
  },
  {
   "cell_type": "markdown",
   "metadata": {},
   "source": [
    "### Unsupervised Pretraining\n",
    "- Don't have enough labeled data & can't find a model trained on similar task\n",
    "- Can train an unsupervised model (<b>GAN</b>, <b>autoencoder</b>; ch 17) and reuse its lower layers (lower layers of discriminator for GANs), then perform supervised fine-tuning (on the labeled data that you have)\n",
    "\n",
    "This was the norm before vanishing grads problem was resolved.\n",
    "  - It was common to do this, typically with <b>Restricted Boltzmann Machines</b>\n",
    "  - Now it's more common to do this with autoencoders or GANs"
   ]
  },
  {
   "cell_type": "markdown",
   "metadata": {},
   "source": [
    "#### Greedy Layer-Wise Pretraining\n",
    "- Used when it was difficult to train deep models\n",
    "- They would:\n",
    "  - train unsupervised model with 1 layer (RBM, typically)\n",
    "  - Freeze that layer, add another one and train the model again\n",
    "  - Then freeze that layer, add another one, train the model and so on\n",
    "- Nowadays, we train the full unsupervised model (GANs or autoencoders) in 1 shot"
   ]
  },
  {
   "cell_type": "markdown",
   "metadata": {},
   "source": [
    "### Pretraining on Auxiliary Task\n",
    "- This is one last option when we don't have enough labeled data\n",
    "- Train NN on an auxiliary task for which we can obtain or generate labeled data\n",
    "- Reuse its lower layers for actual task\n",
    "  - As feature detectors for main NN\n",
    "\n",
    "#### Examples\n",
    "- For face recognition system, we may have few pictures of each individual so:\n",
    "  - train a first NN on pictures of random people on the web\n",
    "    - To detect if 2 different pictures are of same person\n",
    "  - Then reuse its layers\n",
    "    -  Would learn good feature detectors for faces\n",
    "- For NLP:\n",
    "  - Download a corpus of millions of text documents\n",
    "  - Automatically generate labeled data\n",
    "    - e.g. randomly mask words and train a model to predict the missing words\n",
    "    - If we attain good performance, then the model will know a lot about language"
   ]
  },
  {
   "cell_type": "markdown",
   "metadata": {},
   "source": [
    "### Self-Supervised Learning\n",
    "- When we automatically generate labels from the data itself\n",
    "  - E.g. text-masking\n",
    "- Then we train a model on the resulting labeled dataset using supervised learning"
   ]
  },
  {
   "cell_type": "markdown",
   "metadata": {},
   "source": [
    "# Faster Optimizers\n",
    "- So far: good init, good activation func, batch norm, reusing layers\n",
    "- Another boost is from advanced optimizers"
   ]
  },
  {
   "cell_type": "markdown",
   "metadata": {},
   "source": [
    "### Momentum\n",
    "#### Core Idea\n",
    "- idea:  A ball rolling down will start out slowly but quickly pick up momentum until terminal velocity (if there's friction or air resistance)\n",
    "- GD just takes small steps when slope is gentle & large steps when slope is steep, but never picks up speed, so it's much slower\n",
    "#### Equation\n",
    "- Gradient Descent: `theta = theta - eta * grad`<sub>`theta`</sub>`J(theta)`\n",
    "  - doesn't care about earlier grads\n",
    "  - only local gradient\n",
    "- Momentum:\n",
    "  - `m = beta * m - eta * grad`<sub>`theta`</sub>`J(theta)`\n",
    "  - `theta = theta + m`\n",
    "##### Explanation\n",
    "- subtract local grad from <b>momentum vector</b> `m`\n",
    "- update weights by adding momentum vector `m`\n",
    "- Grad is used as acceleration, not speed\n",
    "#### Why use `beta`\n",
    "- `beta` simulates friction mechanism\n",
    "  - prevents momentum from growing too large\n",
    "  - must be b/w 0 and 1\n",
    "  - typically, 0.9\n",
    "  - Optimizer may overshoot and oscillate a few times around the minimum\n",
    "    - so having friction is good as it gets rid of these oscillations and speeds up convergence\n",
    "#### Terminal Velocity\n",
    " - If grad is constant:\n",
    "  - terminal velocity (max size of weight updates) = `eta * grad * 1/(1 - beta)`\n",
    "    - if `beta = 0.9`, terminal velocity is `10 * grad * eta`\n",
    "    - so momentum goes 10 times faster than GD\n",
    "#### Escape from Plateaus and Local Optima\n",
    " - Momentum can escape from plateaus and roll past local optima\n",
    "   - if inputs have different scales (e.g. elongated bowl)\n",
    "     - GD goes down the steep slope fast but takes a very long time to do down the valley\n",
    "     - momentum rolls down faster and faster until it reaches bottom (the optimum)\n",
    " - In DNNs that don't use BN, upper layers have inputs with very different scales, so momentum helps\n",
    "\n",
    "#### Drawback\n",
    "- Only that it adds another hyperparameter to tune\n",
    "- `beta=0.9` works well"
   ]
  },
  {
   "cell_type": "code",
   "execution_count": null,
   "metadata": {},
   "outputs": [],
   "source": [
    "opt = tf.keras.optimizers.SGD(learning_rate=0.001, momentum=0.9)"
   ]
  },
  {
   "cell_type": "markdown",
   "metadata": {},
   "source": [
    "### Nesterov Accelerated Gradient\n",
    "- AKA Nesterov Momentum Optimization\n",
    "- Variant of momentum\n",
    "- Almost always faster than momentum\n",
    "#### Idea\n",
    "- Measures grad at at local position `theta`, but slightly ahead in direction of momentum at `theta + beta * m`\n",
    "- Works as momentum vector points towards the right direction (the optimum), in general\n",
    "  - so it's a bit more accurate to use the grad measured a bit farther\n",
    "#### Equation Modification\n",
    "- `m = beta * m + eta * grad`<sub>`theta`</sub>`J(theta + beta *  m)`\n",
    "#### Convergence\n",
    "- Faster convergence\n",
    "  - Momentum may continue to push weights farther across a valley\n",
    "  - NAG may push it back toward the bottom of the valley\n",
    "    - Cuz NAG considers another gradient\n",
    "- Reduces oscillations, converges faster"
   ]
  },
  {
   "cell_type": "code",
   "execution_count": 8,
   "metadata": {},
   "outputs": [],
   "source": [
    "opt = tf.keras.optimizers.SGD(learning_rate=0.001, momentum=0.9,\n",
    "                              nesterov=True)"
   ]
  },
  {
   "cell_type": "markdown",
   "metadata": {},
   "source": [
    "### AdaGrad\n",
    "#### Idea\n",
    "- Corrects the direction of gradient towards the optimum\n",
    "- Scales down the grad vector along the steepest dimensions\n",
    "#### Equation\n",
    "- `s = s + grad`<sub>`theta`</sub>`J(theta) * grad`<sub>`theta`</sub>`J(theta)`\n",
    "  - `*` is element-wise multiplication here\n",
    "- `theta = theta - eta * grad`<sub>`theta`</sub>`J(theta) / sqrt(s + eps)`\n",
    "  - `/` is element-wise division here\n",
    "  - <b>NOTE</b>: there's no sqrt in 3rd edition, but it's there in book_equations pdf\n",
    "#### Explanation\n",
    "- 1st step accumulates square of the grads in vector `s`\n",
    "  - `s`<sub>`i`</sub> contains partial derivative of `J` w.r.t `theta`<sub>`i`</sub>\n",
    "  - `s`<sub>`i`</sub> gets larger if cost function is steep along `i`th dim\n",
    "- 2nd step is GD step but grad vector is scaled down by a factor of `sqrt(s + eps)`\n",
    "  - eps is a smoothing term to avoid division by zero\n",
    "    - typically 10e-10\n",
    "- It decays LR, faster for steep dims than dims with gentler slopes\n",
    "  - <b>adaptive learning rate</b>\n",
    "#### Benefit\n",
    "- Points resulting updates more directly toward global optimum\n",
    "- Requires much less tuning of `eta`\n",
    "#### Drawback\n",
    "- Works well for simple quadratic problems\n",
    "- Often stops too early for NNs\n",
    "  - LR gets scaled down too much\n",
    "- Can try it for simpler tasks like Linear Regression  "
   ]
  },
  {
   "cell_type": "code",
   "execution_count": 37,
   "metadata": {},
   "outputs": [],
   "source": [
    "opt = tf.keras.optimizers.Adagrad(learning_rate=0.01)"
   ]
  },
  {
   "cell_type": "markdown",
   "metadata": {},
   "source": [
    "### RMSProp\n",
    "- Fixes the problem of adagrad slowing down too fast & not converging on global optimum\n",
    "#### The Fix\n",
    "- Accumulate only recent grads, rather than grads since beginning of training\n",
    "- This is done by using exponential decay in the 1st step\n",
    "#### Equation Modification\n",
    "- `s = p * s + (1 - p) * grad`<sub>`theta`</sub>`J(theta) * grad`<sub>`theta`</sub>`J(theta)`\n",
    "- `p` is the <b>decay rate</b>\n",
    "  - typically 0.9\n",
    "#### Benefit\n",
    "- Except on very simple problems, it almost always performs much better than AdaGrad\n",
    "\n",
    "This algo was preferred until Adam optimization"
   ]
  },
  {
   "cell_type": "code",
   "execution_count": 38,
   "metadata": {},
   "outputs": [],
   "source": [
    "opt = tf.keras.optimizers.RMSprop(learning_rate=0.001, rho=0.9)"
   ]
  },
  {
   "cell_type": "markdown",
   "metadata": {},
   "source": [
    "### Adam\n",
    "- <b>Adaptive moment estimation</b>\n",
    "- Combines momentum + RMSProp\n",
    "  - keeps track of exponentially decaying average of past grads\n",
    "    - like momentum\n",
    "  - keeps track of exponentially decaying average of past squared grads\n",
    "    - like RMSProp\n",
    "- Thse are estimations of mean and uncentered variance of the grads\n",
    "  - the mean is often called <b>first moment</b>\n",
    "  - the variance is often called <b>second moment</b>\n",
    "  - hence the name\n",
    "- Adam is adaptive Lr algo like AdaGrad, so requires less tuning of `eta`\n",
    "  - can often use `eta = 0.001` as default\n",
    "#### Equations\n",
    "- `m = beta_1 * m - (1 - beta_1) * grad`<sub>`theta`</sub>`J(theta)`\n",
    "  - `beta_1` is typically 0.9\n",
    "- `s = beta_2 * s + (1 - beta_2) * grad`<sub>`theta`</sub>`J(theta) * grad`<sub>`theta`</sub>`J(theta)`\n",
    "  - `beta_2` is typically 0.999\n",
    "- `m_hat = m / (1 - beta_1`<sup>`t`</sup>`)`\n",
    "- `s_hat = s / (1 - beta_2`<sup>`t`</sup>`)`\n",
    "- `theta = theta + eta * m_hat / sqrt(s_hat + eps)`\n",
    "  - `eps` is usually a smaller number like 10e-7\n",
    "##### Explanation\n",
    "- `t` is the iteration number\n",
    "- Only difference is step 1 computes exponentially decaying *average* rather than sum\n",
    "  - these are equivalent except for a constant factor\n",
    "    - `decaying average = (1 - beta_1) * decaying sum`\n",
    "- Steps 3 & 4 boost `m` & `s` at beginning\n",
    "  - `m` & `s` are initialized at 0 so they're biased toward 0 at the beginning"
   ]
  },
  {
   "cell_type": "code",
   "execution_count": 39,
   "metadata": {},
   "outputs": [],
   "source": [
    "opt = tf.keras.optimizers.Adam(learning_rate=0.001, beta_1=0.9, beta_2=0.999)"
   ]
  },
  {
   "cell_type": "markdown",
   "metadata": {},
   "source": [
    "### Variants of Adam\n",
    "#### AdaMax\n",
    "  - Adam scales down parameter updates by `sqrt(s)`\n",
    "    - i.e. the l2 norm of the time-decayed grads\n",
    "      - recall, l2 norm = sqrt of sum of squares\n",
    "  - AdaMax replaces l2 norm with <b>l_inf</b> norm\n",
    "    - l_inf means max\n",
    "  - step 2 becomes: `s = max(beta_2 * s, abs(grad`<sub>`theta`</sub>`J(theta)))`\n",
    "  - step 4 is dropped\n",
    "  - step 5 scales down the grad by a factor of `s`\n",
    "    - now, `s` = max of the absolute value of time-decayed grads\n",
    "  - Makes Adam more stable (depends on dataset)\n",
    "#### Nadam\n",
    "  - Adam + Nesterov trick\n",
    "  - Converges slightly faster\n",
    "  - Researcher Timothy Dozat found Nadam generally outperforms Adam, but is sometimes outperformed by RMSProp\n",
    "#### AdamW\n",
    "  - Adam + <b>weight decay</b>\n",
    "  - Adam + l2 results in models that often don't generalize well\n",
    "  - AdamW fixes it by properly combining Adam with weight decay\n",
    "##### Weight decay\n",
    "  - regularization technique\n",
    "  - reduces size of weights at each iteration\n",
    "  - multiplies them by a decay factor (e.g. 0.99)\n",
    "    - l2 also keeps weights small\n",
    "    - Mathematically, <b>l2 = weight</b> decay, *when using SGD*\n",
    "      - not when we use Adam or its variants\n",
    "  - Gives another parameter to tune"
   ]
  },
  {
   "cell_type": "markdown",
   "metadata": {},
   "source": [
    "#### NOTE\n",
    "2017 paper showed adaptive optimizations (RMSProp, Adam, AdaMax, Nadam, AdamW) can lead to poor generalizations on some datasets.\n",
    "<br>Use NAG instead, cuz dataset may be allergic to adaptive grads"
   ]
  },
  {
   "cell_type": "code",
   "execution_count": 42,
   "metadata": {},
   "outputs": [],
   "source": [
    "opt = tf.keras.optimizers.Nadam()\n",
    "opt = tf.keras.optimizers.Adamax()\n",
    "opt = tf.keras.optimizers.AdamW()"
   ]
  },
  {
   "cell_type": "markdown",
   "metadata": {},
   "source": [
    "### Higher-Order Derivatives\n",
    "- All above rely on 1st order\n",
    "- There's algos based on 2nd order partial derivatives\n",
    "  - The <b>Hessians</b>\n",
    "  - partial derivatives of the <b>Jacobians</b>\n",
    "- These algos are hard to apply to DNNs\n",
    "  - there are `n`<sup>`2`</sup> Hessians per output\n",
    "    - `n` = number of params\n",
    "  - as opposed to `n` Jacobians per output\n",
    "  - DNNs have 10s of 1000s of params or more\n",
    "- 2nd order optimization algos often don't even fit in memory\n",
    "- When they do, computing Hessians is just too slow"
   ]
  },
  {
   "cell_type": "markdown",
   "metadata": {},
   "source": [
    "### Training Sparse Models\n",
    "- Above algos produce dense models\n",
    "  - most params are non-zero\n",
    "- For blazingly fast model or less memory, may prefer a sparse model\n",
    "- One way is:\n",
    "  - Train model as usual\n",
    "  - Get rid of tiny weights (set them to 0)\n",
    "  - But:\n",
    "    - typically won't lead to a very sparse model\n",
    "    - may degrades performance\n",
    "- Better option:\n",
    "  - apply strong l1 regularization\n",
    "    - pushes optimizer to zero out as many weights as it can\n",
    "- If these techniques remain insufficient, check <b>TensorFlow Model Optimization Toolkit</b>\n",
    "  - Provides pruning API\n",
    "    - iteratively removes connections during training based on their magnitude"
   ]
  },
  {
   "cell_type": "markdown",
   "metadata": {},
   "source": [
    "### Summary\n",
    "<table>\n",
    "<thead>\n",
    "<tr>\n",
    "<th>Class</th>\n",
    "<th>Convergence Speed</th>\n",
    "<th>Convergence Quality</th>\n",
    "</tr>\n",
    "</thead>\n",
    "<tbody>\n",
    "<tr>\n",
    "<td>SGD</td>\n",
    "<td>Bad</td>\n",
    "<td>Good</td>\n",
    "</tr>\n",
    "<tr>\n",
    "<td>SGD(momentum=...)</td>\n",
    "<td>Average</td>\n",
    "<td>Good</td>\n",
    "</tr>\n",
    "<tr>\n",
    "<td>SGD(momentum=..., nesterov=True)</td>\n",
    "<td>Average</td>\n",
    "<td>Good</td>\n",
    "</tr>\n",
    "<tr>\n",
    "<td>Adagrad</td>\n",
    "<td>Good</td>\n",
    "<td>Bad (stops too early)</td>\n",
    "</tr>\n",
    "<tr>\n",
    "<td>RMSprop</td>\n",
    "<td>Good</td>\n",
    "<td>Average or Good</td>\n",
    "</tr>\n",
    "<tr>\n",
    "<td>Adam</td>\n",
    "<td>Good</td>\n",
    "<td>Average or Good</td>\n",
    "</tr>\n",
    "<tr>\n",
    "<td>AdaMax</td>\n",
    "<td>Good</td>\n",
    "<td>Average or Good</td>\n",
    "</tr>\n",
    "<tr>\n",
    "<td>Nadam</td>\n",
    "<td>Good</td>\n",
    "<td>Average or Good</td>\n",
    "</tr>\n",
    "<tr>\n",
    "<td>AdamW</td>\n",
    "<td>Good</td>\n",
    "<td>Average or Good</td>\n",
    "</tr>\n",
    "</tbody>\n",
    "</table>"
   ]
  },
  {
   "cell_type": "markdown",
   "metadata": {},
   "source": [
    "# Learning Rate Scheduling"
   ]
  },
  {
   "cell_type": "code",
   "execution_count": null,
   "metadata": {},
   "outputs": [],
   "source": []
  }
 ],
 "metadata": {
  "kernelspec": {
   "display_name": "Python 3 (ipykernel)",
   "language": "python",
   "name": "python3"
  },
  "language_info": {
   "codemirror_mode": {
    "name": "ipython",
    "version": 3
   },
   "file_extension": ".py",
   "mimetype": "text/x-python",
   "name": "python",
   "nbconvert_exporter": "python",
   "pygments_lexer": "ipython3",
   "version": "3.12.4"
  }
 },
 "nbformat": 4,
 "nbformat_minor": 4
}
